{
 "cells": [
  {
   "cell_type": "code",
   "execution_count": 87,
   "id": "685d5fa7-c05b-48e1-80e1-672141cb639b",
   "metadata": {
    "tags": []
   },
   "outputs": [
    {
     "name": "stdout",
     "output_type": "stream",
     "text": [
      "The autoreload extension is already loaded. To reload it, use:\n",
      "  %reload_ext autoreload\n"
     ]
    }
   ],
   "source": [
    "%load_ext autoreload\n",
    "%autoreload 2"
   ]
  },
  {
   "cell_type": "code",
   "execution_count": 88,
   "id": "a63db3d4-129a-4f15-a61d-09f7983ee72c",
   "metadata": {
    "tags": []
   },
   "outputs": [
    {
     "name": "stdout",
     "output_type": "stream",
     "text": [
      "Looking in indexes: https://test.pypi.org/simple/\n",
      "Requirement already satisfied: my-krml-tyl in /Users/holys/Library/Caches/pypoetry/virtualenvs/adv-mla-at3-CsoiBpiB-py3.9/lib/python3.9/site-packages (0.1.4)\n",
      "Requirement already satisfied: pandas==2.0.1 in /Users/holys/Library/Caches/pypoetry/virtualenvs/adv-mla-at3-CsoiBpiB-py3.9/lib/python3.9/site-packages (from my-krml-tyl) (2.0.1)\n",
      "Requirement already satisfied: scikit-learn==1.2.2 in /Users/holys/Library/Caches/pypoetry/virtualenvs/adv-mla-at3-CsoiBpiB-py3.9/lib/python3.9/site-packages (from my-krml-tyl) (1.2.2)\n",
      "Requirement already satisfied: python-dateutil>=2.8.2 in /Users/holys/Library/Caches/pypoetry/virtualenvs/adv-mla-at3-CsoiBpiB-py3.9/lib/python3.9/site-packages (from pandas==2.0.1->my-krml-tyl) (2.8.2)\n",
      "Requirement already satisfied: pytz>=2020.1 in /Users/holys/Library/Caches/pypoetry/virtualenvs/adv-mla-at3-CsoiBpiB-py3.9/lib/python3.9/site-packages (from pandas==2.0.1->my-krml-tyl) (2023.3.post1)\n",
      "Requirement already satisfied: tzdata>=2022.1 in /Users/holys/Library/Caches/pypoetry/virtualenvs/adv-mla-at3-CsoiBpiB-py3.9/lib/python3.9/site-packages (from pandas==2.0.1->my-krml-tyl) (2023.3)\n",
      "Requirement already satisfied: numpy>=1.20.3 in /Users/holys/Library/Caches/pypoetry/virtualenvs/adv-mla-at3-CsoiBpiB-py3.9/lib/python3.9/site-packages (from pandas==2.0.1->my-krml-tyl) (1.25.2)\n",
      "Requirement already satisfied: scipy>=1.3.2 in /Users/holys/Library/Caches/pypoetry/virtualenvs/adv-mla-at3-CsoiBpiB-py3.9/lib/python3.9/site-packages (from scikit-learn==1.2.2->my-krml-tyl) (1.9.3)\n",
      "Requirement already satisfied: joblib>=1.1.1 in /Users/holys/Library/Caches/pypoetry/virtualenvs/adv-mla-at3-CsoiBpiB-py3.9/lib/python3.9/site-packages (from scikit-learn==1.2.2->my-krml-tyl) (1.3.2)\n",
      "Requirement already satisfied: threadpoolctl>=2.0.0 in /Users/holys/Library/Caches/pypoetry/virtualenvs/adv-mla-at3-CsoiBpiB-py3.9/lib/python3.9/site-packages (from scikit-learn==1.2.2->my-krml-tyl) (3.2.0)\n",
      "Requirement already satisfied: six>=1.5 in /Users/holys/Library/Caches/pypoetry/virtualenvs/adv-mla-at3-CsoiBpiB-py3.9/lib/python3.9/site-packages (from python-dateutil>=2.8.2->pandas==2.0.1->my-krml-tyl) (1.16.0)\n"
     ]
    }
   ],
   "source": [
    "! pip install -i https://test.pypi.org/simple/ my-krml-tyl"
   ]
  },
  {
   "cell_type": "code",
   "execution_count": 89,
   "id": "95a9963b-f9a1-423a-b6c7-54049ea5b315",
   "metadata": {
    "tags": []
   },
   "outputs": [],
   "source": [
    "import pandas as pd\n",
    "import numpy as np\n",
    "df = pd.read_pickle('../data/interim/optimized_df_final.pkl')"
   ]
  },
  {
   "cell_type": "code",
   "execution_count": 90,
   "id": "4f61259e-f63e-41db-b654-d46daeeffde7",
   "metadata": {
    "tags": []
   },
   "outputs": [
    {
     "data": {
      "text/html": [
       "<div>\n",
       "<style scoped>\n",
       "    .dataframe tbody tr th:only-of-type {\n",
       "        vertical-align: middle;\n",
       "    }\n",
       "\n",
       "    .dataframe tbody tr th {\n",
       "        vertical-align: top;\n",
       "    }\n",
       "\n",
       "    .dataframe thead th {\n",
       "        text-align: right;\n",
       "    }\n",
       "</style>\n",
       "<table border=\"1\" class=\"dataframe\">\n",
       "  <thead>\n",
       "    <tr style=\"text-align: right;\">\n",
       "      <th></th>\n",
       "      <th>searchDate</th>\n",
       "      <th>flightDate</th>\n",
       "      <th>startingAirport</th>\n",
       "      <th>destinationAirport</th>\n",
       "      <th>isBasicEconomy</th>\n",
       "      <th>isRefundable</th>\n",
       "      <th>isNonStop</th>\n",
       "      <th>totalFare</th>\n",
       "      <th>totalTravelDistance</th>\n",
       "      <th>avgFare</th>\n",
       "      <th>flightDuration</th>\n",
       "      <th>cabinCode</th>\n",
       "      <th>flightDepartureHour</th>\n",
       "      <th>flightDepartureMinute</th>\n",
       "    </tr>\n",
       "  </thead>\n",
       "  <tbody>\n",
       "    <tr>\n",
       "      <th>17</th>\n",
       "      <td>2022-04-23</td>\n",
       "      <td>2022-06-17</td>\n",
       "      <td>ATL</td>\n",
       "      <td>BOS</td>\n",
       "      <td>False</td>\n",
       "      <td>False</td>\n",
       "      <td>False</td>\n",
       "      <td>302.200012</td>\n",
       "      <td>947.0</td>\n",
       "      <td>302.200012</td>\n",
       "      <td>13980</td>\n",
       "      <td>c</td>\n",
       "      <td>12</td>\n",
       "      <td>22</td>\n",
       "    </tr>\n",
       "    <tr>\n",
       "      <th>26</th>\n",
       "      <td>2022-04-23</td>\n",
       "      <td>2022-06-17</td>\n",
       "      <td>ATL</td>\n",
       "      <td>BOS</td>\n",
       "      <td>False</td>\n",
       "      <td>False</td>\n",
       "      <td>False</td>\n",
       "      <td>392.100006</td>\n",
       "      <td>956.0</td>\n",
       "      <td>392.100006</td>\n",
       "      <td>12480</td>\n",
       "      <td>c</td>\n",
       "      <td>13</td>\n",
       "      <td>0</td>\n",
       "    </tr>\n",
       "    <tr>\n",
       "      <th>138</th>\n",
       "      <td>2022-04-23</td>\n",
       "      <td>2022-06-17</td>\n",
       "      <td>ATL</td>\n",
       "      <td>DTW</td>\n",
       "      <td>True</td>\n",
       "      <td>False</td>\n",
       "      <td>False</td>\n",
       "      <td>291.200012</td>\n",
       "      <td>1278.0</td>\n",
       "      <td>291.200012</td>\n",
       "      <td>15240</td>\n",
       "      <td>c</td>\n",
       "      <td>20</td>\n",
       "      <td>0</td>\n",
       "    </tr>\n",
       "    <tr>\n",
       "      <th>237</th>\n",
       "      <td>2022-04-23</td>\n",
       "      <td>2022-06-17</td>\n",
       "      <td>ATL</td>\n",
       "      <td>LAX</td>\n",
       "      <td>True</td>\n",
       "      <td>False</td>\n",
       "      <td>False</td>\n",
       "      <td>348.200012</td>\n",
       "      <td>2245.0</td>\n",
       "      <td>348.200012</td>\n",
       "      <td>21300</td>\n",
       "      <td>c</td>\n",
       "      <td>22</td>\n",
       "      <td>50</td>\n",
       "    </tr>\n",
       "    <tr>\n",
       "      <th>319</th>\n",
       "      <td>2022-04-23</td>\n",
       "      <td>2022-06-17</td>\n",
       "      <td>ATL</td>\n",
       "      <td>LGA</td>\n",
       "      <td>True</td>\n",
       "      <td>False</td>\n",
       "      <td>False</td>\n",
       "      <td>262.200012</td>\n",
       "      <td>1118.0</td>\n",
       "      <td>262.200012</td>\n",
       "      <td>12420</td>\n",
       "      <td>c</td>\n",
       "      <td>23</td>\n",
       "      <td>54</td>\n",
       "    </tr>\n",
       "  </tbody>\n",
       "</table>\n",
       "</div>"
      ],
      "text/plain": [
       "    searchDate flightDate startingAirport destinationAirport  isBasicEconomy   \n",
       "17  2022-04-23 2022-06-17             ATL                BOS           False  \\\n",
       "26  2022-04-23 2022-06-17             ATL                BOS           False   \n",
       "138 2022-04-23 2022-06-17             ATL                DTW            True   \n",
       "237 2022-04-23 2022-06-17             ATL                LAX            True   \n",
       "319 2022-04-23 2022-06-17             ATL                LGA            True   \n",
       "\n",
       "     isRefundable  isNonStop   totalFare  totalTravelDistance     avgFare   \n",
       "17          False      False  302.200012                947.0  302.200012  \\\n",
       "26          False      False  392.100006                956.0  392.100006   \n",
       "138         False      False  291.200012               1278.0  291.200012   \n",
       "237         False      False  348.200012               2245.0  348.200012   \n",
       "319         False      False  262.200012               1118.0  262.200012   \n",
       "\n",
       "     flightDuration cabinCode  flightDepartureHour  flightDepartureMinute  \n",
       "17            13980         c                   12                     22  \n",
       "26            12480         c                   13                      0  \n",
       "138           15240         c                   20                      0  \n",
       "237           21300         c                   22                     50  \n",
       "319           12420         c                   23                     54  "
      ]
     },
     "execution_count": 90,
     "metadata": {},
     "output_type": "execute_result"
    }
   ],
   "source": [
    "df.head()"
   ]
  },
  {
   "cell_type": "code",
   "execution_count": 91,
   "id": "a512b1a6-9319-4ad9-a4f3-0ce0222d350e",
   "metadata": {
    "tags": []
   },
   "outputs": [
    {
     "data": {
      "text/plain": [
       "17      947.0\n",
       "26      956.0\n",
       "138    1278.0\n",
       "237    2245.0\n",
       "319    1118.0\n",
       "Name: totalTravelDistance, dtype: float32"
      ]
     },
     "execution_count": 91,
     "metadata": {},
     "output_type": "execute_result"
    }
   ],
   "source": [
    "df['totalTravelDistance'].head()"
   ]
  },
  {
   "cell_type": "code",
   "execution_count": 92,
   "id": "fbeafbf7-284f-4f85-be9f-2f5fd86eeca0",
   "metadata": {
    "tags": []
   },
   "outputs": [
    {
     "data": {
      "text/plain": [
       "(1721518, 14)"
      ]
     },
     "execution_count": 92,
     "metadata": {},
     "output_type": "execute_result"
    }
   ],
   "source": [
    "df.shape"
   ]
  },
  {
   "cell_type": "code",
   "execution_count": 93,
   "id": "b67ab314-1ee3-4aa2-89fd-f0e4178518a5",
   "metadata": {
    "tags": []
   },
   "outputs": [
    {
     "name": "stdout",
     "output_type": "stream",
     "text": [
      "<class 'pandas.core.frame.DataFrame'>\n",
      "Index: 1721518 entries, 17 to 13519998\n",
      "Data columns (total 14 columns):\n",
      " #   Column                 Dtype         \n",
      "---  ------                 -----         \n",
      " 0   searchDate             datetime64[ns]\n",
      " 1   flightDate             datetime64[ns]\n",
      " 2   startingAirport        category      \n",
      " 3   destinationAirport     category      \n",
      " 4   isBasicEconomy         bool          \n",
      " 5   isRefundable           bool          \n",
      " 6   isNonStop              bool          \n",
      " 7   totalFare              float32       \n",
      " 8   totalTravelDistance    float32       \n",
      " 9   avgFare                float32       \n",
      " 10  flightDuration         uint16        \n",
      " 11  cabinCode              category      \n",
      " 12  flightDepartureHour    uint8         \n",
      " 13  flightDepartureMinute  uint8         \n",
      "dtypes: bool(3), category(3), datetime64[ns](2), float32(3), uint16(1), uint8(2)\n",
      "memory usage: 75.5 MB\n"
     ]
    }
   ],
   "source": [
    "df.info()"
   ]
  },
  {
   "cell_type": "code",
   "execution_count": 94,
   "id": "3e29c2ec-03dd-4132-a334-174cdda7abaa",
   "metadata": {
    "tags": []
   },
   "outputs": [
    {
     "data": {
      "text/html": [
       "<div>\n",
       "<style scoped>\n",
       "    .dataframe tbody tr th:only-of-type {\n",
       "        vertical-align: middle;\n",
       "    }\n",
       "\n",
       "    .dataframe tbody tr th {\n",
       "        vertical-align: top;\n",
       "    }\n",
       "\n",
       "    .dataframe thead th {\n",
       "        text-align: right;\n",
       "    }\n",
       "</style>\n",
       "<table border=\"1\" class=\"dataframe\">\n",
       "  <thead>\n",
       "    <tr style=\"text-align: right;\">\n",
       "      <th></th>\n",
       "      <th>searchDate</th>\n",
       "      <th>flightDate</th>\n",
       "      <th>totalFare</th>\n",
       "      <th>totalTravelDistance</th>\n",
       "      <th>avgFare</th>\n",
       "      <th>flightDuration</th>\n",
       "      <th>flightDepartureHour</th>\n",
       "      <th>flightDepartureMinute</th>\n",
       "    </tr>\n",
       "  </thead>\n",
       "  <tbody>\n",
       "    <tr>\n",
       "      <th>count</th>\n",
       "      <td>1721518</td>\n",
       "      <td>1721518</td>\n",
       "      <td>1.721518e+06</td>\n",
       "      <td>1.721518e+06</td>\n",
       "      <td>1.721518e+06</td>\n",
       "      <td>1.721518e+06</td>\n",
       "      <td>1.721518e+06</td>\n",
       "      <td>1.721518e+06</td>\n",
       "    </tr>\n",
       "    <tr>\n",
       "      <th>mean</th>\n",
       "      <td>2022-05-01 18:37:39.249801472</td>\n",
       "      <td>2022-05-31 00:39:37.217316864</td>\n",
       "      <td>4.339669e+02</td>\n",
       "      <td>1.770345e+03</td>\n",
       "      <td>4.342004e+02</td>\n",
       "      <td>1.862113e+04</td>\n",
       "      <td>1.168175e+01</td>\n",
       "      <td>2.549481e+01</td>\n",
       "    </tr>\n",
       "    <tr>\n",
       "      <th>min</th>\n",
       "      <td>2022-04-16 00:00:00</td>\n",
       "      <td>2022-04-17 00:00:00</td>\n",
       "      <td>2.397000e+01</td>\n",
       "      <td>9.700000e+01</td>\n",
       "      <td>2.397000e+01</td>\n",
       "      <td>2.760000e+03</td>\n",
       "      <td>0.000000e+00</td>\n",
       "      <td>0.000000e+00</td>\n",
       "    </tr>\n",
       "    <tr>\n",
       "      <th>25%</th>\n",
       "      <td>2022-04-23 00:00:00</td>\n",
       "      <td>2022-05-12 00:00:00</td>\n",
       "      <td>2.672100e+02</td>\n",
       "      <td>1.104000e+03</td>\n",
       "      <td>2.688803e+02</td>\n",
       "      <td>1.356000e+04</td>\n",
       "      <td>7.000000e+00</td>\n",
       "      <td>7.000000e+00</td>\n",
       "    </tr>\n",
       "    <tr>\n",
       "      <th>50%</th>\n",
       "      <td>2022-05-02 00:00:00</td>\n",
       "      <td>2022-05-31 00:00:00</td>\n",
       "      <td>3.966000e+02</td>\n",
       "      <td>1.770345e+03</td>\n",
       "      <td>3.966900e+02</td>\n",
       "      <td>1.830000e+04</td>\n",
       "      <td>1.100000e+01</td>\n",
       "      <td>2.600000e+01</td>\n",
       "    </tr>\n",
       "    <tr>\n",
       "      <th>75%</th>\n",
       "      <td>2022-05-09 00:00:00</td>\n",
       "      <td>2022-06-18 00:00:00</td>\n",
       "      <td>5.453400e+02</td>\n",
       "      <td>2.501000e+03</td>\n",
       "      <td>5.426010e+02</td>\n",
       "      <td>2.382000e+04</td>\n",
       "      <td>1.500000e+01</td>\n",
       "      <td>4.100000e+01</td>\n",
       "    </tr>\n",
       "    <tr>\n",
       "      <th>max</th>\n",
       "      <td>2022-05-19 00:00:00</td>\n",
       "      <td>2022-07-17 00:00:00</td>\n",
       "      <td>8.260610e+03</td>\n",
       "      <td>4.430000e+03</td>\n",
       "      <td>8.260610e+03</td>\n",
       "      <td>5.910000e+04</td>\n",
       "      <td>2.300000e+01</td>\n",
       "      <td>5.900000e+01</td>\n",
       "    </tr>\n",
       "    <tr>\n",
       "      <th>std</th>\n",
       "      <td>NaN</td>\n",
       "      <td>NaN</td>\n",
       "      <td>2.536937e+02</td>\n",
       "      <td>8.083209e+02</td>\n",
       "      <td>2.499594e+02</td>\n",
       "      <td>6.643062e+03</td>\n",
       "      <td>5.093567e+00</td>\n",
       "      <td>1.894282e+01</td>\n",
       "    </tr>\n",
       "  </tbody>\n",
       "</table>\n",
       "</div>"
      ],
      "text/plain": [
       "                          searchDate                     flightDate   \n",
       "count                        1721518                        1721518  \\\n",
       "mean   2022-05-01 18:37:39.249801472  2022-05-31 00:39:37.217316864   \n",
       "min              2022-04-16 00:00:00            2022-04-17 00:00:00   \n",
       "25%              2022-04-23 00:00:00            2022-05-12 00:00:00   \n",
       "50%              2022-05-02 00:00:00            2022-05-31 00:00:00   \n",
       "75%              2022-05-09 00:00:00            2022-06-18 00:00:00   \n",
       "max              2022-05-19 00:00:00            2022-07-17 00:00:00   \n",
       "std                              NaN                            NaN   \n",
       "\n",
       "          totalFare  totalTravelDistance       avgFare  flightDuration   \n",
       "count  1.721518e+06         1.721518e+06  1.721518e+06    1.721518e+06  \\\n",
       "mean   4.339669e+02         1.770345e+03  4.342004e+02    1.862113e+04   \n",
       "min    2.397000e+01         9.700000e+01  2.397000e+01    2.760000e+03   \n",
       "25%    2.672100e+02         1.104000e+03  2.688803e+02    1.356000e+04   \n",
       "50%    3.966000e+02         1.770345e+03  3.966900e+02    1.830000e+04   \n",
       "75%    5.453400e+02         2.501000e+03  5.426010e+02    2.382000e+04   \n",
       "max    8.260610e+03         4.430000e+03  8.260610e+03    5.910000e+04   \n",
       "std    2.536937e+02         8.083209e+02  2.499594e+02    6.643062e+03   \n",
       "\n",
       "       flightDepartureHour  flightDepartureMinute  \n",
       "count         1.721518e+06           1.721518e+06  \n",
       "mean          1.168175e+01           2.549481e+01  \n",
       "min           0.000000e+00           0.000000e+00  \n",
       "25%           7.000000e+00           7.000000e+00  \n",
       "50%           1.100000e+01           2.600000e+01  \n",
       "75%           1.500000e+01           4.100000e+01  \n",
       "max           2.300000e+01           5.900000e+01  \n",
       "std           5.093567e+00           1.894282e+01  "
      ]
     },
     "execution_count": 94,
     "metadata": {},
     "output_type": "execute_result"
    }
   ],
   "source": [
    "df.describe()"
   ]
  },
  {
   "cell_type": "code",
   "execution_count": 95,
   "id": "ad6c7e34-c8ca-43d0-941b-b42962006b3d",
   "metadata": {
    "tags": []
   },
   "outputs": [
    {
     "data": {
      "text/plain": [
       "0"
      ]
     },
     "execution_count": 95,
     "metadata": {},
     "output_type": "execute_result"
    }
   ],
   "source": [
    "(df['searchDate']>df['flightDate']).sum()"
   ]
  },
  {
   "cell_type": "code",
   "execution_count": 96,
   "id": "78d96e90-7919-47c7-8ba0-dc039169f7c1",
   "metadata": {
    "tags": []
   },
   "outputs": [],
   "source": [
    "df['flightDate_month'] = df['flightDate'].dt.month\n",
    "df['flightDate_day'] = df['flightDate'].dt.day\n",
    "df['flightDate_dow'] = df['flightDate'].dt.dayofweek"
   ]
  },
  {
   "cell_type": "code",
   "execution_count": 97,
   "id": "c8c440e2-8d86-4581-911f-9c4e53cb11bd",
   "metadata": {
    "tags": []
   },
   "outputs": [
    {
     "data": {
      "text/html": [
       "<div>\n",
       "<style scoped>\n",
       "    .dataframe tbody tr th:only-of-type {\n",
       "        vertical-align: middle;\n",
       "    }\n",
       "\n",
       "    .dataframe tbody tr th {\n",
       "        vertical-align: top;\n",
       "    }\n",
       "\n",
       "    .dataframe thead th {\n",
       "        text-align: right;\n",
       "    }\n",
       "</style>\n",
       "<table border=\"1\" class=\"dataframe\">\n",
       "  <thead>\n",
       "    <tr style=\"text-align: right;\">\n",
       "      <th></th>\n",
       "      <th>flightDate</th>\n",
       "      <th>flightDate_month</th>\n",
       "      <th>flightDate_day</th>\n",
       "      <th>flightDate_dow</th>\n",
       "    </tr>\n",
       "  </thead>\n",
       "  <tbody>\n",
       "    <tr>\n",
       "      <th>17</th>\n",
       "      <td>2022-06-17</td>\n",
       "      <td>6</td>\n",
       "      <td>17</td>\n",
       "      <td>4</td>\n",
       "    </tr>\n",
       "    <tr>\n",
       "      <th>26</th>\n",
       "      <td>2022-06-17</td>\n",
       "      <td>6</td>\n",
       "      <td>17</td>\n",
       "      <td>4</td>\n",
       "    </tr>\n",
       "    <tr>\n",
       "      <th>138</th>\n",
       "      <td>2022-06-17</td>\n",
       "      <td>6</td>\n",
       "      <td>17</td>\n",
       "      <td>4</td>\n",
       "    </tr>\n",
       "    <tr>\n",
       "      <th>237</th>\n",
       "      <td>2022-06-17</td>\n",
       "      <td>6</td>\n",
       "      <td>17</td>\n",
       "      <td>4</td>\n",
       "    </tr>\n",
       "    <tr>\n",
       "      <th>319</th>\n",
       "      <td>2022-06-17</td>\n",
       "      <td>6</td>\n",
       "      <td>17</td>\n",
       "      <td>4</td>\n",
       "    </tr>\n",
       "  </tbody>\n",
       "</table>\n",
       "</div>"
      ],
      "text/plain": [
       "    flightDate  flightDate_month  flightDate_day  flightDate_dow\n",
       "17  2022-06-17                 6              17               4\n",
       "26  2022-06-17                 6              17               4\n",
       "138 2022-06-17                 6              17               4\n",
       "237 2022-06-17                 6              17               4\n",
       "319 2022-06-17                 6              17               4"
      ]
     },
     "execution_count": 97,
     "metadata": {},
     "output_type": "execute_result"
    }
   ],
   "source": [
    "df[['flightDate','flightDate_month','flightDate_day','flightDate_dow']].head()"
   ]
  },
  {
   "cell_type": "code",
   "execution_count": 98,
   "id": "1c6c1e06-bfe7-4e4a-b829-ff9a4446a0fa",
   "metadata": {
    "tags": []
   },
   "outputs": [
    {
     "data": {
      "text/plain": [
       "Index(['searchDate', 'flightDate', 'startingAirport', 'destinationAirport',\n",
       "       'isBasicEconomy', 'isRefundable', 'isNonStop', 'totalFare',\n",
       "       'totalTravelDistance', 'avgFare', 'flightDuration', 'cabinCode',\n",
       "       'flightDepartureHour', 'flightDepartureMinute', 'flightDate_month',\n",
       "       'flightDate_day', 'flightDate_dow'],\n",
       "      dtype='object')"
      ]
     },
     "execution_count": 98,
     "metadata": {},
     "output_type": "execute_result"
    }
   ],
   "source": [
    "df.columns"
   ]
  },
  {
   "cell_type": "code",
   "execution_count": 99,
   "id": "d1b51ca5-0fc9-4157-b787-0e0e9202bcdb",
   "metadata": {
    "tags": []
   },
   "outputs": [],
   "source": [
    "df.drop(['searchDate','flightDate'],axis=1, inplace = True)"
   ]
  },
  {
   "cell_type": "code",
   "execution_count": 100,
   "id": "6e5a7b74-fbec-4677-b020-5137555d84e7",
   "metadata": {
    "tags": []
   },
   "outputs": [],
   "source": [
    "from sklearn.preprocessing import LabelEncoder\n",
    "cat_cols = ['startingAirport', 'destinationAirport', 'cabinCode']"
   ]
  },
  {
   "cell_type": "code",
   "execution_count": 101,
   "id": "b0660be0-52f7-4e34-8711-a5c2d2b49686",
   "metadata": {
    "tags": []
   },
   "outputs": [
    {
     "data": {
      "text/plain": [
       "cabinCode\n",
       "c    1702922\n",
       "p       8403\n",
       "f       8402\n",
       "b       1791\n",
       "Name: count, dtype: int64"
      ]
     },
     "execution_count": 101,
     "metadata": {},
     "output_type": "execute_result"
    }
   ],
   "source": [
    "df['cabinCode'].value_counts()"
   ]
  },
  {
   "cell_type": "code",
   "execution_count": 102,
   "id": "6a1f1d75",
   "metadata": {},
   "outputs": [
    {
     "data": {
      "text/plain": [
       "0"
      ]
     },
     "execution_count": 102,
     "metadata": {},
     "output_type": "execute_result"
    }
   ],
   "source": [
    "df['totalTravelDistance'].isna().sum()"
   ]
  },
  {
   "cell_type": "code",
   "execution_count": 103,
   "id": "60567e09-5776-44ee-9284-eebd86d9bc50",
   "metadata": {
    "tags": []
   },
   "outputs": [
    {
     "data": {
      "text/html": [
       "<div>\n",
       "<style scoped>\n",
       "    .dataframe tbody tr th:only-of-type {\n",
       "        vertical-align: middle;\n",
       "    }\n",
       "\n",
       "    .dataframe tbody tr th {\n",
       "        vertical-align: top;\n",
       "    }\n",
       "\n",
       "    .dataframe thead th {\n",
       "        text-align: right;\n",
       "    }\n",
       "</style>\n",
       "<table border=\"1\" class=\"dataframe\">\n",
       "  <thead>\n",
       "    <tr style=\"text-align: right;\">\n",
       "      <th></th>\n",
       "      <th>startingAirport</th>\n",
       "      <th>destinationAirport</th>\n",
       "      <th>isBasicEconomy</th>\n",
       "      <th>isRefundable</th>\n",
       "      <th>isNonStop</th>\n",
       "      <th>totalFare</th>\n",
       "      <th>totalTravelDistance</th>\n",
       "      <th>avgFare</th>\n",
       "      <th>flightDuration</th>\n",
       "      <th>cabinCode</th>\n",
       "      <th>flightDepartureHour</th>\n",
       "      <th>flightDepartureMinute</th>\n",
       "      <th>flightDate_month</th>\n",
       "      <th>flightDate_day</th>\n",
       "      <th>flightDate_dow</th>\n",
       "    </tr>\n",
       "  </thead>\n",
       "  <tbody>\n",
       "    <tr>\n",
       "      <th>13519994</th>\n",
       "      <td>SFO</td>\n",
       "      <td>PHL</td>\n",
       "      <td>False</td>\n",
       "      <td>False</td>\n",
       "      <td>False</td>\n",
       "      <td>962.200012</td>\n",
       "      <td>2663.0</td>\n",
       "      <td>855.697998</td>\n",
       "      <td>23400</td>\n",
       "      <td>c</td>\n",
       "      <td>7</td>\n",
       "      <td>53</td>\n",
       "      <td>5</td>\n",
       "      <td>27</td>\n",
       "      <td>4</td>\n",
       "    </tr>\n",
       "    <tr>\n",
       "      <th>13519995</th>\n",
       "      <td>SFO</td>\n",
       "      <td>PHL</td>\n",
       "      <td>False</td>\n",
       "      <td>False</td>\n",
       "      <td>False</td>\n",
       "      <td>1007.859985</td>\n",
       "      <td>2978.0</td>\n",
       "      <td>734.979309</td>\n",
       "      <td>26460</td>\n",
       "      <td>c</td>\n",
       "      <td>23</td>\n",
       "      <td>35</td>\n",
       "      <td>5</td>\n",
       "      <td>27</td>\n",
       "      <td>4</td>\n",
       "    </tr>\n",
       "    <tr>\n",
       "      <th>13519996</th>\n",
       "      <td>SFO</td>\n",
       "      <td>PHL</td>\n",
       "      <td>False</td>\n",
       "      <td>False</td>\n",
       "      <td>False</td>\n",
       "      <td>1013.460022</td>\n",
       "      <td>2978.0</td>\n",
       "      <td>748.539978</td>\n",
       "      <td>26280</td>\n",
       "      <td>c</td>\n",
       "      <td>21</td>\n",
       "      <td>30</td>\n",
       "      <td>5</td>\n",
       "      <td>27</td>\n",
       "      <td>4</td>\n",
       "    </tr>\n",
       "    <tr>\n",
       "      <th>13519997</th>\n",
       "      <td>SFO</td>\n",
       "      <td>PHL</td>\n",
       "      <td>False</td>\n",
       "      <td>False</td>\n",
       "      <td>False</td>\n",
       "      <td>1133.099976</td>\n",
       "      <td>954.0</td>\n",
       "      <td>1133.099976</td>\n",
       "      <td>21900</td>\n",
       "      <td>p</td>\n",
       "      <td>6</td>\n",
       "      <td>34</td>\n",
       "      <td>5</td>\n",
       "      <td>27</td>\n",
       "      <td>4</td>\n",
       "    </tr>\n",
       "    <tr>\n",
       "      <th>13519998</th>\n",
       "      <td>SFO</td>\n",
       "      <td>PHL</td>\n",
       "      <td>False</td>\n",
       "      <td>False</td>\n",
       "      <td>False</td>\n",
       "      <td>1202.000000</td>\n",
       "      <td>3051.0</td>\n",
       "      <td>659.648865</td>\n",
       "      <td>26580</td>\n",
       "      <td>c</td>\n",
       "      <td>18</td>\n",
       "      <td>30</td>\n",
       "      <td>5</td>\n",
       "      <td>27</td>\n",
       "      <td>4</td>\n",
       "    </tr>\n",
       "  </tbody>\n",
       "</table>\n",
       "</div>"
      ],
      "text/plain": [
       "         startingAirport destinationAirport  isBasicEconomy  isRefundable   \n",
       "13519994             SFO                PHL           False         False  \\\n",
       "13519995             SFO                PHL           False         False   \n",
       "13519996             SFO                PHL           False         False   \n",
       "13519997             SFO                PHL           False         False   \n",
       "13519998             SFO                PHL           False         False   \n",
       "\n",
       "          isNonStop    totalFare  totalTravelDistance      avgFare   \n",
       "13519994      False   962.200012               2663.0   855.697998  \\\n",
       "13519995      False  1007.859985               2978.0   734.979309   \n",
       "13519996      False  1013.460022               2978.0   748.539978   \n",
       "13519997      False  1133.099976                954.0  1133.099976   \n",
       "13519998      False  1202.000000               3051.0   659.648865   \n",
       "\n",
       "          flightDuration cabinCode  flightDepartureHour   \n",
       "13519994           23400         c                    7  \\\n",
       "13519995           26460         c                   23   \n",
       "13519996           26280         c                   21   \n",
       "13519997           21900         p                    6   \n",
       "13519998           26580         c                   18   \n",
       "\n",
       "          flightDepartureMinute  flightDate_month  flightDate_day   \n",
       "13519994                     53                 5              27  \\\n",
       "13519995                     35                 5              27   \n",
       "13519996                     30                 5              27   \n",
       "13519997                     34                 5              27   \n",
       "13519998                     30                 5              27   \n",
       "\n",
       "          flightDate_dow  \n",
       "13519994               4  \n",
       "13519995               4  \n",
       "13519996               4  \n",
       "13519997               4  \n",
       "13519998               4  "
      ]
     },
     "execution_count": 103,
     "metadata": {},
     "output_type": "execute_result"
    }
   ],
   "source": [
    "df.tail()"
   ]
  },
  {
   "cell_type": "code",
   "execution_count": 104,
   "id": "0a32e4b1-754b-432f-afeb-88225cfbe35b",
   "metadata": {
    "tags": []
   },
   "outputs": [
    {
     "data": {
      "text/html": [
       "<div>\n",
       "<style scoped>\n",
       "    .dataframe tbody tr th:only-of-type {\n",
       "        vertical-align: middle;\n",
       "    }\n",
       "\n",
       "    .dataframe tbody tr th {\n",
       "        vertical-align: top;\n",
       "    }\n",
       "\n",
       "    .dataframe thead th {\n",
       "        text-align: right;\n",
       "    }\n",
       "</style>\n",
       "<table border=\"1\" class=\"dataframe\">\n",
       "  <thead>\n",
       "    <tr style=\"text-align: right;\">\n",
       "      <th></th>\n",
       "      <th>startingAirport</th>\n",
       "      <th>destinationAirport</th>\n",
       "      <th>isBasicEconomy</th>\n",
       "      <th>isRefundable</th>\n",
       "      <th>isNonStop</th>\n",
       "      <th>totalFare</th>\n",
       "      <th>totalTravelDistance</th>\n",
       "      <th>avgFare</th>\n",
       "      <th>flightDuration</th>\n",
       "      <th>cabinCode</th>\n",
       "      <th>flightDepartureHour</th>\n",
       "      <th>flightDepartureMinute</th>\n",
       "      <th>flightDate_month</th>\n",
       "      <th>flightDate_day</th>\n",
       "      <th>flightDate_dow</th>\n",
       "    </tr>\n",
       "  </thead>\n",
       "  <tbody>\n",
       "    <tr>\n",
       "      <th>17</th>\n",
       "      <td>ATL</td>\n",
       "      <td>BOS</td>\n",
       "      <td>False</td>\n",
       "      <td>False</td>\n",
       "      <td>False</td>\n",
       "      <td>302.200012</td>\n",
       "      <td>947.0</td>\n",
       "      <td>302.200012</td>\n",
       "      <td>13980</td>\n",
       "      <td>c</td>\n",
       "      <td>12</td>\n",
       "      <td>22</td>\n",
       "      <td>6</td>\n",
       "      <td>17</td>\n",
       "      <td>4</td>\n",
       "    </tr>\n",
       "    <tr>\n",
       "      <th>26</th>\n",
       "      <td>ATL</td>\n",
       "      <td>BOS</td>\n",
       "      <td>False</td>\n",
       "      <td>False</td>\n",
       "      <td>False</td>\n",
       "      <td>392.100006</td>\n",
       "      <td>956.0</td>\n",
       "      <td>392.100006</td>\n",
       "      <td>12480</td>\n",
       "      <td>c</td>\n",
       "      <td>13</td>\n",
       "      <td>0</td>\n",
       "      <td>6</td>\n",
       "      <td>17</td>\n",
       "      <td>4</td>\n",
       "    </tr>\n",
       "    <tr>\n",
       "      <th>138</th>\n",
       "      <td>ATL</td>\n",
       "      <td>DTW</td>\n",
       "      <td>True</td>\n",
       "      <td>False</td>\n",
       "      <td>False</td>\n",
       "      <td>291.200012</td>\n",
       "      <td>1278.0</td>\n",
       "      <td>291.200012</td>\n",
       "      <td>15240</td>\n",
       "      <td>c</td>\n",
       "      <td>20</td>\n",
       "      <td>0</td>\n",
       "      <td>6</td>\n",
       "      <td>17</td>\n",
       "      <td>4</td>\n",
       "    </tr>\n",
       "    <tr>\n",
       "      <th>237</th>\n",
       "      <td>ATL</td>\n",
       "      <td>LAX</td>\n",
       "      <td>True</td>\n",
       "      <td>False</td>\n",
       "      <td>False</td>\n",
       "      <td>348.200012</td>\n",
       "      <td>2245.0</td>\n",
       "      <td>348.200012</td>\n",
       "      <td>21300</td>\n",
       "      <td>c</td>\n",
       "      <td>22</td>\n",
       "      <td>50</td>\n",
       "      <td>6</td>\n",
       "      <td>17</td>\n",
       "      <td>4</td>\n",
       "    </tr>\n",
       "    <tr>\n",
       "      <th>319</th>\n",
       "      <td>ATL</td>\n",
       "      <td>LGA</td>\n",
       "      <td>True</td>\n",
       "      <td>False</td>\n",
       "      <td>False</td>\n",
       "      <td>262.200012</td>\n",
       "      <td>1118.0</td>\n",
       "      <td>262.200012</td>\n",
       "      <td>12420</td>\n",
       "      <td>c</td>\n",
       "      <td>23</td>\n",
       "      <td>54</td>\n",
       "      <td>6</td>\n",
       "      <td>17</td>\n",
       "      <td>4</td>\n",
       "    </tr>\n",
       "  </tbody>\n",
       "</table>\n",
       "</div>"
      ],
      "text/plain": [
       "    startingAirport destinationAirport  isBasicEconomy  isRefundable   \n",
       "17              ATL                BOS           False         False  \\\n",
       "26              ATL                BOS           False         False   \n",
       "138             ATL                DTW            True         False   \n",
       "237             ATL                LAX            True         False   \n",
       "319             ATL                LGA            True         False   \n",
       "\n",
       "     isNonStop   totalFare  totalTravelDistance     avgFare  flightDuration   \n",
       "17       False  302.200012                947.0  302.200012           13980  \\\n",
       "26       False  392.100006                956.0  392.100006           12480   \n",
       "138      False  291.200012               1278.0  291.200012           15240   \n",
       "237      False  348.200012               2245.0  348.200012           21300   \n",
       "319      False  262.200012               1118.0  262.200012           12420   \n",
       "\n",
       "    cabinCode  flightDepartureHour  flightDepartureMinute  flightDate_month   \n",
       "17          c                   12                     22                 6  \\\n",
       "26          c                   13                      0                 6   \n",
       "138         c                   20                      0                 6   \n",
       "237         c                   22                     50                 6   \n",
       "319         c                   23                     54                 6   \n",
       "\n",
       "     flightDate_day  flightDate_dow  \n",
       "17               17               4  \n",
       "26               17               4  \n",
       "138              17               4  \n",
       "237              17               4  \n",
       "319              17               4  "
      ]
     },
     "execution_count": 104,
     "metadata": {},
     "output_type": "execute_result"
    }
   ],
   "source": [
    "df.head()"
   ]
  },
  {
   "cell_type": "code",
   "execution_count": 105,
   "id": "dc1987ca-3975-4de6-b026-50f11962eb16",
   "metadata": {
    "tags": []
   },
   "outputs": [
    {
     "data": {
      "text/plain": [
       "Index(['startingAirport', 'destinationAirport', 'isBasicEconomy',\n",
       "       'isRefundable', 'isNonStop', 'totalFare', 'totalTravelDistance',\n",
       "       'avgFare', 'flightDuration', 'cabinCode', 'flightDepartureHour',\n",
       "       'flightDepartureMinute', 'flightDate_month', 'flightDate_day',\n",
       "       'flightDate_dow'],\n",
       "      dtype='object')"
      ]
     },
     "execution_count": 105,
     "metadata": {},
     "output_type": "execute_result"
    }
   ],
   "source": [
    "df.columns"
   ]
  },
  {
   "cell_type": "code",
   "execution_count": 106,
   "id": "4b8782ad-9c8a-4069-9561-bd78e5e0a5ac",
   "metadata": {
    "tags": []
   },
   "outputs": [
    {
     "data": {
      "text/html": [
       "<div>\n",
       "<style scoped>\n",
       "    .dataframe tbody tr th:only-of-type {\n",
       "        vertical-align: middle;\n",
       "    }\n",
       "\n",
       "    .dataframe tbody tr th {\n",
       "        vertical-align: top;\n",
       "    }\n",
       "\n",
       "    .dataframe thead th {\n",
       "        text-align: right;\n",
       "    }\n",
       "</style>\n",
       "<table border=\"1\" class=\"dataframe\">\n",
       "  <thead>\n",
       "    <tr style=\"text-align: right;\">\n",
       "      <th></th>\n",
       "      <th>startingAirport</th>\n",
       "      <th>destinationAirport</th>\n",
       "      <th>isBasicEconomy</th>\n",
       "      <th>isRefundable</th>\n",
       "      <th>isNonStop</th>\n",
       "      <th>totalFare</th>\n",
       "      <th>totalTravelDistance</th>\n",
       "      <th>avgFare</th>\n",
       "      <th>flightDuration</th>\n",
       "      <th>cabinCode</th>\n",
       "      <th>flightDepartureHour</th>\n",
       "      <th>flightDepartureMinute</th>\n",
       "      <th>flightDate_month</th>\n",
       "      <th>flightDate_day</th>\n",
       "      <th>flightDate_dow</th>\n",
       "    </tr>\n",
       "  </thead>\n",
       "  <tbody>\n",
       "    <tr>\n",
       "      <th>17</th>\n",
       "      <td>ATL</td>\n",
       "      <td>BOS</td>\n",
       "      <td>False</td>\n",
       "      <td>False</td>\n",
       "      <td>False</td>\n",
       "      <td>302.200012</td>\n",
       "      <td>947.0</td>\n",
       "      <td>302.200012</td>\n",
       "      <td>13980</td>\n",
       "      <td>c</td>\n",
       "      <td>12</td>\n",
       "      <td>22</td>\n",
       "      <td>6</td>\n",
       "      <td>17</td>\n",
       "      <td>4</td>\n",
       "    </tr>\n",
       "    <tr>\n",
       "      <th>26</th>\n",
       "      <td>ATL</td>\n",
       "      <td>BOS</td>\n",
       "      <td>False</td>\n",
       "      <td>False</td>\n",
       "      <td>False</td>\n",
       "      <td>392.100006</td>\n",
       "      <td>956.0</td>\n",
       "      <td>392.100006</td>\n",
       "      <td>12480</td>\n",
       "      <td>c</td>\n",
       "      <td>13</td>\n",
       "      <td>0</td>\n",
       "      <td>6</td>\n",
       "      <td>17</td>\n",
       "      <td>4</td>\n",
       "    </tr>\n",
       "    <tr>\n",
       "      <th>138</th>\n",
       "      <td>ATL</td>\n",
       "      <td>DTW</td>\n",
       "      <td>True</td>\n",
       "      <td>False</td>\n",
       "      <td>False</td>\n",
       "      <td>291.200012</td>\n",
       "      <td>1278.0</td>\n",
       "      <td>291.200012</td>\n",
       "      <td>15240</td>\n",
       "      <td>c</td>\n",
       "      <td>20</td>\n",
       "      <td>0</td>\n",
       "      <td>6</td>\n",
       "      <td>17</td>\n",
       "      <td>4</td>\n",
       "    </tr>\n",
       "    <tr>\n",
       "      <th>237</th>\n",
       "      <td>ATL</td>\n",
       "      <td>LAX</td>\n",
       "      <td>True</td>\n",
       "      <td>False</td>\n",
       "      <td>False</td>\n",
       "      <td>348.200012</td>\n",
       "      <td>2245.0</td>\n",
       "      <td>348.200012</td>\n",
       "      <td>21300</td>\n",
       "      <td>c</td>\n",
       "      <td>22</td>\n",
       "      <td>50</td>\n",
       "      <td>6</td>\n",
       "      <td>17</td>\n",
       "      <td>4</td>\n",
       "    </tr>\n",
       "    <tr>\n",
       "      <th>319</th>\n",
       "      <td>ATL</td>\n",
       "      <td>LGA</td>\n",
       "      <td>True</td>\n",
       "      <td>False</td>\n",
       "      <td>False</td>\n",
       "      <td>262.200012</td>\n",
       "      <td>1118.0</td>\n",
       "      <td>262.200012</td>\n",
       "      <td>12420</td>\n",
       "      <td>c</td>\n",
       "      <td>23</td>\n",
       "      <td>54</td>\n",
       "      <td>6</td>\n",
       "      <td>17</td>\n",
       "      <td>4</td>\n",
       "    </tr>\n",
       "  </tbody>\n",
       "</table>\n",
       "</div>"
      ],
      "text/plain": [
       "    startingAirport destinationAirport  isBasicEconomy  isRefundable   \n",
       "17              ATL                BOS           False         False  \\\n",
       "26              ATL                BOS           False         False   \n",
       "138             ATL                DTW            True         False   \n",
       "237             ATL                LAX            True         False   \n",
       "319             ATL                LGA            True         False   \n",
       "\n",
       "     isNonStop   totalFare  totalTravelDistance     avgFare  flightDuration   \n",
       "17       False  302.200012                947.0  302.200012           13980  \\\n",
       "26       False  392.100006                956.0  392.100006           12480   \n",
       "138      False  291.200012               1278.0  291.200012           15240   \n",
       "237      False  348.200012               2245.0  348.200012           21300   \n",
       "319      False  262.200012               1118.0  262.200012           12420   \n",
       "\n",
       "    cabinCode  flightDepartureHour  flightDepartureMinute  flightDate_month   \n",
       "17          c                   12                     22                 6  \\\n",
       "26          c                   13                      0                 6   \n",
       "138         c                   20                      0                 6   \n",
       "237         c                   22                     50                 6   \n",
       "319         c                   23                     54                 6   \n",
       "\n",
       "     flightDate_day  flightDate_dow  \n",
       "17               17               4  \n",
       "26               17               4  \n",
       "138              17               4  \n",
       "237              17               4  \n",
       "319              17               4  "
      ]
     },
     "execution_count": 106,
     "metadata": {},
     "output_type": "execute_result"
    }
   ],
   "source": [
    "df.head()"
   ]
  },
  {
   "cell_type": "code",
   "execution_count": 107,
   "id": "45961bf9-ed8b-4aab-984b-7f486ec1b868",
   "metadata": {
    "tags": []
   },
   "outputs": [
    {
     "name": "stdout",
     "output_type": "stream",
     "text": [
      "<class 'pandas.core.frame.DataFrame'>\n",
      "Index: 1721518 entries, 17 to 13519998\n",
      "Data columns (total 15 columns):\n",
      " #   Column                 Dtype   \n",
      "---  ------                 -----   \n",
      " 0   startingAirport        category\n",
      " 1   destinationAirport     category\n",
      " 2   isBasicEconomy         bool    \n",
      " 3   isRefundable           bool    \n",
      " 4   isNonStop              bool    \n",
      " 5   totalFare              float32 \n",
      " 6   totalTravelDistance    float32 \n",
      " 7   avgFare                float32 \n",
      " 8   flightDuration         uint16  \n",
      " 9   cabinCode              category\n",
      " 10  flightDepartureHour    uint8   \n",
      " 11  flightDepartureMinute  uint8   \n",
      " 12  flightDate_month       int32   \n",
      " 13  flightDate_day         int32   \n",
      " 14  flightDate_dow         int32   \n",
      "dtypes: bool(3), category(3), float32(3), int32(3), uint16(1), uint8(2)\n",
      "memory usage: 69.0 MB\n"
     ]
    }
   ],
   "source": [
    "df.info()"
   ]
  },
  {
   "cell_type": "code",
   "execution_count": 108,
   "id": "ea1232f3-4caf-4689-8474-5bbddd1768a0",
   "metadata": {
    "tags": []
   },
   "outputs": [],
   "source": [
    "df['isBasicEconomy'] = df['isBasicEconomy'].astype(int)"
   ]
  },
  {
   "cell_type": "code",
   "execution_count": 109,
   "id": "6805f5fd-de1b-402f-8ebc-54786846c55a",
   "metadata": {
    "tags": []
   },
   "outputs": [],
   "source": [
    "df['isRefundable'] = df['isRefundable'].astype(int)"
   ]
  },
  {
   "cell_type": "code",
   "execution_count": 110,
   "id": "2b205d16-054a-47b5-8d55-39df0b36adac",
   "metadata": {
    "tags": []
   },
   "outputs": [],
   "source": [
    "df['isNonStop'] = df['isNonStop'].astype(int)"
   ]
  },
  {
   "cell_type": "code",
   "execution_count": 111,
   "id": "8763e4ca-40fa-4a51-a011-9063f6af8696",
   "metadata": {
    "tags": []
   },
   "outputs": [],
   "source": [
    "df.drop(['totalFare'],axis=1, inplace = True)"
   ]
  },
  {
   "cell_type": "code",
   "execution_count": 112,
   "id": "796131fb-cd20-4cb3-afbf-920f6cd5c053",
   "metadata": {
    "tags": []
   },
   "outputs": [
    {
     "data": {
      "text/html": [
       "<div>\n",
       "<style scoped>\n",
       "    .dataframe tbody tr th:only-of-type {\n",
       "        vertical-align: middle;\n",
       "    }\n",
       "\n",
       "    .dataframe tbody tr th {\n",
       "        vertical-align: top;\n",
       "    }\n",
       "\n",
       "    .dataframe thead th {\n",
       "        text-align: right;\n",
       "    }\n",
       "</style>\n",
       "<table border=\"1\" class=\"dataframe\">\n",
       "  <thead>\n",
       "    <tr style=\"text-align: right;\">\n",
       "      <th></th>\n",
       "      <th>startingAirport</th>\n",
       "      <th>destinationAirport</th>\n",
       "      <th>isBasicEconomy</th>\n",
       "      <th>isRefundable</th>\n",
       "      <th>isNonStop</th>\n",
       "      <th>totalTravelDistance</th>\n",
       "      <th>avgFare</th>\n",
       "      <th>flightDuration</th>\n",
       "      <th>cabinCode</th>\n",
       "      <th>flightDepartureHour</th>\n",
       "      <th>flightDepartureMinute</th>\n",
       "      <th>flightDate_month</th>\n",
       "      <th>flightDate_day</th>\n",
       "      <th>flightDate_dow</th>\n",
       "    </tr>\n",
       "  </thead>\n",
       "  <tbody>\n",
       "    <tr>\n",
       "      <th>17</th>\n",
       "      <td>ATL</td>\n",
       "      <td>BOS</td>\n",
       "      <td>0</td>\n",
       "      <td>0</td>\n",
       "      <td>0</td>\n",
       "      <td>947.0</td>\n",
       "      <td>302.200012</td>\n",
       "      <td>13980</td>\n",
       "      <td>c</td>\n",
       "      <td>12</td>\n",
       "      <td>22</td>\n",
       "      <td>6</td>\n",
       "      <td>17</td>\n",
       "      <td>4</td>\n",
       "    </tr>\n",
       "    <tr>\n",
       "      <th>26</th>\n",
       "      <td>ATL</td>\n",
       "      <td>BOS</td>\n",
       "      <td>0</td>\n",
       "      <td>0</td>\n",
       "      <td>0</td>\n",
       "      <td>956.0</td>\n",
       "      <td>392.100006</td>\n",
       "      <td>12480</td>\n",
       "      <td>c</td>\n",
       "      <td>13</td>\n",
       "      <td>0</td>\n",
       "      <td>6</td>\n",
       "      <td>17</td>\n",
       "      <td>4</td>\n",
       "    </tr>\n",
       "    <tr>\n",
       "      <th>138</th>\n",
       "      <td>ATL</td>\n",
       "      <td>DTW</td>\n",
       "      <td>1</td>\n",
       "      <td>0</td>\n",
       "      <td>0</td>\n",
       "      <td>1278.0</td>\n",
       "      <td>291.200012</td>\n",
       "      <td>15240</td>\n",
       "      <td>c</td>\n",
       "      <td>20</td>\n",
       "      <td>0</td>\n",
       "      <td>6</td>\n",
       "      <td>17</td>\n",
       "      <td>4</td>\n",
       "    </tr>\n",
       "    <tr>\n",
       "      <th>237</th>\n",
       "      <td>ATL</td>\n",
       "      <td>LAX</td>\n",
       "      <td>1</td>\n",
       "      <td>0</td>\n",
       "      <td>0</td>\n",
       "      <td>2245.0</td>\n",
       "      <td>348.200012</td>\n",
       "      <td>21300</td>\n",
       "      <td>c</td>\n",
       "      <td>22</td>\n",
       "      <td>50</td>\n",
       "      <td>6</td>\n",
       "      <td>17</td>\n",
       "      <td>4</td>\n",
       "    </tr>\n",
       "    <tr>\n",
       "      <th>319</th>\n",
       "      <td>ATL</td>\n",
       "      <td>LGA</td>\n",
       "      <td>1</td>\n",
       "      <td>0</td>\n",
       "      <td>0</td>\n",
       "      <td>1118.0</td>\n",
       "      <td>262.200012</td>\n",
       "      <td>12420</td>\n",
       "      <td>c</td>\n",
       "      <td>23</td>\n",
       "      <td>54</td>\n",
       "      <td>6</td>\n",
       "      <td>17</td>\n",
       "      <td>4</td>\n",
       "    </tr>\n",
       "  </tbody>\n",
       "</table>\n",
       "</div>"
      ],
      "text/plain": [
       "    startingAirport destinationAirport  isBasicEconomy  isRefundable   \n",
       "17              ATL                BOS               0             0  \\\n",
       "26              ATL                BOS               0             0   \n",
       "138             ATL                DTW               1             0   \n",
       "237             ATL                LAX               1             0   \n",
       "319             ATL                LGA               1             0   \n",
       "\n",
       "     isNonStop  totalTravelDistance     avgFare  flightDuration cabinCode   \n",
       "17           0                947.0  302.200012           13980         c  \\\n",
       "26           0                956.0  392.100006           12480         c   \n",
       "138          0               1278.0  291.200012           15240         c   \n",
       "237          0               2245.0  348.200012           21300         c   \n",
       "319          0               1118.0  262.200012           12420         c   \n",
       "\n",
       "     flightDepartureHour  flightDepartureMinute  flightDate_month   \n",
       "17                    12                     22                 6  \\\n",
       "26                    13                      0                 6   \n",
       "138                   20                      0                 6   \n",
       "237                   22                     50                 6   \n",
       "319                   23                     54                 6   \n",
       "\n",
       "     flightDate_day  flightDate_dow  \n",
       "17               17               4  \n",
       "26               17               4  \n",
       "138              17               4  \n",
       "237              17               4  \n",
       "319              17               4  "
      ]
     },
     "execution_count": 112,
     "metadata": {},
     "output_type": "execute_result"
    }
   ],
   "source": [
    "df.head()"
   ]
  },
  {
   "cell_type": "code",
   "execution_count": 113,
   "id": "aca21f47-20b5-4ab7-8525-89a82f08bde1",
   "metadata": {
    "tags": []
   },
   "outputs": [
    {
     "data": {
      "text/plain": [
       "(1721518, 14)"
      ]
     },
     "execution_count": 113,
     "metadata": {},
     "output_type": "execute_result"
    }
   ],
   "source": [
    "df.shape"
   ]
  },
  {
   "cell_type": "code",
   "execution_count": 114,
   "id": "ac23bd58-3e4a-472b-8255-3e9eaf00a892",
   "metadata": {
    "tags": []
   },
   "outputs": [],
   "source": [
    "df_cleaned=df.copy()"
   ]
  },
  {
   "cell_type": "code",
   "execution_count": 115,
   "id": "050892f9-0d16-4dbf-807b-b55fca206405",
   "metadata": {
    "tags": []
   },
   "outputs": [],
   "source": [
    "from my_krml_tyl.data.sets import pop_target\n",
    "df_cleaned, target = pop_target(df_cleaned, target_col='avgFare')"
   ]
  },
  {
   "cell_type": "code",
   "execution_count": 116,
   "id": "7f5627a2-1cb9-4eed-b55a-36cc2f0c7fbf",
   "metadata": {},
   "outputs": [],
   "source": [
    "from sklearn.preprocessing import OneHotEncoder, StandardScaler, OrdinalEncoder\n",
    "num_cols = ['isBasicEconomy',\n",
    "       'isRefundable', 'isNonStop', 'flightDepartureHour',\n",
    "       'flightDepartureMinute', 'flightDate_month', 'flightDate_day',\n",
    "       'flightDate_dow']"
   ]
  },
  {
   "cell_type": "code",
   "execution_count": 117,
   "id": "e7ec5a56-0228-49e9-a999-64e86f877786",
   "metadata": {},
   "outputs": [],
   "source": [
    "cat_cols = ['startingAirport', 'destinationAirport']"
   ]
  },
  {
   "cell_type": "code",
   "execution_count": 118,
   "id": "19af3445-8305-49ed-9fe5-483ba65b3281",
   "metadata": {},
   "outputs": [],
   "source": [
    "scaler = StandardScaler()"
   ]
  },
  {
   "cell_type": "code",
   "execution_count": 119,
   "id": "df45e2da-e051-48b8-a2ea-b572e6a54f74",
   "metadata": {},
   "outputs": [],
   "source": [
    "num_features = pd.DataFrame(scaler.fit_transform(df_cleaned[num_cols]), columns=df_cleaned[num_cols].columns)"
   ]
  },
  {
   "cell_type": "code",
   "execution_count": 120,
   "id": "727d4ecc-3c8d-43c8-9a8c-690b819396dc",
   "metadata": {
    "tags": []
   },
   "outputs": [],
   "source": [
    "ohe = OneHotEncoder(sparse_output=False, drop='first')"
   ]
  },
  {
   "cell_type": "code",
   "execution_count": 121,
   "id": "2841ab0e-acaf-46dd-abdf-289d72c72e67",
   "metadata": {
    "tags": []
   },
   "outputs": [],
   "source": [
    "cat_features = ohe.fit_transform(df_cleaned[cat_cols])"
   ]
  },
  {
   "cell_type": "code",
   "execution_count": 122,
   "id": "740ef474-d225-4fa0-964b-183de0779f17",
   "metadata": {
    "tags": []
   },
   "outputs": [],
   "source": [
    "cat_features = pd.DataFrame(cat_features, columns=ohe.get_feature_names_out())"
   ]
  },
  {
   "cell_type": "code",
   "execution_count": 123,
   "id": "6db668df-9e7e-41f3-92ce-b45dc47f8892",
   "metadata": {
    "tags": []
   },
   "outputs": [],
   "source": [
    "cabin_ord = OrdinalEncoder(categories=[['c','p','f','b']])\n",
    "ord_cabin_feature = cabin_ord.fit_transform(df_cleaned[['cabinCode']])\n",
    "ord_cabin_feature = pd.DataFrame(ord_cabin_feature, columns=['cabinCode'])"
   ]
  },
  {
   "cell_type": "code",
   "execution_count": 124,
   "id": "c06cfbda-426d-4f87-b0cd-51ba6b01e84b",
   "metadata": {
    "tags": []
   },
   "outputs": [],
   "source": [
    "features = num_features.copy()\n",
    "features[ohe.get_feature_names_out()] = cat_features[ohe.get_feature_names_out()]\n",
    "features['cabinCode'] = ord_cabin_feature['cabinCode']"
   ]
  },
  {
   "cell_type": "code",
   "execution_count": 125,
   "id": "ea9e981b-9b41-4c09-bdea-b7ee4f299790",
   "metadata": {
    "tags": []
   },
   "outputs": [],
   "source": [
    "#features.to_csv('../data/interim/dataset_prepared.csv', index=False)"
   ]
  },
  {
   "cell_type": "code",
   "execution_count": 126,
   "id": "60c203c6-2e16-4545-a16a-febe5f9a9e44",
   "metadata": {},
   "outputs": [
    {
     "data": {
      "text/plain": [
       "['../models/cabin_ord.joblib']"
      ]
     },
     "execution_count": 126,
     "metadata": {},
     "output_type": "execute_result"
    }
   ],
   "source": [
    "from joblib import dump\n",
    "dump(scaler, '../models/scaler.joblib')\n",
    "dump(ohe, '../models/ohe.joblib')\n",
    "dump(cabin_ord, '../models/cabin_ord.joblib')"
   ]
  },
  {
   "cell_type": "code",
   "execution_count": 127,
   "id": "4a616f6b-31ad-4606-8529-47f0b43fd1df",
   "metadata": {
    "tags": []
   },
   "outputs": [],
   "source": [
    "from my_krml_tyl.data.sets import split_sets_random\n",
    "\n",
    "X_train, y_train, X_val, y_val, X_test, y_test = split_sets_random(features, target, test_ratio=0.2)"
   ]
  },
  {
   "cell_type": "code",
   "execution_count": 128,
   "id": "eafd9b77-150c-42e1-a082-4c0057abe567",
   "metadata": {
    "tags": []
   },
   "outputs": [],
   "source": [
    "from my_krml_tyl.data.sets import save_sets\n",
    "\n",
    "save_sets(X_train, y_train, X_val, y_val, X_test, y_test, path='../data/processed/')"
   ]
  },
  {
   "cell_type": "code",
   "execution_count": 129,
   "id": "eeb031b9-98a2-4e7e-aa93-84526c104f0b",
   "metadata": {
    "tags": []
   },
   "outputs": [],
   "source": [
    "from my_krml_tyl.models.null import NullRegressor"
   ]
  },
  {
   "cell_type": "code",
   "execution_count": 130,
   "id": "6ff5880f-b022-4f88-8629-2a13805eaa9b",
   "metadata": {
    "tags": []
   },
   "outputs": [],
   "source": [
    "base_model = NullRegressor()"
   ]
  },
  {
   "cell_type": "code",
   "execution_count": 131,
   "id": "c53699be-8cb1-4874-8ca9-d7625105b9a3",
   "metadata": {
    "tags": []
   },
   "outputs": [],
   "source": [
    "y_base = base_model.fit_predict(y_train)"
   ]
  },
  {
   "cell_type": "code",
   "execution_count": 132,
   "id": "6aa7ef86-245e-453a-b604-1575d3a7be8d",
   "metadata": {
    "tags": []
   },
   "outputs": [
    {
     "name": "stdout",
     "output_type": "stream",
     "text": [
      "RMSE Training: 249.4920654296875\n",
      "MAE Training: 171.6578826904297\n"
     ]
    }
   ],
   "source": [
    "from my_krml_tyl.models.performance import print_regressor_scores\n",
    "\n",
    "print_regressor_scores(y_preds=y_base, y_actuals=y_train, set_name='Training')\n",
    "\n",
    "#RMSE Training: 208.55026245117188\n",
    "#MAE Training: 156.4805145263672\n",
    "\n",
    "\n",
    "#RMSE Training: 249.4920654296875\n",
    "#MAE Training: 171.6578826904297\n"
   ]
  },
  {
   "cell_type": "code",
   "execution_count": 133,
   "id": "c9cc5fe9-0738-46a8-b2a0-cb574eb69b6f",
   "metadata": {
    "tags": []
   },
   "outputs": [
    {
     "data": {
      "text/plain": [
       "(1032910, 39)"
      ]
     },
     "execution_count": 133,
     "metadata": {},
     "output_type": "execute_result"
    }
   ],
   "source": [
    "X_train.shape"
   ]
  },
  {
   "cell_type": "code",
   "execution_count": 134,
   "id": "45bc7fbb-b55a-4d2c-b6cc-483263c7d641",
   "metadata": {
    "tags": []
   },
   "outputs": [
    {
     "data": {
      "text/html": [
       "<div>\n",
       "<style scoped>\n",
       "    .dataframe tbody tr th:only-of-type {\n",
       "        vertical-align: middle;\n",
       "    }\n",
       "\n",
       "    .dataframe tbody tr th {\n",
       "        vertical-align: top;\n",
       "    }\n",
       "\n",
       "    .dataframe thead th {\n",
       "        text-align: right;\n",
       "    }\n",
       "</style>\n",
       "<table border=\"1\" class=\"dataframe\">\n",
       "  <thead>\n",
       "    <tr style=\"text-align: right;\">\n",
       "      <th></th>\n",
       "      <th>isBasicEconomy</th>\n",
       "      <th>isRefundable</th>\n",
       "      <th>isNonStop</th>\n",
       "      <th>flightDepartureHour</th>\n",
       "      <th>flightDepartureMinute</th>\n",
       "      <th>flightDate_month</th>\n",
       "      <th>flightDate_day</th>\n",
       "      <th>flightDate_dow</th>\n",
       "      <th>startingAirport_BOS</th>\n",
       "      <th>startingAirport_CLT</th>\n",
       "      <th>...</th>\n",
       "      <th>destinationAirport_IAD</th>\n",
       "      <th>destinationAirport_JFK</th>\n",
       "      <th>destinationAirport_LAX</th>\n",
       "      <th>destinationAirport_LGA</th>\n",
       "      <th>destinationAirport_MIA</th>\n",
       "      <th>destinationAirport_OAK</th>\n",
       "      <th>destinationAirport_ORD</th>\n",
       "      <th>destinationAirport_PHL</th>\n",
       "      <th>destinationAirport_SFO</th>\n",
       "      <th>cabinCode</th>\n",
       "    </tr>\n",
       "  </thead>\n",
       "  <tbody>\n",
       "    <tr>\n",
       "      <th>1036894</th>\n",
       "      <td>-0.217611</td>\n",
       "      <td>-0.006377</td>\n",
       "      <td>-0.424325</td>\n",
       "      <td>-1.115477</td>\n",
       "      <td>-1.345883</td>\n",
       "      <td>0.593749</td>\n",
       "      <td>0.849816</td>\n",
       "      <td>0.041947</td>\n",
       "      <td>0.0</td>\n",
       "      <td>0.0</td>\n",
       "      <td>...</td>\n",
       "      <td>1.0</td>\n",
       "      <td>0.0</td>\n",
       "      <td>0.0</td>\n",
       "      <td>0.0</td>\n",
       "      <td>0.0</td>\n",
       "      <td>0.0</td>\n",
       "      <td>0.0</td>\n",
       "      <td>0.0</td>\n",
       "      <td>0.0</td>\n",
       "      <td>0.0</td>\n",
       "    </tr>\n",
       "    <tr>\n",
       "      <th>1354541</th>\n",
       "      <td>-0.217611</td>\n",
       "      <td>-0.006377</td>\n",
       "      <td>-0.424325</td>\n",
       "      <td>-0.919150</td>\n",
       "      <td>-0.501236</td>\n",
       "      <td>-0.589412</td>\n",
       "      <td>-0.182238</td>\n",
       "      <td>1.047377</td>\n",
       "      <td>0.0</td>\n",
       "      <td>0.0</td>\n",
       "      <td>...</td>\n",
       "      <td>0.0</td>\n",
       "      <td>0.0</td>\n",
       "      <td>0.0</td>\n",
       "      <td>0.0</td>\n",
       "      <td>0.0</td>\n",
       "      <td>0.0</td>\n",
       "      <td>0.0</td>\n",
       "      <td>0.0</td>\n",
       "      <td>1.0</td>\n",
       "      <td>0.0</td>\n",
       "    </tr>\n",
       "    <tr>\n",
       "      <th>924388</th>\n",
       "      <td>-0.217611</td>\n",
       "      <td>-0.006377</td>\n",
       "      <td>-0.424325</td>\n",
       "      <td>-0.330172</td>\n",
       "      <td>0.237831</td>\n",
       "      <td>-1.772573</td>\n",
       "      <td>0.964489</td>\n",
       "      <td>1.550092</td>\n",
       "      <td>0.0</td>\n",
       "      <td>0.0</td>\n",
       "      <td>...</td>\n",
       "      <td>0.0</td>\n",
       "      <td>0.0</td>\n",
       "      <td>0.0</td>\n",
       "      <td>0.0</td>\n",
       "      <td>0.0</td>\n",
       "      <td>1.0</td>\n",
       "      <td>0.0</td>\n",
       "      <td>0.0</td>\n",
       "      <td>0.0</td>\n",
       "      <td>0.0</td>\n",
       "    </tr>\n",
       "    <tr>\n",
       "      <th>1406329</th>\n",
       "      <td>-0.217611</td>\n",
       "      <td>-0.006377</td>\n",
       "      <td>-0.424325</td>\n",
       "      <td>-0.919150</td>\n",
       "      <td>0.237831</td>\n",
       "      <td>0.593749</td>\n",
       "      <td>-1.214293</td>\n",
       "      <td>1.550092</td>\n",
       "      <td>0.0</td>\n",
       "      <td>0.0</td>\n",
       "      <td>...</td>\n",
       "      <td>0.0</td>\n",
       "      <td>0.0</td>\n",
       "      <td>0.0</td>\n",
       "      <td>0.0</td>\n",
       "      <td>0.0</td>\n",
       "      <td>0.0</td>\n",
       "      <td>0.0</td>\n",
       "      <td>0.0</td>\n",
       "      <td>0.0</td>\n",
       "      <td>0.0</td>\n",
       "    </tr>\n",
       "    <tr>\n",
       "      <th>562863</th>\n",
       "      <td>-0.217611</td>\n",
       "      <td>-0.006377</td>\n",
       "      <td>-0.424325</td>\n",
       "      <td>-0.133846</td>\n",
       "      <td>1.293640</td>\n",
       "      <td>0.593749</td>\n",
       "      <td>-0.984948</td>\n",
       "      <td>-0.963483</td>\n",
       "      <td>0.0</td>\n",
       "      <td>0.0</td>\n",
       "      <td>...</td>\n",
       "      <td>0.0</td>\n",
       "      <td>0.0</td>\n",
       "      <td>0.0</td>\n",
       "      <td>0.0</td>\n",
       "      <td>1.0</td>\n",
       "      <td>0.0</td>\n",
       "      <td>0.0</td>\n",
       "      <td>0.0</td>\n",
       "      <td>0.0</td>\n",
       "      <td>0.0</td>\n",
       "    </tr>\n",
       "  </tbody>\n",
       "</table>\n",
       "<p>5 rows × 39 columns</p>\n",
       "</div>"
      ],
      "text/plain": [
       "         isBasicEconomy  isRefundable  isNonStop  flightDepartureHour   \n",
       "1036894       -0.217611     -0.006377  -0.424325            -1.115477  \\\n",
       "1354541       -0.217611     -0.006377  -0.424325            -0.919150   \n",
       "924388        -0.217611     -0.006377  -0.424325            -0.330172   \n",
       "1406329       -0.217611     -0.006377  -0.424325            -0.919150   \n",
       "562863        -0.217611     -0.006377  -0.424325            -0.133846   \n",
       "\n",
       "         flightDepartureMinute  flightDate_month  flightDate_day   \n",
       "1036894              -1.345883          0.593749        0.849816  \\\n",
       "1354541              -0.501236         -0.589412       -0.182238   \n",
       "924388                0.237831         -1.772573        0.964489   \n",
       "1406329               0.237831          0.593749       -1.214293   \n",
       "562863                1.293640          0.593749       -0.984948   \n",
       "\n",
       "         flightDate_dow  startingAirport_BOS  startingAirport_CLT  ...   \n",
       "1036894        0.041947                  0.0                  0.0  ...  \\\n",
       "1354541        1.047377                  0.0                  0.0  ...   \n",
       "924388         1.550092                  0.0                  0.0  ...   \n",
       "1406329        1.550092                  0.0                  0.0  ...   \n",
       "562863        -0.963483                  0.0                  0.0  ...   \n",
       "\n",
       "         destinationAirport_IAD  destinationAirport_JFK   \n",
       "1036894                     1.0                     0.0  \\\n",
       "1354541                     0.0                     0.0   \n",
       "924388                      0.0                     0.0   \n",
       "1406329                     0.0                     0.0   \n",
       "562863                      0.0                     0.0   \n",
       "\n",
       "         destinationAirport_LAX  destinationAirport_LGA   \n",
       "1036894                     0.0                     0.0  \\\n",
       "1354541                     0.0                     0.0   \n",
       "924388                      0.0                     0.0   \n",
       "1406329                     0.0                     0.0   \n",
       "562863                      0.0                     0.0   \n",
       "\n",
       "         destinationAirport_MIA  destinationAirport_OAK   \n",
       "1036894                     0.0                     0.0  \\\n",
       "1354541                     0.0                     0.0   \n",
       "924388                      0.0                     1.0   \n",
       "1406329                     0.0                     0.0   \n",
       "562863                      1.0                     0.0   \n",
       "\n",
       "         destinationAirport_ORD  destinationAirport_PHL   \n",
       "1036894                     0.0                     0.0  \\\n",
       "1354541                     0.0                     0.0   \n",
       "924388                      0.0                     0.0   \n",
       "1406329                     0.0                     0.0   \n",
       "562863                      0.0                     0.0   \n",
       "\n",
       "         destinationAirport_SFO  cabinCode  \n",
       "1036894                     0.0        0.0  \n",
       "1354541                     1.0        0.0  \n",
       "924388                      0.0        0.0  \n",
       "1406329                     0.0        0.0  \n",
       "562863                      0.0        0.0  \n",
       "\n",
       "[5 rows x 39 columns]"
      ]
     },
     "execution_count": 134,
     "metadata": {},
     "output_type": "execute_result"
    }
   ],
   "source": [
    "X_train.head()"
   ]
  },
  {
   "cell_type": "code",
   "execution_count": 135,
   "id": "955548c1-8255-45f0-9253-7304063617ef",
   "metadata": {
    "tags": []
   },
   "outputs": [],
   "source": [
    "from sklearn.ensemble import AdaBoostRegressor"
   ]
  },
  {
   "cell_type": "code",
   "execution_count": 136,
   "id": "5a61352e-3d2a-43e0-af9c-37449e3276b8",
   "metadata": {
    "tags": []
   },
   "outputs": [],
   "source": [
    "model = AdaBoostRegressor(random_state=0, n_estimators=50, learning_rate=0.05, loss='square')"
   ]
  },
  {
   "cell_type": "code",
   "execution_count": 137,
   "id": "889444d5-8609-4c8f-b3da-c685834ef5a8",
   "metadata": {
    "tags": []
   },
   "outputs": [],
   "source": [
    "from my_krml_tyl.models.performance import fit_assess_regressor"
   ]
  },
  {
   "cell_type": "code",
   "execution_count": 138,
   "id": "9e3b8791-3963-486d-aa55-7e221dba5d80",
   "metadata": {
    "tags": []
   },
   "outputs": [
    {
     "name": "stdout",
     "output_type": "stream",
     "text": [
      "RMSE Training: 224.09421898798354\n",
      "MAE Training: 156.99892194601674\n",
      "RMSE Validation: 224.48093335465606\n",
      "MAE Validation: 157.06643197084387\n"
     ]
    }
   ],
   "source": [
    "model = fit_assess_regressor(model, X_train, y_train, X_val, y_val)"
   ]
  },
  {
   "cell_type": "code",
   "execution_count": 139,
   "id": "35f52074",
   "metadata": {},
   "outputs": [],
   "source": [
    "from my_krml_tyl.models.performance import assess_regressor_set"
   ]
  },
  {
   "cell_type": "code",
   "execution_count": 140,
   "id": "34565e81",
   "metadata": {},
   "outputs": [
    {
     "name": "stdout",
     "output_type": "stream",
     "text": [
      "RMSE Testing: 224.15951157797332\n",
      "MAE Testing: 156.96717420619134\n"
     ]
    }
   ],
   "source": [
    "model = assess_regressor_set(model, X_test, y_test, 'Testing')"
   ]
  },
  {
   "cell_type": "code",
   "execution_count": 141,
   "id": "0689e2b8-75d3-4d2d-8f91-8961c4ac8366",
   "metadata": {
    "tags": []
   },
   "outputs": [
    {
     "data": {
      "text/plain": [
       "['../models/adaboost.joblib']"
      ]
     },
     "execution_count": 141,
     "metadata": {},
     "output_type": "execute_result"
    }
   ],
   "source": [
    "dump(model,  '../models/adaboost.joblib')"
   ]
  },
  {
   "cell_type": "code",
   "execution_count": 142,
   "id": "2485b16f-1eae-47e4-b962-610c4e1e9a82",
   "metadata": {
    "tags": []
   },
   "outputs": [
    {
     "data": {
      "text/plain": [
       "array([0., 3., 1., 2.])"
      ]
     },
     "execution_count": 142,
     "metadata": {},
     "output_type": "execute_result"
    }
   ],
   "source": [
    "X_train['cabinCode'].unique()"
   ]
  },
  {
   "cell_type": "code",
   "execution_count": 143,
   "id": "984fbefc-4088-4040-8682-fc7da35945c4",
   "metadata": {
    "tags": []
   },
   "outputs": [],
   "source": [
    "from sklearn.pipeline import Pipeline"
   ]
  },
  {
   "cell_type": "code",
   "execution_count": 144,
   "id": "13e14227-77a1-40aa-ad04-3aa559c94bbc",
   "metadata": {
    "tags": []
   },
   "outputs": [],
   "source": [
    "num_transformer = Pipeline(\n",
    "    steps=[\n",
    "        ('scaler', scaler)\n",
    "    ]\n",
    ")\n",
    "cat_transformer = Pipeline(\n",
    "    steps=[\n",
    "        ('one_hot_encoder', ohe)\n",
    "    ]\n",
    ")\n",
    "cabin_ord_transformer = Pipeline(\n",
    "            steps=[\n",
    "                ('ordinal_encoder', cabin_ord)\n",
    "            ]\n",
    "        )"
   ]
  },
  {
   "cell_type": "code",
   "execution_count": 145,
   "id": "1b47ddcb-a261-4c78-84c3-5144ef3dc954",
   "metadata": {
    "tags": []
   },
   "outputs": [],
   "source": [
    "from sklearn.compose import ColumnTransformer\n",
    "preprocessor = ColumnTransformer(\n",
    "    transformers=[\n",
    "        ('num_cols', num_transformer, num_cols),\n",
    "        ('cat_cols', cat_transformer, cat_cols),\n",
    "        ('cabin_col', cabin_ord_transformer, ['cabinCode'])\n",
    "    ]\n",
    ")"
   ]
  },
  {
   "cell_type": "code",
   "execution_count": 146,
   "id": "f552ace9-6fa8-48de-853e-a811c747fe06",
   "metadata": {
    "tags": []
   },
   "outputs": [],
   "source": [
    "import joblib"
   ]
  },
  {
   "cell_type": "code",
   "execution_count": 147,
   "id": "e03e4731-f3fc-434a-93c2-f4eb3f9e5707",
   "metadata": {
    "tags": []
   },
   "outputs": [],
   "source": [
    "dt_pipe = Pipeline(\n",
    "    steps=[\n",
    "        ('preprocessor', preprocessor),\n",
    "        ('adaboost', model)\n",
    "    ]\n",
    ")"
   ]
  },
  {
   "cell_type": "code",
   "execution_count": 148,
   "id": "e283dbb7-2422-40da-ab57-08da6f065211",
   "metadata": {
    "tags": []
   },
   "outputs": [
    {
     "name": "stdout",
     "output_type": "stream",
     "text": [
      "Unexpected exception formatting exception. Falling back to standard exception\n",
      "Unexpected exception formatting exception. Falling back to standard exception\n"
     ]
    },
    {
     "name": "stderr",
     "output_type": "stream",
     "text": [
      "Traceback (most recent call last):\n",
      "  File \"/Users/holys/Library/Caches/pypoetry/virtualenvs/adv-mla-at3-CsoiBpiB-py3.9/lib/python3.9/site-packages/IPython/core/formatters.py\", line 223, in catch_format_error\n",
      "    r = method(self, *args, **kwargs)\n",
      "  File \"/Users/holys/Library/Caches/pypoetry/virtualenvs/adv-mla-at3-CsoiBpiB-py3.9/lib/python3.9/site-packages/IPython/core/formatters.py\", line 974, in __call__\n",
      "    return method(include=include, exclude=exclude)\n",
      "  File \"/Users/holys/Library/Caches/pypoetry/virtualenvs/adv-mla-at3-CsoiBpiB-py3.9/lib/python3.9/site-packages/sklearn/base.py\", line 633, in _repr_mimebundle_\n",
      "    output[\"text/html\"] = estimator_html_repr(self)\n",
      "  File \"/Users/holys/Library/Caches/pypoetry/virtualenvs/adv-mla-at3-CsoiBpiB-py3.9/lib/python3.9/site-packages/sklearn/utils/_estimator_html_repr.py\", line 418, in estimator_html_repr\n",
      "    _write_estimator_html(\n",
      "  File \"/Users/holys/Library/Caches/pypoetry/virtualenvs/adv-mla-at3-CsoiBpiB-py3.9/lib/python3.9/site-packages/sklearn/utils/_estimator_html_repr.py\", line 171, in _write_estimator_html\n",
      "    _write_estimator_html(out, est, name, name_details)\n",
      "  File \"/Users/holys/Library/Caches/pypoetry/virtualenvs/adv-mla-at3-CsoiBpiB-py3.9/lib/python3.9/site-packages/sklearn/utils/_estimator_html_repr.py\", line 154, in _write_estimator_html\n",
      "    with config_context(print_changed_only=True):\n",
      "  File \"/Users/holys/.pyenv/versions/3.9.13/lib/python3.9/contextlib.py\", line 119, in __enter__\n",
      "    return next(self.gen)\n",
      "  File \"/Users/holys/Library/Caches/pypoetry/virtualenvs/adv-mla-at3-CsoiBpiB-py3.9/lib/python3.9/site-packages/sklearn/_config.py\", line 339, in config_context\n",
      "TypeError: set_config() got an unexpected keyword argument 'enable_metadata_routing'\n",
      "\n",
      "During handling of the above exception, another exception occurred:\n",
      "\n",
      "Traceback (most recent call last):\n",
      "  File \"/Users/holys/Library/Caches/pypoetry/virtualenvs/adv-mla-at3-CsoiBpiB-py3.9/lib/python3.9/site-packages/IPython/core/interactiveshell.py\", line 2120, in showtraceback\n",
      "    stb = self.InteractiveTB.structured_traceback(\n",
      "  File \"/Users/holys/Library/Caches/pypoetry/virtualenvs/adv-mla-at3-CsoiBpiB-py3.9/lib/python3.9/site-packages/IPython/core/ultratb.py\", line 1435, in structured_traceback\n",
      "    return FormattedTB.structured_traceback(\n",
      "  File \"/Users/holys/Library/Caches/pypoetry/virtualenvs/adv-mla-at3-CsoiBpiB-py3.9/lib/python3.9/site-packages/IPython/core/ultratb.py\", line 1326, in structured_traceback\n",
      "    return VerboseTB.structured_traceback(\n",
      "  File \"/Users/holys/Library/Caches/pypoetry/virtualenvs/adv-mla-at3-CsoiBpiB-py3.9/lib/python3.9/site-packages/IPython/core/ultratb.py\", line 1173, in structured_traceback\n",
      "    formatted_exception = self.format_exception_as_a_whole(etype, evalue, etb, number_of_lines_of_context,\n",
      "  File \"/Users/holys/Library/Caches/pypoetry/virtualenvs/adv-mla-at3-CsoiBpiB-py3.9/lib/python3.9/site-packages/IPython/core/ultratb.py\", line 1088, in format_exception_as_a_whole\n",
      "    frames.append(self.format_record(record))\n",
      "  File \"/Users/holys/Library/Caches/pypoetry/virtualenvs/adv-mla-at3-CsoiBpiB-py3.9/lib/python3.9/site-packages/IPython/core/ultratb.py\", line 970, in format_record\n",
      "    frame_info.lines, Colors, self.has_colors, lvals\n",
      "  File \"/Users/holys/Library/Caches/pypoetry/virtualenvs/adv-mla-at3-CsoiBpiB-py3.9/lib/python3.9/site-packages/IPython/core/ultratb.py\", line 792, in lines\n",
      "    return self._sd.lines\n",
      "  File \"/Users/holys/Library/Caches/pypoetry/virtualenvs/adv-mla-at3-CsoiBpiB-py3.9/lib/python3.9/site-packages/stack_data/utils.py\", line 145, in cached_property_wrapper\n",
      "    value = obj.__dict__[self.func.__name__] = self.func(obj)\n",
      "  File \"/Users/holys/Library/Caches/pypoetry/virtualenvs/adv-mla-at3-CsoiBpiB-py3.9/lib/python3.9/site-packages/stack_data/core.py\", line 734, in lines\n",
      "    pieces = self.included_pieces\n",
      "  File \"/Users/holys/Library/Caches/pypoetry/virtualenvs/adv-mla-at3-CsoiBpiB-py3.9/lib/python3.9/site-packages/stack_data/utils.py\", line 145, in cached_property_wrapper\n",
      "    value = obj.__dict__[self.func.__name__] = self.func(obj)\n",
      "  File \"/Users/holys/Library/Caches/pypoetry/virtualenvs/adv-mla-at3-CsoiBpiB-py3.9/lib/python3.9/site-packages/stack_data/core.py\", line 681, in included_pieces\n",
      "    pos = scope_pieces.index(self.executing_piece)\n",
      "  File \"/Users/holys/Library/Caches/pypoetry/virtualenvs/adv-mla-at3-CsoiBpiB-py3.9/lib/python3.9/site-packages/stack_data/utils.py\", line 145, in cached_property_wrapper\n",
      "    value = obj.__dict__[self.func.__name__] = self.func(obj)\n",
      "  File \"/Users/holys/Library/Caches/pypoetry/virtualenvs/adv-mla-at3-CsoiBpiB-py3.9/lib/python3.9/site-packages/stack_data/core.py\", line 660, in executing_piece\n",
      "    return only(\n",
      "  File \"/Users/holys/Library/Caches/pypoetry/virtualenvs/adv-mla-at3-CsoiBpiB-py3.9/lib/python3.9/site-packages/executing/executing.py\", line 116, in only\n",
      "    raise NotOneValueFound('Expected one value, found 0')\n",
      "executing.executing.NotOneValueFound: Expected one value, found 0\n",
      "Traceback (most recent call last):\n",
      "  File \"/Users/holys/Library/Caches/pypoetry/virtualenvs/adv-mla-at3-CsoiBpiB-py3.9/lib/python3.9/site-packages/IPython/core/formatters.py\", line 223, in catch_format_error\n",
      "    r = method(self, *args, **kwargs)\n",
      "  File \"/Users/holys/Library/Caches/pypoetry/virtualenvs/adv-mla-at3-CsoiBpiB-py3.9/lib/python3.9/site-packages/IPython/core/formatters.py\", line 344, in __call__\n",
      "    return method()\n",
      "  File \"/Users/holys/Library/Caches/pypoetry/virtualenvs/adv-mla-at3-CsoiBpiB-py3.9/lib/python3.9/site-packages/sklearn/base.py\", line 627, in _repr_html_inner\n",
      "    return estimator_html_repr(self)\n",
      "  File \"/Users/holys/Library/Caches/pypoetry/virtualenvs/adv-mla-at3-CsoiBpiB-py3.9/lib/python3.9/site-packages/sklearn/utils/_estimator_html_repr.py\", line 418, in estimator_html_repr\n",
      "    _write_estimator_html(\n",
      "  File \"/Users/holys/Library/Caches/pypoetry/virtualenvs/adv-mla-at3-CsoiBpiB-py3.9/lib/python3.9/site-packages/sklearn/utils/_estimator_html_repr.py\", line 171, in _write_estimator_html\n",
      "    _write_estimator_html(out, est, name, name_details)\n",
      "  File \"/Users/holys/Library/Caches/pypoetry/virtualenvs/adv-mla-at3-CsoiBpiB-py3.9/lib/python3.9/site-packages/sklearn/utils/_estimator_html_repr.py\", line 154, in _write_estimator_html\n",
      "    with config_context(print_changed_only=True):\n",
      "  File \"/Users/holys/.pyenv/versions/3.9.13/lib/python3.9/contextlib.py\", line 119, in __enter__\n",
      "    return next(self.gen)\n",
      "  File \"/Users/holys/Library/Caches/pypoetry/virtualenvs/adv-mla-at3-CsoiBpiB-py3.9/lib/python3.9/site-packages/sklearn/_config.py\", line 339, in config_context\n",
      "TypeError: set_config() got an unexpected keyword argument 'enable_metadata_routing'\n",
      "\n",
      "During handling of the above exception, another exception occurred:\n",
      "\n",
      "Traceback (most recent call last):\n",
      "  File \"/Users/holys/Library/Caches/pypoetry/virtualenvs/adv-mla-at3-CsoiBpiB-py3.9/lib/python3.9/site-packages/IPython/core/interactiveshell.py\", line 2120, in showtraceback\n",
      "    stb = self.InteractiveTB.structured_traceback(\n",
      "  File \"/Users/holys/Library/Caches/pypoetry/virtualenvs/adv-mla-at3-CsoiBpiB-py3.9/lib/python3.9/site-packages/IPython/core/ultratb.py\", line 1435, in structured_traceback\n",
      "    return FormattedTB.structured_traceback(\n",
      "  File \"/Users/holys/Library/Caches/pypoetry/virtualenvs/adv-mla-at3-CsoiBpiB-py3.9/lib/python3.9/site-packages/IPython/core/ultratb.py\", line 1326, in structured_traceback\n",
      "    return VerboseTB.structured_traceback(\n",
      "  File \"/Users/holys/Library/Caches/pypoetry/virtualenvs/adv-mla-at3-CsoiBpiB-py3.9/lib/python3.9/site-packages/IPython/core/ultratb.py\", line 1173, in structured_traceback\n",
      "    formatted_exception = self.format_exception_as_a_whole(etype, evalue, etb, number_of_lines_of_context,\n",
      "  File \"/Users/holys/Library/Caches/pypoetry/virtualenvs/adv-mla-at3-CsoiBpiB-py3.9/lib/python3.9/site-packages/IPython/core/ultratb.py\", line 1088, in format_exception_as_a_whole\n",
      "    frames.append(self.format_record(record))\n",
      "  File \"/Users/holys/Library/Caches/pypoetry/virtualenvs/adv-mla-at3-CsoiBpiB-py3.9/lib/python3.9/site-packages/IPython/core/ultratb.py\", line 970, in format_record\n",
      "    frame_info.lines, Colors, self.has_colors, lvals\n",
      "  File \"/Users/holys/Library/Caches/pypoetry/virtualenvs/adv-mla-at3-CsoiBpiB-py3.9/lib/python3.9/site-packages/IPython/core/ultratb.py\", line 792, in lines\n",
      "    return self._sd.lines\n",
      "  File \"/Users/holys/Library/Caches/pypoetry/virtualenvs/adv-mla-at3-CsoiBpiB-py3.9/lib/python3.9/site-packages/stack_data/utils.py\", line 145, in cached_property_wrapper\n",
      "    value = obj.__dict__[self.func.__name__] = self.func(obj)\n",
      "  File \"/Users/holys/Library/Caches/pypoetry/virtualenvs/adv-mla-at3-CsoiBpiB-py3.9/lib/python3.9/site-packages/stack_data/core.py\", line 734, in lines\n",
      "    pieces = self.included_pieces\n",
      "  File \"/Users/holys/Library/Caches/pypoetry/virtualenvs/adv-mla-at3-CsoiBpiB-py3.9/lib/python3.9/site-packages/stack_data/utils.py\", line 145, in cached_property_wrapper\n",
      "    value = obj.__dict__[self.func.__name__] = self.func(obj)\n",
      "  File \"/Users/holys/Library/Caches/pypoetry/virtualenvs/adv-mla-at3-CsoiBpiB-py3.9/lib/python3.9/site-packages/stack_data/core.py\", line 681, in included_pieces\n",
      "    pos = scope_pieces.index(self.executing_piece)\n",
      "  File \"/Users/holys/Library/Caches/pypoetry/virtualenvs/adv-mla-at3-CsoiBpiB-py3.9/lib/python3.9/site-packages/stack_data/utils.py\", line 145, in cached_property_wrapper\n",
      "    value = obj.__dict__[self.func.__name__] = self.func(obj)\n",
      "  File \"/Users/holys/Library/Caches/pypoetry/virtualenvs/adv-mla-at3-CsoiBpiB-py3.9/lib/python3.9/site-packages/stack_data/core.py\", line 660, in executing_piece\n",
      "    return only(\n",
      "  File \"/Users/holys/Library/Caches/pypoetry/virtualenvs/adv-mla-at3-CsoiBpiB-py3.9/lib/python3.9/site-packages/executing/executing.py\", line 116, in only\n",
      "    raise NotOneValueFound('Expected one value, found 0')\n",
      "executing.executing.NotOneValueFound: Expected one value, found 0\n"
     ]
    },
    {
     "data": {
      "text/plain": [
       "Pipeline(steps=[('preprocessor',\n",
       "                 ColumnTransformer(transformers=[('num_cols',\n",
       "                                                  Pipeline(steps=[('scaler',\n",
       "                                                                   StandardScaler())]),\n",
       "                                                  ['isBasicEconomy',\n",
       "                                                   'isRefundable', 'isNonStop',\n",
       "                                                   'flightDepartureHour',\n",
       "                                                   'flightDepartureMinute',\n",
       "                                                   'flightDate_month',\n",
       "                                                   'flightDate_day',\n",
       "                                                   'flightDate_dow']),\n",
       "                                                 ('cat_cols',\n",
       "                                                  Pipeline(steps=[('one_hot_encoder',\n",
       "                                                                   OneHotEncoder(drop='first',\n",
       "                                                                                 sparse_output=False))]),\n",
       "                                                  ['startingAirport',\n",
       "                                                   'destinationAirport']),\n",
       "                                                 ('cabin_col',\n",
       "                                                  Pipeline(steps=[('ordinal_encoder',\n",
       "                                                                   OrdinalEncoder(categories=[['c',\n",
       "                                                                                               'p',\n",
       "                                                                                               'f',\n",
       "                                                                                               'b']]))]),\n",
       "                                                  ['cabinCode'])])),\n",
       "                ('adaboost', None)])"
      ]
     },
     "execution_count": 148,
     "metadata": {},
     "output_type": "execute_result"
    }
   ],
   "source": [
    "dt_pipe.fit(df_cleaned, target)"
   ]
  },
  {
   "cell_type": "code",
   "execution_count": null,
   "id": "ad0d19d5-5c43-4f0b-896b-44a46d15353d",
   "metadata": {
    "tags": []
   },
   "outputs": [
    {
     "data": {
      "text/plain": [
       "array([440.88178412, 440.88178412, 440.41666381, ..., 443.78515233,\n",
       "       443.78515233, 443.78515233])"
      ]
     },
     "execution_count": 89,
     "metadata": {},
     "output_type": "execute_result"
    }
   ],
   "source": [
    "dt_pipe.predict(df_cleaned)"
   ]
  },
  {
   "cell_type": "code",
   "execution_count": null,
   "id": "32491927-7574-409f-a68a-8dc74964a261",
   "metadata": {
    "tags": []
   },
   "outputs": [
    {
     "data": {
      "text/plain": [
       "['../models/adaboost.joblib']"
      ]
     },
     "execution_count": 90,
     "metadata": {},
     "output_type": "execute_result"
    }
   ],
   "source": [
    "joblib.dump(dt_pipe,  '../models/adaboost.joblib')"
   ]
  },
  {
   "cell_type": "code",
   "execution_count": null,
   "id": "88bba2cd-ee08-45d1-86f0-d75c78940993",
   "metadata": {
    "tags": []
   },
   "outputs": [
    {
     "data": {
      "text/plain": [
       "Index(['startingAirport', 'destinationAirport', 'isBasicEconomy',\n",
       "       'isRefundable', 'isNonStop', 'totalTravelDistance', 'flightDuration',\n",
       "       'cabinCode', 'flightDepartureHour', 'flightDepartureMinute',\n",
       "       'flightDate_month', 'flightDate_day', 'flightDate_dow'],\n",
       "      dtype='object')"
      ]
     },
     "execution_count": 63,
     "metadata": {},
     "output_type": "execute_result"
    }
   ],
   "source": [
    "df_cleaned.columns"
   ]
  },
  {
   "cell_type": "code",
   "execution_count": null,
   "id": "2bb840bf-2fbe-4269-b66a-c1e592c93670",
   "metadata": {
    "tags": []
   },
   "outputs": [],
   "source": [
    "isNonStop = True\n",
    "features_transit = pd.DataFrame({'flightDate_month': 11, \n",
    "                                'flightDate_day': 8, \n",
    "                                'flightDate_dow': 3, \n",
    "                                'flightDepartureHour': 10, \n",
    "                                'flightDepartureMinute': 10,\n",
    "                                'isBasicEconomy': True,\n",
    "                                'isRefundable': False,\n",
    "                                'isNonStop': isNonStop, \n",
    "                                'startingAirport': 'CLT', \n",
    "                                'destinationAirport': 'DFW', \n",
    "                                'cabinCode': 'p'}, index=[0])\n"
   ]
  },
  {
   "cell_type": "code",
   "execution_count": null,
   "id": "4e1b3003-b3d4-4c21-81ec-de85c25beebb",
   "metadata": {
    "tags": []
   },
   "outputs": [
    {
     "data": {
      "text/plain": [
       "array([903.94591181])"
      ]
     },
     "execution_count": 92,
     "metadata": {},
     "output_type": "execute_result"
    }
   ],
   "source": [
    "predict_fare_transit = dt_pipe.predict(features_transit)\n",
    "predict_fare_transit"
   ]
  }
 ],
 "metadata": {
  "kernelspec": {
   "display_name": "Python 3 (ipykernel)",
   "language": "python",
   "name": "python3"
  },
  "language_info": {
   "codemirror_mode": {
    "name": "ipython",
    "version": 3
   },
   "file_extension": ".py",
   "mimetype": "text/x-python",
   "name": "python",
   "nbconvert_exporter": "python",
   "pygments_lexer": "ipython3",
   "version": "3.9.13"
  }
 },
 "nbformat": 4,
 "nbformat_minor": 5
}
