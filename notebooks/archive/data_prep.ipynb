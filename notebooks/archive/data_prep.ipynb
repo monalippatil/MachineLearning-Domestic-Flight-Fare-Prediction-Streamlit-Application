{
 "cells": [
  {
   "cell_type": "code",
   "execution_count": null,
   "id": "7449f580-b4ea-4d19-974c-991d70a7a0a8",
   "metadata": {},
   "outputs": [],
   "source": [
    "%load_ext autoreload\n",
    "%autoreload 2"
   ]
  },
  {
   "cell_type": "code",
   "execution_count": 1,
   "id": "c8e0516a-c84c-4344-83d0-ba1c51fc2193",
   "metadata": {
    "tags": []
   },
   "outputs": [
    {
     "name": "stdout",
     "output_type": "stream",
     "text": [
      "Looking in indexes: https://test.pypi.org/simple/\n",
      "Collecting my-krml-tyl==0.1.4\n",
      "  Obtaining dependency information for my-krml-tyl==0.1.4 from https://test-files.pythonhosted.org/packages/a3/b9/504da8d84b92b869186d9876be748b1b0be5250adffed693ba93bf233003/my_krml_tyl-0.1.4-py3-none-any.whl.metadata\n",
      "  Using cached https://test-files.pythonhosted.org/packages/a3/b9/504da8d84b92b869186d9876be748b1b0be5250adffed693ba93bf233003/my_krml_tyl-0.1.4-py3-none-any.whl.metadata (1.2 kB)\n",
      "Requirement already satisfied: pandas==2.0.1 in /Users/holys/Library/Caches/pypoetry/virtualenvs/adv-mla-at3-CsoiBpiB-py3.9/lib/python3.9/site-packages (from my-krml-tyl==0.1.4) (2.0.1)\n",
      "Requirement already satisfied: scikit-learn==1.2.2 in /Users/holys/Library/Caches/pypoetry/virtualenvs/adv-mla-at3-CsoiBpiB-py3.9/lib/python3.9/site-packages (from my-krml-tyl==0.1.4) (1.2.2)\n",
      "Requirement already satisfied: python-dateutil>=2.8.2 in /Users/holys/Library/Caches/pypoetry/virtualenvs/adv-mla-at3-CsoiBpiB-py3.9/lib/python3.9/site-packages (from pandas==2.0.1->my-krml-tyl==0.1.4) (2.8.2)\n",
      "Requirement already satisfied: pytz>=2020.1 in /Users/holys/Library/Caches/pypoetry/virtualenvs/adv-mla-at3-CsoiBpiB-py3.9/lib/python3.9/site-packages (from pandas==2.0.1->my-krml-tyl==0.1.4) (2023.3.post1)\n",
      "Requirement already satisfied: tzdata>=2022.1 in /Users/holys/Library/Caches/pypoetry/virtualenvs/adv-mla-at3-CsoiBpiB-py3.9/lib/python3.9/site-packages (from pandas==2.0.1->my-krml-tyl==0.1.4) (2023.3)\n",
      "Requirement already satisfied: numpy>=1.20.3 in /Users/holys/Library/Caches/pypoetry/virtualenvs/adv-mla-at3-CsoiBpiB-py3.9/lib/python3.9/site-packages (from pandas==2.0.1->my-krml-tyl==0.1.4) (1.25.2)\n",
      "Requirement already satisfied: scipy>=1.3.2 in /Users/holys/Library/Caches/pypoetry/virtualenvs/adv-mla-at3-CsoiBpiB-py3.9/lib/python3.9/site-packages (from scikit-learn==1.2.2->my-krml-tyl==0.1.4) (1.9.3)\n",
      "Requirement already satisfied: joblib>=1.1.1 in /Users/holys/Library/Caches/pypoetry/virtualenvs/adv-mla-at3-CsoiBpiB-py3.9/lib/python3.9/site-packages (from scikit-learn==1.2.2->my-krml-tyl==0.1.4) (1.3.2)\n",
      "Requirement already satisfied: threadpoolctl>=2.0.0 in /Users/holys/Library/Caches/pypoetry/virtualenvs/adv-mla-at3-CsoiBpiB-py3.9/lib/python3.9/site-packages (from scikit-learn==1.2.2->my-krml-tyl==0.1.4) (3.2.0)\n",
      "Requirement already satisfied: six>=1.5 in /Users/holys/Library/Caches/pypoetry/virtualenvs/adv-mla-at3-CsoiBpiB-py3.9/lib/python3.9/site-packages (from python-dateutil>=2.8.2->pandas==2.0.1->my-krml-tyl==0.1.4) (1.16.0)\n",
      "Using cached https://test-files.pythonhosted.org/packages/a3/b9/504da8d84b92b869186d9876be748b1b0be5250adffed693ba93bf233003/my_krml_tyl-0.1.4-py3-none-any.whl (16 kB)\n",
      "Installing collected packages: my-krml-tyl\n",
      "Successfully installed my-krml-tyl-0.1.4\n"
     ]
    }
   ],
   "source": [
    "! pip install -i https://test.pypi.org/simple/ my-krml-tyl==0.1.4"
   ]
  },
  {
   "cell_type": "code",
   "execution_count": 2,
   "id": "77e4cfcd-a90d-455a-88d1-a1654a818048",
   "metadata": {
    "tags": []
   },
   "outputs": [],
   "source": [
    "import pandas as pd\n",
    "import numpy as np"
   ]
  },
  {
   "cell_type": "code",
   "execution_count": 428,
   "id": "2f65880c-1295-44ae-9ef0-2c48423cb08e",
   "metadata": {
    "tags": []
   },
   "outputs": [],
   "source": [
    "from pathlib import Path\n",
    "import glob\n",
    "import os\n",
    "path = r'../data/raw/SFO'                     # use your path\n",
    "all_files = glob.glob(os.path.join(path, \"*.csv\"))     # advisable to use os.path.join as this makes concatenation OS independent\n",
    "\n",
    "df_from_each_file = (pd.read_csv(f) for f in all_files)\n",
    "concatenated_df = pd.concat(df_from_each_file,ignore_index=True)\n",
    "\n",
    "#concatenated_df   = pd.concat(df_from_each_file, ignore_index=True)\n",
    "#chunks = pd.read_csv('../data/raw/ATL/ATL_itineraries_aa.csv')\n",
    "#chunks.shape\n"
   ]
  },
  {
   "cell_type": "code",
   "execution_count": null,
   "id": "0f31786d-6f2c-46a3-9a28-c65b5bd3b4dc",
   "metadata": {},
   "outputs": [],
   "source": []
  },
  {
   "cell_type": "code",
   "execution_count": 429,
   "id": "4b357022-a57a-471e-bfba-a647b7dd238a",
   "metadata": {
    "tags": []
   },
   "outputs": [
    {
     "name": "stdout",
     "output_type": "stream",
     "text": [
      "<class 'pandas.core.frame.DataFrame'>\n",
      "RangeIndex: 949046 entries, 0 to 949045\n",
      "Data columns (total 23 columns):\n",
      " #   Column                             Non-Null Count   Dtype  \n",
      "---  ------                             --------------   -----  \n",
      " 0   legId                              949046 non-null  object \n",
      " 1   searchDate                         949046 non-null  object \n",
      " 2   flightDate                         949046 non-null  object \n",
      " 3   startingAirport                    949046 non-null  object \n",
      " 4   destinationAirport                 949046 non-null  object \n",
      " 5   travelDuration                     949046 non-null  object \n",
      " 6   isBasicEconomy                     949046 non-null  bool   \n",
      " 7   isRefundable                       949046 non-null  bool   \n",
      " 8   isNonStop                          949046 non-null  bool   \n",
      " 9   totalFare                          949046 non-null  float64\n",
      " 10  totalTravelDistance                942658 non-null  float64\n",
      " 11  segmentsDepartureTimeEpochSeconds  949046 non-null  object \n",
      " 12  segmentsDepartureTimeRaw           949046 non-null  object \n",
      " 13  segmentsArrivalTimeEpochSeconds    949046 non-null  object \n",
      " 14  segmentsArrivalTimeRaw             949046 non-null  object \n",
      " 15  segmentsArrivalAirportCode         949046 non-null  object \n",
      " 16  segmentsDepartureAirportCode       949046 non-null  object \n",
      " 17  segmentsAirlineName                949046 non-null  object \n",
      " 18  segmentsAirlineCode                949046 non-null  object \n",
      " 19  segmentsEquipmentDescription       934877 non-null  object \n",
      " 20  segmentsDurationInSeconds          949046 non-null  object \n",
      " 21  segmentsDistance                   948527 non-null  object \n",
      " 22  segmentsCabinCode                  949046 non-null  object \n",
      "dtypes: bool(3), float64(2), object(18)\n",
      "memory usage: 1.2 GB\n"
     ]
    },
    {
     "data": {
      "text/plain": [
       "None"
      ]
     },
     "metadata": {},
     "output_type": "display_data"
    }
   ],
   "source": [
    "display(concatenated_df.info(memory_usage='deep'))"
   ]
  },
  {
   "cell_type": "code",
   "execution_count": 430,
   "id": "9338b86e-94c7-4d67-8055-c9db5927e125",
   "metadata": {
    "tags": []
   },
   "outputs": [
    {
     "data": {
      "text/plain": [
       "(949046, 23)"
      ]
     },
     "execution_count": 430,
     "metadata": {},
     "output_type": "execute_result"
    }
   ],
   "source": [
    "concatenated_df.shape\n",
    "#(874069, 23) (981234,23) (854536, 23) (770429, 23) (896596, 23) (747751, 23) (699628, 23) (1021938, 23 Lga) (527105, 23 oak) (894646, 23) "
   ]
  },
  {
   "cell_type": "code",
   "execution_count": 431,
   "id": "a05a093d-438a-4c90-905d-aa0d645f4433",
   "metadata": {
    "tags": []
   },
   "outputs": [
    {
     "data": {
      "text/html": [
       "<div>\n",
       "<style scoped>\n",
       "    .dataframe tbody tr th:only-of-type {\n",
       "        vertical-align: middle;\n",
       "    }\n",
       "\n",
       "    .dataframe tbody tr th {\n",
       "        vertical-align: top;\n",
       "    }\n",
       "\n",
       "    .dataframe thead th {\n",
       "        text-align: right;\n",
       "    }\n",
       "</style>\n",
       "<table border=\"1\" class=\"dataframe\">\n",
       "  <thead>\n",
       "    <tr style=\"text-align: right;\">\n",
       "      <th></th>\n",
       "      <th>legId</th>\n",
       "      <th>searchDate</th>\n",
       "      <th>flightDate</th>\n",
       "      <th>startingAirport</th>\n",
       "      <th>destinationAirport</th>\n",
       "      <th>travelDuration</th>\n",
       "      <th>isBasicEconomy</th>\n",
       "      <th>isRefundable</th>\n",
       "      <th>isNonStop</th>\n",
       "      <th>totalFare</th>\n",
       "      <th>...</th>\n",
       "      <th>segmentsArrivalTimeEpochSeconds</th>\n",
       "      <th>segmentsArrivalTimeRaw</th>\n",
       "      <th>segmentsArrivalAirportCode</th>\n",
       "      <th>segmentsDepartureAirportCode</th>\n",
       "      <th>segmentsAirlineName</th>\n",
       "      <th>segmentsAirlineCode</th>\n",
       "      <th>segmentsEquipmentDescription</th>\n",
       "      <th>segmentsDurationInSeconds</th>\n",
       "      <th>segmentsDistance</th>\n",
       "      <th>segmentsCabinCode</th>\n",
       "    </tr>\n",
       "  </thead>\n",
       "  <tbody>\n",
       "    <tr>\n",
       "      <th>0</th>\n",
       "      <td>f39366f5ca677b2f847019a810c74889</td>\n",
       "      <td>2022-05-11</td>\n",
       "      <td>2022-05-13</td>\n",
       "      <td>SFO</td>\n",
       "      <td>ATL</td>\n",
       "      <td>PT9H44M</td>\n",
       "      <td>False</td>\n",
       "      <td>False</td>\n",
       "      <td>False</td>\n",
       "      <td>348.62</td>\n",
       "      <td>...</td>\n",
       "      <td>1652487480||1652501400</td>\n",
       "      <td>2022-05-13T20:18:00.000-04:00||2022-05-14T00:1...</td>\n",
       "      <td>JFK||ATL</td>\n",
       "      <td>SFO||JFK</td>\n",
       "      <td>JetBlue Airways||JetBlue Airways</td>\n",
       "      <td>B6||B6</td>\n",
       "      <td>Airbus A319-321||Airbus A320</td>\n",
       "      <td>21120||9000</td>\n",
       "      <td>2566||762</td>\n",
       "      <td>coach||coach</td>\n",
       "    </tr>\n",
       "    <tr>\n",
       "      <th>1</th>\n",
       "      <td>e5beb32487be14ac99442b9774f58f2b</td>\n",
       "      <td>2022-05-11</td>\n",
       "      <td>2022-05-13</td>\n",
       "      <td>SFO</td>\n",
       "      <td>ATL</td>\n",
       "      <td>PT4H54M</td>\n",
       "      <td>False</td>\n",
       "      <td>False</td>\n",
       "      <td>True</td>\n",
       "      <td>363.99</td>\n",
       "      <td>...</td>\n",
       "      <td>1652528940</td>\n",
       "      <td>2022-05-14T07:49:00.000-04:00</td>\n",
       "      <td>ATL</td>\n",
       "      <td>SFO</td>\n",
       "      <td>Frontier Airlines</td>\n",
       "      <td>F9</td>\n",
       "      <td>Airbus A320</td>\n",
       "      <td>17640</td>\n",
       "      <td>2135</td>\n",
       "      <td>coach</td>\n",
       "    </tr>\n",
       "    <tr>\n",
       "      <th>2</th>\n",
       "      <td>66bc7d36c9761be52da1abd889b54406</td>\n",
       "      <td>2022-05-11</td>\n",
       "      <td>2022-05-13</td>\n",
       "      <td>SFO</td>\n",
       "      <td>ATL</td>\n",
       "      <td>PT6H41M</td>\n",
       "      <td>False</td>\n",
       "      <td>False</td>\n",
       "      <td>False</td>\n",
       "      <td>370.60</td>\n",
       "      <td>...</td>\n",
       "      <td>1652452200||1652469060</td>\n",
       "      <td>2022-05-13T07:30:00.000-07:00||2022-05-13T15:1...</td>\n",
       "      <td>PHX||ATL</td>\n",
       "      <td>SFO||PHX</td>\n",
       "      <td>American Airlines||American Airlines</td>\n",
       "      <td>AA||AA</td>\n",
       "      <td>Boeing 737-800||Airbus A321</td>\n",
       "      <td>7200||12960</td>\n",
       "      <td>652||1584</td>\n",
       "      <td>coach||coach</td>\n",
       "    </tr>\n",
       "    <tr>\n",
       "      <th>3</th>\n",
       "      <td>393f7b20e1f58a2a80f134cde559d0fa</td>\n",
       "      <td>2022-05-11</td>\n",
       "      <td>2022-05-13</td>\n",
       "      <td>SFO</td>\n",
       "      <td>ATL</td>\n",
       "      <td>PT6H57M</td>\n",
       "      <td>False</td>\n",
       "      <td>False</td>\n",
       "      <td>False</td>\n",
       "      <td>370.60</td>\n",
       "      <td>...</td>\n",
       "      <td>1652453460||1652469120</td>\n",
       "      <td>2022-05-13T08:51:00.000-06:00||2022-05-13T15:1...</td>\n",
       "      <td>DEN||ATL</td>\n",
       "      <td>SFO||DEN</td>\n",
       "      <td>United||United</td>\n",
       "      <td>UA||UA</td>\n",
       "      <td>Boeing 737 MAX 9||Embraer 175 (Enhanced Winglets)</td>\n",
       "      <td>9360||11220</td>\n",
       "      <td>954||1207</td>\n",
       "      <td>coach||coach</td>\n",
       "    </tr>\n",
       "    <tr>\n",
       "      <th>4</th>\n",
       "      <td>34fda5185f1589108c6a40980c874d75</td>\n",
       "      <td>2022-05-11</td>\n",
       "      <td>2022-05-13</td>\n",
       "      <td>SFO</td>\n",
       "      <td>ATL</td>\n",
       "      <td>PT7H2M</td>\n",
       "      <td>False</td>\n",
       "      <td>False</td>\n",
       "      <td>False</td>\n",
       "      <td>370.60</td>\n",
       "      <td>...</td>\n",
       "      <td>1652488140||1652500440</td>\n",
       "      <td>2022-05-13T19:29:00.000-05:00||2022-05-13T23:5...</td>\n",
       "      <td>DFW||ATL</td>\n",
       "      <td>SFO||DFW</td>\n",
       "      <td>American Airlines||American Airlines</td>\n",
       "      <td>AA||AA</td>\n",
       "      <td>Airbus A321||Airbus A321</td>\n",
       "      <td>13020||7680</td>\n",
       "      <td>1468||725</td>\n",
       "      <td>coach||coach</td>\n",
       "    </tr>\n",
       "  </tbody>\n",
       "</table>\n",
       "<p>5 rows × 23 columns</p>\n",
       "</div>"
      ],
      "text/plain": [
       "                              legId  searchDate  flightDate startingAirport   \n",
       "0  f39366f5ca677b2f847019a810c74889  2022-05-11  2022-05-13             SFO  \\\n",
       "1  e5beb32487be14ac99442b9774f58f2b  2022-05-11  2022-05-13             SFO   \n",
       "2  66bc7d36c9761be52da1abd889b54406  2022-05-11  2022-05-13             SFO   \n",
       "3  393f7b20e1f58a2a80f134cde559d0fa  2022-05-11  2022-05-13             SFO   \n",
       "4  34fda5185f1589108c6a40980c874d75  2022-05-11  2022-05-13             SFO   \n",
       "\n",
       "  destinationAirport travelDuration  isBasicEconomy  isRefundable  isNonStop   \n",
       "0                ATL        PT9H44M           False         False      False  \\\n",
       "1                ATL        PT4H54M           False         False       True   \n",
       "2                ATL        PT6H41M           False         False      False   \n",
       "3                ATL        PT6H57M           False         False      False   \n",
       "4                ATL         PT7H2M           False         False      False   \n",
       "\n",
       "   totalFare  ...  segmentsArrivalTimeEpochSeconds   \n",
       "0     348.62  ...           1652487480||1652501400  \\\n",
       "1     363.99  ...                       1652528940   \n",
       "2     370.60  ...           1652452200||1652469060   \n",
       "3     370.60  ...           1652453460||1652469120   \n",
       "4     370.60  ...           1652488140||1652500440   \n",
       "\n",
       "                              segmentsArrivalTimeRaw   \n",
       "0  2022-05-13T20:18:00.000-04:00||2022-05-14T00:1...  \\\n",
       "1                      2022-05-14T07:49:00.000-04:00   \n",
       "2  2022-05-13T07:30:00.000-07:00||2022-05-13T15:1...   \n",
       "3  2022-05-13T08:51:00.000-06:00||2022-05-13T15:1...   \n",
       "4  2022-05-13T19:29:00.000-05:00||2022-05-13T23:5...   \n",
       "\n",
       "  segmentsArrivalAirportCode segmentsDepartureAirportCode   \n",
       "0                   JFK||ATL                     SFO||JFK  \\\n",
       "1                        ATL                          SFO   \n",
       "2                   PHX||ATL                     SFO||PHX   \n",
       "3                   DEN||ATL                     SFO||DEN   \n",
       "4                   DFW||ATL                     SFO||DFW   \n",
       "\n",
       "                    segmentsAirlineName segmentsAirlineCode   \n",
       "0      JetBlue Airways||JetBlue Airways              B6||B6  \\\n",
       "1                     Frontier Airlines                  F9   \n",
       "2  American Airlines||American Airlines              AA||AA   \n",
       "3                        United||United              UA||UA   \n",
       "4  American Airlines||American Airlines              AA||AA   \n",
       "\n",
       "                        segmentsEquipmentDescription   \n",
       "0                       Airbus A319-321||Airbus A320  \\\n",
       "1                                        Airbus A320   \n",
       "2                        Boeing 737-800||Airbus A321   \n",
       "3  Boeing 737 MAX 9||Embraer 175 (Enhanced Winglets)   \n",
       "4                           Airbus A321||Airbus A321   \n",
       "\n",
       "  segmentsDurationInSeconds segmentsDistance segmentsCabinCode  \n",
       "0               21120||9000        2566||762      coach||coach  \n",
       "1                     17640             2135             coach  \n",
       "2               7200||12960        652||1584      coach||coach  \n",
       "3               9360||11220        954||1207      coach||coach  \n",
       "4               13020||7680        1468||725      coach||coach  \n",
       "\n",
       "[5 rows x 23 columns]"
      ]
     },
     "execution_count": 431,
     "metadata": {},
     "output_type": "execute_result"
    }
   ],
   "source": [
    "concatenated_df.head()"
   ]
  },
  {
   "cell_type": "code",
   "execution_count": 432,
   "id": "b730187a-645b-4a8d-8e16-c7d4edc6faf7",
   "metadata": {
    "tags": []
   },
   "outputs": [],
   "source": [
    "df_atl = concatenated_df.sample(n=50000, random_state=42,axis='index')"
   ]
  },
  {
   "cell_type": "code",
   "execution_count": 433,
   "id": "f6042bb1-128d-4a5d-99e8-6fb57dd0e050",
   "metadata": {
    "tags": []
   },
   "outputs": [
    {
     "data": {
      "text/plain": [
       "(50000, 23)"
      ]
     },
     "execution_count": 433,
     "metadata": {},
     "output_type": "execute_result"
    }
   ],
   "source": [
    "df_atl.shape"
   ]
  },
  {
   "cell_type": "code",
   "execution_count": 434,
   "id": "3135b29b-c287-48b2-a1fc-de847a768be5",
   "metadata": {
    "tags": []
   },
   "outputs": [
    {
     "name": "stdout",
     "output_type": "stream",
     "text": [
      "<class 'pandas.core.frame.DataFrame'>\n",
      "Index: 50000 entries, 149845 to 700029\n",
      "Data columns (total 23 columns):\n",
      " #   Column                             Non-Null Count  Dtype  \n",
      "---  ------                             --------------  -----  \n",
      " 0   legId                              50000 non-null  object \n",
      " 1   searchDate                         50000 non-null  object \n",
      " 2   flightDate                         50000 non-null  object \n",
      " 3   startingAirport                    50000 non-null  object \n",
      " 4   destinationAirport                 50000 non-null  object \n",
      " 5   travelDuration                     50000 non-null  object \n",
      " 6   isBasicEconomy                     50000 non-null  bool   \n",
      " 7   isRefundable                       50000 non-null  bool   \n",
      " 8   isNonStop                          50000 non-null  bool   \n",
      " 9   totalFare                          50000 non-null  float64\n",
      " 10  totalTravelDistance                49672 non-null  float64\n",
      " 11  segmentsDepartureTimeEpochSeconds  50000 non-null  object \n",
      " 12  segmentsDepartureTimeRaw           50000 non-null  object \n",
      " 13  segmentsArrivalTimeEpochSeconds    50000 non-null  object \n",
      " 14  segmentsArrivalTimeRaw             50000 non-null  object \n",
      " 15  segmentsArrivalAirportCode         50000 non-null  object \n",
      " 16  segmentsDepartureAirportCode       50000 non-null  object \n",
      " 17  segmentsAirlineName                50000 non-null  object \n",
      " 18  segmentsAirlineCode                50000 non-null  object \n",
      " 19  segmentsEquipmentDescription       49241 non-null  object \n",
      " 20  segmentsDurationInSeconds          50000 non-null  object \n",
      " 21  segmentsDistance                   49977 non-null  object \n",
      " 22  segmentsCabinCode                  50000 non-null  object \n",
      "dtypes: bool(3), float64(2), object(18)\n",
      "memory usage: 65.0 MB\n"
     ]
    }
   ],
   "source": [
    "df_atl.info(memory_usage='deep')"
   ]
  },
  {
   "cell_type": "code",
   "execution_count": 435,
   "id": "4a77012a-601f-49b0-bade-3f97ced08592",
   "metadata": {
    "tags": []
   },
   "outputs": [
    {
     "data": {
      "text/plain": [
       "Index                                 400000\n",
       "legId                                4450000\n",
       "searchDate                           3350000\n",
       "flightDate                           3350000\n",
       "startingAirport                      3000000\n",
       "destinationAirport                   3000000\n",
       "travelDuration                       3206241\n",
       "isBasicEconomy                         50000\n",
       "isRefundable                           50000\n",
       "isNonStop                              50000\n",
       "totalFare                             400000\n",
       "totalTravelDistance                   400000\n",
       "segmentsDepartureTimeEpochSeconds    3850736\n",
       "segmentsDepartureTimeRaw             5593568\n",
       "segmentsArrivalTimeEpochSeconds      3850736\n",
       "segmentsArrivalTimeRaw               5593568\n",
       "segmentsArrivalAirportCode           3208640\n",
       "segmentsDepartureAirportCode         3208640\n",
       "segmentsAirlineName                  3872125\n",
       "segmentsAirlineCode                  3116912\n",
       "segmentsEquipmentDescription         4188130\n",
       "segmentsDurationInSeconds            3345923\n",
       "segmentsDistance                     3254667\n",
       "segmentsCabinCode                    3393860\n",
       "dtype: int64"
      ]
     },
     "execution_count": 435,
     "metadata": {},
     "output_type": "execute_result"
    }
   ],
   "source": [
    "df_atl.memory_usage(deep=True)"
   ]
  },
  {
   "cell_type": "code",
   "execution_count": 436,
   "id": "b8862ffa-b884-4024-994c-3e832d149cb1",
   "metadata": {
    "tags": []
   },
   "outputs": [],
   "source": [
    "df_atl[\"searchDate\"] = df_atl[\"searchDate\"].astype('datetime64[ns]')\n",
    "df_atl[\"flightDate\"] = df_atl[\"flightDate\"].astype('datetime64[ns]')"
   ]
  },
  {
   "cell_type": "code",
   "execution_count": 437,
   "id": "4ef0c1f5-215c-467f-849d-12010cce901a",
   "metadata": {
    "tags": []
   },
   "outputs": [
    {
     "data": {
      "text/plain": [
       "Index                                 400000\n",
       "legId                                4450000\n",
       "searchDate                            400000\n",
       "flightDate                            400000\n",
       "startingAirport                      3000000\n",
       "destinationAirport                   3000000\n",
       "travelDuration                       3206241\n",
       "isBasicEconomy                         50000\n",
       "isRefundable                           50000\n",
       "isNonStop                              50000\n",
       "totalFare                             400000\n",
       "totalTravelDistance                   400000\n",
       "segmentsDepartureTimeEpochSeconds    3850736\n",
       "segmentsDepartureTimeRaw             5593568\n",
       "segmentsArrivalTimeEpochSeconds      3850736\n",
       "segmentsArrivalTimeRaw               5593568\n",
       "segmentsArrivalAirportCode           3208640\n",
       "segmentsDepartureAirportCode         3208640\n",
       "segmentsAirlineName                  3872125\n",
       "segmentsAirlineCode                  3116912\n",
       "segmentsEquipmentDescription         4188130\n",
       "segmentsDurationInSeconds            3345923\n",
       "segmentsDistance                     3254667\n",
       "segmentsCabinCode                    3393860\n",
       "dtype: int64"
      ]
     },
     "execution_count": 437,
     "metadata": {},
     "output_type": "execute_result"
    }
   ],
   "source": [
    "df_atl.memory_usage(deep=True)"
   ]
  },
  {
   "cell_type": "code",
   "execution_count": 438,
   "id": "eb911c46-dfe6-48ef-b792-a5cdac6b2546",
   "metadata": {
    "tags": []
   },
   "outputs": [
    {
     "name": "stdout",
     "output_type": "stream",
     "text": [
      "<class 'pandas.core.frame.DataFrame'>\n",
      "Index: 50000 entries, 149845 to 700029\n",
      "Data columns (total 23 columns):\n",
      " #   Column                             Non-Null Count  Dtype         \n",
      "---  ------                             --------------  -----         \n",
      " 0   legId                              50000 non-null  object        \n",
      " 1   searchDate                         50000 non-null  datetime64[ns]\n",
      " 2   flightDate                         50000 non-null  datetime64[ns]\n",
      " 3   startingAirport                    50000 non-null  object        \n",
      " 4   destinationAirport                 50000 non-null  object        \n",
      " 5   travelDuration                     50000 non-null  object        \n",
      " 6   isBasicEconomy                     50000 non-null  bool          \n",
      " 7   isRefundable                       50000 non-null  bool          \n",
      " 8   isNonStop                          50000 non-null  bool          \n",
      " 9   totalFare                          50000 non-null  float64       \n",
      " 10  totalTravelDistance                49672 non-null  float64       \n",
      " 11  segmentsDepartureTimeEpochSeconds  50000 non-null  object        \n",
      " 12  segmentsDepartureTimeRaw           50000 non-null  object        \n",
      " 13  segmentsArrivalTimeEpochSeconds    50000 non-null  object        \n",
      " 14  segmentsArrivalTimeRaw             50000 non-null  object        \n",
      " 15  segmentsArrivalAirportCode         50000 non-null  object        \n",
      " 16  segmentsDepartureAirportCode       50000 non-null  object        \n",
      " 17  segmentsAirlineName                50000 non-null  object        \n",
      " 18  segmentsAirlineCode                50000 non-null  object        \n",
      " 19  segmentsEquipmentDescription       49241 non-null  object        \n",
      " 20  segmentsDurationInSeconds          50000 non-null  object        \n",
      " 21  segmentsDistance                   49977 non-null  object        \n",
      " 22  segmentsCabinCode                  50000 non-null  object        \n",
      "dtypes: bool(3), datetime64[ns](2), float64(2), object(16)\n",
      "memory usage: 59.4 MB\n"
     ]
    }
   ],
   "source": [
    "df_atl.info(memory_usage='deep')"
   ]
  },
  {
   "cell_type": "code",
   "execution_count": 439,
   "id": "768522d1-ac7a-4a24-832a-4a08e5e3cdd1",
   "metadata": {
    "tags": []
   },
   "outputs": [],
   "source": [
    "def mem_usage(obj):\n",
    "    if isinstance(obj, pd.DataFrame):\n",
    "        usage_b = obj.memory_usage(deep=True).sum()\n",
    "    else: # we assume if not a df then it's a series\n",
    "        usage_b = obj.memory_usage(deep=True)\n",
    "\n",
    "    usage_mb = usage_b / 1024 ** 2     # bytes to megabytes    \n",
    "    return \"{:03.2f} MB\".format(usage_mb)"
   ]
  },
  {
   "cell_type": "code",
   "execution_count": 440,
   "id": "2e4f80ff-b996-45e6-9d35-40ff4dcffdc1",
   "metadata": {
    "tags": []
   },
   "outputs": [],
   "source": [
    "def downcast_type(df, old_type, new_type):\n",
    "    # get all the columns with the specified type – old_type\n",
    "    df_oldtype = df.select_dtypes(include=[old_type])\n",
    "\n",
    "    # convert all the columns from old_type to new_type\n",
    "    df_newtype = df_oldtype.apply(pd.to_numeric, downcast=new_type)\n",
    " \n",
    "    # print out the memory usage of old_type and new_type\n",
    "    print(f'{old_type} memory usage: {mem_usage(df_oldtype)}')\n",
    "    print(f'{new_type} memory usage: {mem_usage(df_newtype)}')\n",
    "\n",
    "    return df_newtype"
   ]
  },
  {
   "cell_type": "code",
   "execution_count": 441,
   "id": "b87f2972-332b-4e40-9627-45f56b4eff29",
   "metadata": {
    "tags": []
   },
   "outputs": [
    {
     "name": "stdout",
     "output_type": "stream",
     "text": [
      "int memory usage: 0.38 MB\n",
      "unsigned memory usage: 0.38 MB\n"
     ]
    }
   ],
   "source": [
    "df_converted_int = downcast_type(df_atl, \"int\", \"unsigned\")"
   ]
  },
  {
   "cell_type": "code",
   "execution_count": 442,
   "id": "75ee5b6a-7dad-4479-85ec-f94101205943",
   "metadata": {
    "tags": []
   },
   "outputs": [
    {
     "name": "stdout",
     "output_type": "stream",
     "text": [
      "float memory usage: 1.14 MB\n",
      "float memory usage: 0.76 MB\n"
     ]
    }
   ],
   "source": [
    "df_converted_float = downcast_type(df_atl, \"float\", \"float\")"
   ]
  },
  {
   "cell_type": "code",
   "execution_count": 443,
   "id": "a15c66dd-b846-44de-8f1d-8396ec5a6510",
   "metadata": {
    "tags": []
   },
   "outputs": [],
   "source": [
    "optimized_df = df_atl.copy()\n",
    "optimized_df[df_converted_int.columns] = df_converted_int\n",
    "optimized_df[df_converted_float.columns] = df_converted_float\n"
   ]
  },
  {
   "cell_type": "code",
   "execution_count": 444,
   "id": "df8d5021-3aec-43d0-85c1-89893546bf8d",
   "metadata": {
    "tags": []
   },
   "outputs": [
    {
     "name": "stdout",
     "output_type": "stream",
     "text": [
      "<class 'pandas.core.frame.DataFrame'>\n",
      "Index: 50000 entries, 149845 to 700029\n",
      "Data columns (total 23 columns):\n",
      " #   Column                             Non-Null Count  Dtype         \n",
      "---  ------                             --------------  -----         \n",
      " 0   legId                              50000 non-null  object        \n",
      " 1   searchDate                         50000 non-null  datetime64[ns]\n",
      " 2   flightDate                         50000 non-null  datetime64[ns]\n",
      " 3   startingAirport                    50000 non-null  object        \n",
      " 4   destinationAirport                 50000 non-null  object        \n",
      " 5   travelDuration                     50000 non-null  object        \n",
      " 6   isBasicEconomy                     50000 non-null  bool          \n",
      " 7   isRefundable                       50000 non-null  bool          \n",
      " 8   isNonStop                          50000 non-null  bool          \n",
      " 9   totalFare                          50000 non-null  float32       \n",
      " 10  totalTravelDistance                49672 non-null  float32       \n",
      " 11  segmentsDepartureTimeEpochSeconds  50000 non-null  object        \n",
      " 12  segmentsDepartureTimeRaw           50000 non-null  object        \n",
      " 13  segmentsArrivalTimeEpochSeconds    50000 non-null  object        \n",
      " 14  segmentsArrivalTimeRaw             50000 non-null  object        \n",
      " 15  segmentsArrivalAirportCode         50000 non-null  object        \n",
      " 16  segmentsDepartureAirportCode       50000 non-null  object        \n",
      " 17  segmentsAirlineName                50000 non-null  object        \n",
      " 18  segmentsAirlineCode                50000 non-null  object        \n",
      " 19  segmentsEquipmentDescription       49241 non-null  object        \n",
      " 20  segmentsDurationInSeconds          50000 non-null  object        \n",
      " 21  segmentsDistance                   49977 non-null  object        \n",
      " 22  segmentsCabinCode                  50000 non-null  object        \n",
      "dtypes: bool(3), datetime64[ns](2), float32(2), object(16)\n",
      "memory usage: 59.0 MB\n"
     ]
    }
   ],
   "source": [
    "optimized_df.info(memory_usage='deep')"
   ]
  },
  {
   "cell_type": "code",
   "execution_count": 445,
   "id": "ed9bfaa8-7c2d-48ac-8358-5765d64d0690",
   "metadata": {
    "tags": []
   },
   "outputs": [
    {
     "name": "stdout",
     "output_type": "stream",
     "text": [
      "                                   legId startingAirport destinationAirport   \n",
      "count                              50000           50000              50000  \\\n",
      "unique                             37193               1                 15   \n",
      "top     ecb86c9cbd11add1ab2bcc29102b02dd             SFO                LGA   \n",
      "freq                                   8           50000               4870   \n",
      "\n",
      "       travelDuration segmentsDepartureTimeEpochSeconds   \n",
      "count           50000                             50000  \\\n",
      "unique            950                             33906   \n",
      "top           PT5H46M                        1652706000   \n",
      "freq              466                                20   \n",
      "\n",
      "             segmentsDepartureTimeRaw segmentsArrivalTimeEpochSeconds   \n",
      "count                           50000                           50000  \\\n",
      "unique                          34001                           35702   \n",
      "top     2022-05-16T06:00:00.000-07:00                      1654081200   \n",
      "freq                               20                              13   \n",
      "\n",
      "               segmentsArrivalTimeRaw segmentsArrivalAirportCode   \n",
      "count                           50000                      50000  \\\n",
      "unique                          35953                       1009   \n",
      "top     2022-06-01T07:00:00.000-04:00                        LAX   \n",
      "freq                               13                       2318   \n",
      "\n",
      "       segmentsDepartureAirportCode segmentsAirlineName segmentsAirlineCode   \n",
      "count                         50000               50000               50000  \\\n",
      "unique                          345                  39                  39   \n",
      "top                             SFO      United||United              UA||UA   \n",
      "freq                          12335                8254                8254   \n",
      "\n",
      "       segmentsEquipmentDescription segmentsDurationInSeconds   \n",
      "count                         49241                     50000  \\\n",
      "unique                         1293                      7614   \n",
      "top                  Boeing 737-900                     20760   \n",
      "freq                           1711                       462   \n",
      "\n",
      "       segmentsDistance segmentsCabinCode  \n",
      "count             49977             50000  \n",
      "unique              901                25  \n",
      "top                2566      coach||coach  \n",
      "freq               3430             33100  \n"
     ]
    }
   ],
   "source": [
    "df_obj = optimized_df.select_dtypes(include=['object']).copy()\n",
    "df_unique_objs = df_obj.describe()\n",
    "\n",
    "print(df_unique_objs)"
   ]
  },
  {
   "cell_type": "code",
   "execution_count": null,
   "id": "6f98adc7-7cc3-479d-81a5-59ecba5367a0",
   "metadata": {},
   "outputs": [],
   "source": []
  },
  {
   "cell_type": "code",
   "execution_count": 446,
   "id": "04dd98bb-ffed-4563-8c5d-7a822d1b672f",
   "metadata": {
    "tags": []
   },
   "outputs": [
    {
     "data": {
      "text/plain": [
       "legId                                  74.386\n",
       "startingAirport                         0.002\n",
       "destinationAirport                       0.03\n",
       "travelDuration                            1.9\n",
       "segmentsDepartureTimeEpochSeconds      67.812\n",
       "segmentsDepartureTimeRaw               68.002\n",
       "segmentsArrivalTimeEpochSeconds        71.404\n",
       "segmentsArrivalTimeRaw                 71.906\n",
       "segmentsArrivalAirportCode              2.018\n",
       "segmentsDepartureAirportCode             0.69\n",
       "segmentsAirlineName                     0.078\n",
       "segmentsAirlineCode                     0.078\n",
       "segmentsEquipmentDescription         2.625861\n",
       "segmentsDurationInSeconds              15.228\n",
       "segmentsDistance                     1.802829\n",
       "segmentsCabinCode                        0.05\n",
       "dtype: object"
      ]
     },
     "execution_count": 446,
     "metadata": {},
     "output_type": "execute_result"
    }
   ],
   "source": [
    "df_unique_objs.iloc[1,:] / df_unique_objs.iloc[0,:] * 100"
   ]
  },
  {
   "cell_type": "code",
   "execution_count": 447,
   "id": "ecd9c333-5b59-4726-8c94-715e8add8f62",
   "metadata": {
    "tags": []
   },
   "outputs": [],
   "source": [
    "df_obj_cat = df_obj.astype('category')"
   ]
  },
  {
   "cell_type": "code",
   "execution_count": 448,
   "id": "71dd899f-54c7-44e3-b4d1-12d0087ce1fd",
   "metadata": {
    "tags": []
   },
   "outputs": [],
   "source": [
    "optimized_df[df_obj_cat.columns] = df_obj_cat"
   ]
  },
  {
   "cell_type": "code",
   "execution_count": 449,
   "id": "2af2573b-7734-4407-b1a8-7bf54828f98a",
   "metadata": {
    "tags": []
   },
   "outputs": [
    {
     "data": {
      "text/plain": [
       "Index                                 400000\n",
       "legId                                4566985\n",
       "searchDate                            400000\n",
       "flightDate                            400000\n",
       "startingAirport                        50168\n",
       "destinationAirport                     51456\n",
       "travelDuration                        194209\n",
       "isBasicEconomy                         50000\n",
       "isRefundable                           50000\n",
       "isNonStop                              50000\n",
       "totalFare                             200000\n",
       "totalTravelDistance                   200000\n",
       "segmentsDepartureTimeEpochSeconds    3906378\n",
       "segmentsDepartureTimeRaw             5159998\n",
       "segmentsArrivalTimeEpochSeconds      4038674\n",
       "segmentsArrivalTimeRaw               5357568\n",
       "segmentsArrivalAirportCode            201989\n",
       "segmentsDepartureAirportCode          132171\n",
       "segmentsAirlineName                    54412\n",
       "segmentsAirlineCode                    53585\n",
       "segmentsEquipmentDescription          259712\n",
       "segmentsDurationInSeconds             894778\n",
       "segmentsDistance                      195545\n",
       "segmentsCabinCode                      52406\n",
       "dtype: int64"
      ]
     },
     "execution_count": 449,
     "metadata": {},
     "output_type": "execute_result"
    }
   ],
   "source": [
    "optimized_df.memory_usage(deep=True)"
   ]
  },
  {
   "cell_type": "code",
   "execution_count": 450,
   "id": "95112789-65a3-471f-acf1-872ff940b18e",
   "metadata": {
    "tags": []
   },
   "outputs": [
    {
     "name": "stdout",
     "output_type": "stream",
     "text": [
      "<class 'pandas.core.frame.DataFrame'>\n",
      "Index: 50000 entries, 149845 to 700029\n",
      "Data columns (total 23 columns):\n",
      " #   Column                             Non-Null Count  Dtype         \n",
      "---  ------                             --------------  -----         \n",
      " 0   legId                              50000 non-null  category      \n",
      " 1   searchDate                         50000 non-null  datetime64[ns]\n",
      " 2   flightDate                         50000 non-null  datetime64[ns]\n",
      " 3   startingAirport                    50000 non-null  category      \n",
      " 4   destinationAirport                 50000 non-null  category      \n",
      " 5   travelDuration                     50000 non-null  category      \n",
      " 6   isBasicEconomy                     50000 non-null  bool          \n",
      " 7   isRefundable                       50000 non-null  bool          \n",
      " 8   isNonStop                          50000 non-null  bool          \n",
      " 9   totalFare                          50000 non-null  float32       \n",
      " 10  totalTravelDistance                49672 non-null  float32       \n",
      " 11  segmentsDepartureTimeEpochSeconds  50000 non-null  category      \n",
      " 12  segmentsDepartureTimeRaw           50000 non-null  category      \n",
      " 13  segmentsArrivalTimeEpochSeconds    50000 non-null  category      \n",
      " 14  segmentsArrivalTimeRaw             50000 non-null  category      \n",
      " 15  segmentsArrivalAirportCode         50000 non-null  category      \n",
      " 16  segmentsDepartureAirportCode       50000 non-null  category      \n",
      " 17  segmentsAirlineName                50000 non-null  category      \n",
      " 18  segmentsAirlineCode                50000 non-null  category      \n",
      " 19  segmentsEquipmentDescription       49241 non-null  category      \n",
      " 20  segmentsDurationInSeconds          50000 non-null  category      \n",
      " 21  segmentsDistance                   49977 non-null  category      \n",
      " 22  segmentsCabinCode                  50000 non-null  category      \n",
      "dtypes: bool(3), category(16), datetime64[ns](2), float32(2)\n",
      "memory usage: 25.7 MB\n"
     ]
    }
   ],
   "source": [
    "optimized_df.info(memory_usage='deep')"
   ]
  },
  {
   "cell_type": "code",
   "execution_count": null,
   "id": "ea6ba4e5-9aa7-4344-94a8-fbc2211275d1",
   "metadata": {},
   "outputs": [],
   "source": []
  },
  {
   "cell_type": "code",
   "execution_count": 451,
   "id": "c7215f67-ea90-458b-8d79-cd757bec1002",
   "metadata": {
    "tags": []
   },
   "outputs": [],
   "source": [
    "optimized_df.to_pickle('../data/interim/optimized_sfo_df.pkl')"
   ]
  },
  {
   "cell_type": "code",
   "execution_count": 452,
   "id": "d9b791d9-ac41-42ae-807d-a90233e468b2",
   "metadata": {
    "tags": []
   },
   "outputs": [
    {
     "name": "stdout",
     "output_type": "stream",
     "text": [
      "<class 'pandas.core.frame.DataFrame'>\n",
      "Index: 50000 entries, 149845 to 700029\n",
      "Data columns (total 23 columns):\n",
      " #   Column                             Non-Null Count  Dtype         \n",
      "---  ------                             --------------  -----         \n",
      " 0   legId                              50000 non-null  category      \n",
      " 1   searchDate                         50000 non-null  datetime64[ns]\n",
      " 2   flightDate                         50000 non-null  datetime64[ns]\n",
      " 3   startingAirport                    50000 non-null  category      \n",
      " 4   destinationAirport                 50000 non-null  category      \n",
      " 5   travelDuration                     50000 non-null  category      \n",
      " 6   isBasicEconomy                     50000 non-null  bool          \n",
      " 7   isRefundable                       50000 non-null  bool          \n",
      " 8   isNonStop                          50000 non-null  bool          \n",
      " 9   totalFare                          50000 non-null  float32       \n",
      " 10  totalTravelDistance                49672 non-null  float32       \n",
      " 11  segmentsDepartureTimeEpochSeconds  50000 non-null  category      \n",
      " 12  segmentsDepartureTimeRaw           50000 non-null  category      \n",
      " 13  segmentsArrivalTimeEpochSeconds    50000 non-null  category      \n",
      " 14  segmentsArrivalTimeRaw             50000 non-null  category      \n",
      " 15  segmentsArrivalAirportCode         50000 non-null  category      \n",
      " 16  segmentsDepartureAirportCode       50000 non-null  category      \n",
      " 17  segmentsAirlineName                50000 non-null  category      \n",
      " 18  segmentsAirlineCode                50000 non-null  category      \n",
      " 19  segmentsEquipmentDescription       49241 non-null  category      \n",
      " 20  segmentsDurationInSeconds          50000 non-null  category      \n",
      " 21  segmentsDistance                   49977 non-null  category      \n",
      " 22  segmentsCabinCode                  50000 non-null  category      \n",
      "dtypes: bool(3), category(16), datetime64[ns](2), float32(2)\n",
      "memory usage: 20.2 MB\n"
     ]
    }
   ],
   "source": [
    "\n",
    "optimized_df.to_pickle('../data/interim/optimized_sfo_df.pkl')\n",
    "df = pd.read_pickle('../data/interim/optimized_sfo_df.pkl')\n",
    "df.info(memory_usage='deep')"
   ]
  },
  {
   "cell_type": "code",
   "execution_count": 455,
   "id": "89bdccc3-df68-4b90-87cd-96119a8e60a1",
   "metadata": {
    "tags": []
   },
   "outputs": [
    {
     "data": {
      "text/plain": [
       "(810000, 23)"
      ]
     },
     "execution_count": 455,
     "metadata": {},
     "output_type": "execute_result"
    }
   ],
   "source": [
    "list_of_files = Path('../data/interim/').glob('*.pkl')\n",
    "\n",
    "df_final = pd.concat(pd.read_pickle(f) for f in list_of_files)\n",
    "df_final.shape"
   ]
  },
  {
   "cell_type": "code",
   "execution_count": 456,
   "id": "2e5aa6f5-1d06-4ece-a1d0-02f85447faa5",
   "metadata": {
    "tags": []
   },
   "outputs": [
    {
     "name": "stdout",
     "output_type": "stream",
     "text": [
      "<class 'pandas.core.frame.DataFrame'>\n",
      "Index: 810000 entries, 749479 to 707264\n",
      "Data columns (total 23 columns):\n",
      " #   Column                             Non-Null Count   Dtype         \n",
      "---  ------                             --------------   -----         \n",
      " 0   legId                              810000 non-null  object        \n",
      " 1   searchDate                         810000 non-null  datetime64[ns]\n",
      " 2   flightDate                         810000 non-null  datetime64[ns]\n",
      " 3   startingAirport                    810000 non-null  object        \n",
      " 4   destinationAirport                 810000 non-null  object        \n",
      " 5   travelDuration                     810000 non-null  object        \n",
      " 6   isBasicEconomy                     810000 non-null  bool          \n",
      " 7   isRefundable                       810000 non-null  bool          \n",
      " 8   isNonStop                          810000 non-null  bool          \n",
      " 9   totalFare                          810000 non-null  float32       \n",
      " 10  totalTravelDistance                752608 non-null  float32       \n",
      " 11  segmentsDepartureTimeEpochSeconds  810000 non-null  object        \n",
      " 12  segmentsDepartureTimeRaw           810000 non-null  object        \n",
      " 13  segmentsArrivalTimeEpochSeconds    810000 non-null  object        \n",
      " 14  segmentsArrivalTimeRaw             810000 non-null  object        \n",
      " 15  segmentsArrivalAirportCode         810000 non-null  object        \n",
      " 16  segmentsDepartureAirportCode       810000 non-null  object        \n",
      " 17  segmentsAirlineName                810000 non-null  object        \n",
      " 18  segmentsAirlineCode                810000 non-null  object        \n",
      " 19  segmentsEquipmentDescription       794813 non-null  object        \n",
      " 20  segmentsDurationInSeconds          810000 non-null  object        \n",
      " 21  segmentsDistance                   802756 non-null  object        \n",
      " 22  segmentsCabinCode                  810000 non-null  object        \n",
      "dtypes: bool(3), datetime64[ns](2), float32(2), object(16)\n",
      "memory usage: 952.4 MB\n"
     ]
    }
   ],
   "source": [
    "df_final.info(memory_usage='deep')"
   ]
  },
  {
   "cell_type": "code",
   "execution_count": 457,
   "id": "39c8b494-8166-4cc6-a814-e6a2577d3ee7",
   "metadata": {
    "tags": []
   },
   "outputs": [
    {
     "name": "stdout",
     "output_type": "stream",
     "text": [
      "int memory usage: 6.18 MB\n",
      "unsigned memory usage: 6.18 MB\n",
      "float memory usage: 12.36 MB\n",
      "float memory usage: 12.36 MB\n"
     ]
    }
   ],
   "source": [
    "df_converted_int = downcast_type(df_final, \"int\", \"unsigned\")\n",
    "df_converted_float = downcast_type(df_final, \"float\", \"float\")"
   ]
  },
  {
   "cell_type": "code",
   "execution_count": 459,
   "id": "1cd1d906-c7b1-4d06-8efb-4057fb0e185c",
   "metadata": {
    "tags": []
   },
   "outputs": [],
   "source": [
    "optimized_df = df_final.copy()\n",
    "optimized_df[df_converted_int.columns] = df_converted_int\n",
    "optimized_df[df_converted_float.columns] = df_converted_float\n"
   ]
  },
  {
   "cell_type": "code",
   "execution_count": 460,
   "id": "697d9d3c-025c-4cb0-97be-2d86d39da2de",
   "metadata": {
    "tags": []
   },
   "outputs": [
    {
     "name": "stdout",
     "output_type": "stream",
     "text": [
      "                                   legId startingAirport destinationAirport   \n",
      "count                             810000          810000             810000  \\\n",
      "unique                            547576              16                 16   \n",
      "top     4c30d9e661ee54356adc64b60dedd565             BOS                LAX   \n",
      "freq                                   9           60000              81019   \n",
      "\n",
      "       travelDuration segmentsDepartureTimeEpochSeconds   \n",
      "count          810000                            810000  \\\n",
      "unique           1436                            423399   \n",
      "top           PT1H25M                        1653040800   \n",
      "freq             3187                               124   \n",
      "\n",
      "             segmentsDepartureTimeRaw segmentsArrivalTimeEpochSeconds   \n",
      "count                          810000                          810000  \\\n",
      "unique                         452290                          464811   \n",
      "top     2022-05-20T06:00:00.000-04:00                      1653105540   \n",
      "freq                              117                              37   \n",
      "\n",
      "               segmentsArrivalTimeRaw segmentsArrivalAirportCode   \n",
      "count                          810000                     810000  \\\n",
      "unique                         490193                       3678   \n",
      "top     2022-05-24T23:59:00.000-04:00                        BOS   \n",
      "freq                               31                      21300   \n",
      "\n",
      "       segmentsDepartureAirportCode                   segmentsAirlineName   \n",
      "count                        810000                                810000  \\\n",
      "unique                         3681                                   106   \n",
      "top                             BOS  American Airlines||American Airlines   \n",
      "freq                          21849                                141085   \n",
      "\n",
      "       segmentsAirlineCode segmentsEquipmentDescription   \n",
      "count               810000                       794813  \\\n",
      "unique                 106                         4253   \n",
      "top                 AA||AA               Boeing 737-800   \n",
      "freq                141085                        42728   \n",
      "\n",
      "       segmentsDurationInSeconds segmentsDistance segmentsCabinCode  \n",
      "count                     810000           802756            810000  \n",
      "unique                     56451             7550                37  \n",
      "top                         5100       None||None      coach||coach  \n",
      "freq                        3187            48302            507091  \n"
     ]
    }
   ],
   "source": [
    "df_obj = optimized_df.select_dtypes(include=['object']).copy()\n",
    "df_unique_objs = df_obj.describe()\n",
    "\n",
    "print(df_unique_objs)"
   ]
  },
  {
   "cell_type": "code",
   "execution_count": 461,
   "id": "0b17a0bb-22a0-4b08-aabd-47e6c90150de",
   "metadata": {
    "tags": []
   },
   "outputs": [
    {
     "data": {
      "text/plain": [
       "legId                                67.601975\n",
       "startingAirport                       0.001975\n",
       "destinationAirport                    0.001975\n",
       "travelDuration                        0.177284\n",
       "segmentsDepartureTimeEpochSeconds    52.271481\n",
       "segmentsDepartureTimeRaw             55.838272\n",
       "segmentsArrivalTimeEpochSeconds      57.384074\n",
       "segmentsArrivalTimeRaw               60.517654\n",
       "segmentsArrivalAirportCode            0.454074\n",
       "segmentsDepartureAirportCode          0.454444\n",
       "segmentsAirlineName                   0.013086\n",
       "segmentsAirlineCode                   0.013086\n",
       "segmentsEquipmentDescription          0.535094\n",
       "segmentsDurationInSeconds             6.969259\n",
       "segmentsDistance                       0.94051\n",
       "segmentsCabinCode                     0.004568\n",
       "dtype: object"
      ]
     },
     "execution_count": 461,
     "metadata": {},
     "output_type": "execute_result"
    }
   ],
   "source": [
    "df_unique_objs.iloc[1,:] / df_unique_objs.iloc[0,:] * 100"
   ]
  },
  {
   "cell_type": "code",
   "execution_count": 462,
   "id": "e2c235ee-8465-4d32-83a3-f025c3818d96",
   "metadata": {
    "tags": []
   },
   "outputs": [],
   "source": [
    "df_obj_cat = df_obj.astype('category')"
   ]
  },
  {
   "cell_type": "code",
   "execution_count": 463,
   "id": "91e52046-8465-4d6b-830e-2c8e163b3c4a",
   "metadata": {
    "tags": []
   },
   "outputs": [],
   "source": [
    "optimized_df[df_obj_cat.columns] = df_obj_cat"
   ]
  },
  {
   "cell_type": "code",
   "execution_count": 464,
   "id": "dd01acf4-7c5e-4ecb-b4d6-87af9bcd028c",
   "metadata": {
    "tags": []
   },
   "outputs": [
    {
     "name": "stdout",
     "output_type": "stream",
     "text": [
      "<class 'pandas.core.frame.DataFrame'>\n",
      "Index: 810000 entries, 749479 to 707264\n",
      "Data columns (total 23 columns):\n",
      " #   Column                             Non-Null Count   Dtype         \n",
      "---  ------                             --------------   -----         \n",
      " 0   legId                              810000 non-null  category      \n",
      " 1   searchDate                         810000 non-null  datetime64[ns]\n",
      " 2   flightDate                         810000 non-null  datetime64[ns]\n",
      " 3   startingAirport                    810000 non-null  category      \n",
      " 4   destinationAirport                 810000 non-null  category      \n",
      " 5   travelDuration                     810000 non-null  category      \n",
      " 6   isBasicEconomy                     810000 non-null  bool          \n",
      " 7   isRefundable                       810000 non-null  bool          \n",
      " 8   isNonStop                          810000 non-null  bool          \n",
      " 9   totalFare                          810000 non-null  float32       \n",
      " 10  totalTravelDistance                752608 non-null  float32       \n",
      " 11  segmentsDepartureTimeEpochSeconds  810000 non-null  category      \n",
      " 12  segmentsDepartureTimeRaw           810000 non-null  category      \n",
      " 13  segmentsArrivalTimeEpochSeconds    810000 non-null  category      \n",
      " 14  segmentsArrivalTimeRaw             810000 non-null  category      \n",
      " 15  segmentsArrivalAirportCode         810000 non-null  category      \n",
      " 16  segmentsDepartureAirportCode       810000 non-null  category      \n",
      " 17  segmentsAirlineName                810000 non-null  category      \n",
      " 18  segmentsAirlineCode                810000 non-null  category      \n",
      " 19  segmentsEquipmentDescription       794813 non-null  category      \n",
      " 20  segmentsDurationInSeconds          810000 non-null  category      \n",
      " 21  segmentsDistance                   802756 non-null  category      \n",
      " 22  segmentsCabinCode                  810000 non-null  category      \n",
      "dtypes: bool(3), category(16), datetime64[ns](2), float32(2)\n",
      "memory usage: 394.7 MB\n"
     ]
    }
   ],
   "source": [
    "optimized_df.info(memory_usage='deep')"
   ]
  },
  {
   "cell_type": "code",
   "execution_count": 465,
   "id": "90acdb4a-31cc-4131-bc84-c6e94e39510a",
   "metadata": {
    "tags": []
   },
   "outputs": [
    {
     "name": "stdout",
     "output_type": "stream",
     "text": [
      "<class 'pandas.core.frame.DataFrame'>\n",
      "Index: 810000 entries, 749479 to 707264\n",
      "Data columns (total 23 columns):\n",
      " #   Column                             Non-Null Count   Dtype         \n",
      "---  ------                             --------------   -----         \n",
      " 0   legId                              810000 non-null  category      \n",
      " 1   searchDate                         810000 non-null  datetime64[ns]\n",
      " 2   flightDate                         810000 non-null  datetime64[ns]\n",
      " 3   startingAirport                    810000 non-null  category      \n",
      " 4   destinationAirport                 810000 non-null  category      \n",
      " 5   travelDuration                     810000 non-null  category      \n",
      " 6   isBasicEconomy                     810000 non-null  bool          \n",
      " 7   isRefundable                       810000 non-null  bool          \n",
      " 8   isNonStop                          810000 non-null  bool          \n",
      " 9   totalFare                          810000 non-null  float32       \n",
      " 10  totalTravelDistance                752608 non-null  float32       \n",
      " 11  segmentsDepartureTimeEpochSeconds  810000 non-null  category      \n",
      " 12  segmentsDepartureTimeRaw           810000 non-null  category      \n",
      " 13  segmentsArrivalTimeEpochSeconds    810000 non-null  category      \n",
      " 14  segmentsArrivalTimeRaw             810000 non-null  category      \n",
      " 15  segmentsArrivalAirportCode         810000 non-null  category      \n",
      " 16  segmentsDepartureAirportCode       810000 non-null  category      \n",
      " 17  segmentsAirlineName                810000 non-null  category      \n",
      " 18  segmentsAirlineCode                810000 non-null  category      \n",
      " 19  segmentsEquipmentDescription       794813 non-null  category      \n",
      " 20  segmentsDurationInSeconds          810000 non-null  category      \n",
      " 21  segmentsDistance                   802756 non-null  category      \n",
      " 22  segmentsCabinCode                  810000 non-null  category      \n",
      "dtypes: bool(3), category(16), datetime64[ns](2), float32(2)\n",
      "memory usage: 279.1 MB\n"
     ]
    }
   ],
   "source": [
    "optimized_df.to_pickle('../data/processed/optimized_df.pkl')\n",
    "df = pd.read_pickle('../data/processed/optimized_df.pkl')\n",
    "df.info(memory_usage='deep')"
   ]
  }
 ],
 "metadata": {
  "kernelspec": {
   "display_name": "Python 3 (ipykernel)",
   "language": "python",
   "name": "python3"
  },
  "language_info": {
   "codemirror_mode": {
    "name": "ipython",
    "version": 3
   },
   "file_extension": ".py",
   "mimetype": "text/x-python",
   "name": "python",
   "nbconvert_exporter": "python",
   "pygments_lexer": "ipython3",
   "version": "3.9.13"
  }
 },
 "nbformat": 4,
 "nbformat_minor": 5
}
