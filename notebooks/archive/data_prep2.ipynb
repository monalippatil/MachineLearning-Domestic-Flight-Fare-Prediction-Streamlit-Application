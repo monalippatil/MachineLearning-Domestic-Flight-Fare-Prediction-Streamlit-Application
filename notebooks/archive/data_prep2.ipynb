{
 "cells": [
  {
   "cell_type": "code",
<<<<<<< HEAD
   "execution_count": 1,
=======
   "execution_count": 43,
>>>>>>> d8a5b4e801a5cb234a3556e216fa7bf06707d9ad
   "id": "1a05f739-fa1e-4a5c-9543-df0b35fbb1e6",
   "metadata": {
    "tags": []
   },
   "outputs": [],
   "source": [
    "import pandas as pd\n",
    "#import seaborn as sns\n",
    "from datetime import date"
   ]
  },
  {
<<<<<<< HEAD
   "cell_type": "markdown",
   "id": "8b05cb97-957e-4f4c-85c6-1a8290aeea0c",
   "metadata": {},
   "source": [
    "## Add the combination of data"
   ]
  },
  {
=======
>>>>>>> d8a5b4e801a5cb234a3556e216fa7bf06707d9ad
   "cell_type": "code",
   "execution_count": 44,
   "id": "daebb93c-bfe7-4c81-a19c-18304dc96bd7",
   "metadata": {
    "tags": []
   },
   "outputs": [
    {
     "data": {
      "text/html": [
       "<div>\n",
       "<style scoped>\n",
       "    .dataframe tbody tr th:only-of-type {\n",
       "        vertical-align: middle;\n",
       "    }\n",
       "\n",
       "    .dataframe tbody tr th {\n",
       "        vertical-align: top;\n",
       "    }\n",
       "\n",
       "    .dataframe thead th {\n",
       "        text-align: right;\n",
       "    }\n",
       "</style>\n",
       "<table border=\"1\" class=\"dataframe\">\n",
       "  <thead>\n",
       "    <tr style=\"text-align: right;\">\n",
       "      <th></th>\n",
       "      <th>legId</th>\n",
       "      <th>searchDate</th>\n",
       "      <th>flightDate</th>\n",
       "      <th>startingAirport</th>\n",
       "      <th>destinationAirport</th>\n",
       "      <th>travelDuration</th>\n",
       "      <th>isBasicEconomy</th>\n",
       "      <th>isRefundable</th>\n",
       "      <th>isNonStop</th>\n",
       "      <th>totalFare</th>\n",
       "      <th>...</th>\n",
       "      <th>segmentsArrivalTimeRaw</th>\n",
       "      <th>segmentsArrivalAirportCode</th>\n",
       "      <th>segmentsDepartureAirportCode</th>\n",
       "      <th>segmentsAirlineName</th>\n",
       "      <th>segmentsAirlineCode</th>\n",
       "      <th>segmentsEquipmentDescription</th>\n",
       "      <th>segmentsDurationInSeconds</th>\n",
       "      <th>segmentsDistance</th>\n",
       "      <th>segmentsCabinCode</th>\n",
       "      <th>segmentsDepartureTimeRaw_1</th>\n",
       "    </tr>\n",
       "  </thead>\n",
       "  <tbody>\n",
       "    <tr>\n",
       "      <th>0</th>\n",
       "      <td>f53eb83f7a496ad0cab7e1e24170cd67</td>\n",
       "      <td>2022-04-23</td>\n",
       "      <td>2022-06-17</td>\n",
       "      <td>ATL</td>\n",
       "      <td>BOS</td>\n",
       "      <td>PT10H16M</td>\n",
       "      <td>False</td>\n",
       "      <td>False</td>\n",
       "      <td>False</td>\n",
       "      <td>159.59</td>\n",
       "      <td>...</td>\n",
       "      <td>2022-06-17T23:20:00.000-04:00||2022-06-18T07:2...</td>\n",
       "      <td>PHL||BOS</td>\n",
       "      <td>ATL||PHL</td>\n",
       "      <td>Frontier Airlines||Frontier Airlines</td>\n",
       "      <td>F9||F9</td>\n",
       "      <td>||</td>\n",
       "      <td>7800||5160</td>\n",
       "      <td>667||280</td>\n",
       "      <td>coach||coach</td>\n",
       "      <td>2022-06-17 21:10</td>\n",
       "    </tr>\n",
       "    <tr>\n",
       "      <th>1</th>\n",
       "      <td>11bb0698de5fac38e0e6e6fa021e464c</td>\n",
       "      <td>2022-04-23</td>\n",
       "      <td>2022-06-17</td>\n",
       "      <td>ATL</td>\n",
       "      <td>BOS</td>\n",
       "      <td>PT2H43M</td>\n",
       "      <td>True</td>\n",
       "      <td>False</td>\n",
       "      <td>True</td>\n",
       "      <td>173.60</td>\n",
       "      <td>...</td>\n",
       "      <td>2022-06-17T22:38:00.000-04:00</td>\n",
       "      <td>BOS</td>\n",
       "      <td>ATL</td>\n",
       "      <td>Delta</td>\n",
       "      <td>DL</td>\n",
       "      <td>Airbus A321</td>\n",
       "      <td>9780</td>\n",
       "      <td>947</td>\n",
       "      <td>coach</td>\n",
       "      <td>2022-06-17 19:55</td>\n",
       "    </tr>\n",
       "    <tr>\n",
       "      <th>2</th>\n",
       "      <td>88abbf9668299dd02cf088478c0d96e4</td>\n",
       "      <td>2022-04-23</td>\n",
       "      <td>2022-06-17</td>\n",
       "      <td>ATL</td>\n",
       "      <td>BOS</td>\n",
       "      <td>PT9H6M</td>\n",
       "      <td>False</td>\n",
       "      <td>False</td>\n",
       "      <td>False</td>\n",
       "      <td>181.58</td>\n",
       "      <td>...</td>\n",
       "      <td>2022-06-17T17:04:00.000-04:00||2022-06-18T00:1...</td>\n",
       "      <td>FLL||BOS</td>\n",
       "      <td>ATL||FLL</td>\n",
       "      <td>Spirit Airlines||Spirit Airlines</td>\n",
       "      <td>NK||NK</td>\n",
       "      <td>||</td>\n",
       "      <td>7140||11760</td>\n",
       "      <td>None||None</td>\n",
       "      <td>coach||coach</td>\n",
       "      <td>2022-06-17 15:05</td>\n",
       "    </tr>\n",
       "    <tr>\n",
       "      <th>3</th>\n",
       "      <td>349da8c04a975a46350cce6c7012a05a</td>\n",
       "      <td>2022-04-23</td>\n",
       "      <td>2022-06-17</td>\n",
       "      <td>ATL</td>\n",
       "      <td>BOS</td>\n",
       "      <td>PT5H8M</td>\n",
       "      <td>False</td>\n",
       "      <td>False</td>\n",
       "      <td>False</td>\n",
       "      <td>216.61</td>\n",
       "      <td>...</td>\n",
       "      <td>2022-06-17T09:29:00.000-04:00||2022-06-17T12:2...</td>\n",
       "      <td>JFK||BOS</td>\n",
       "      <td>ATL||JFK</td>\n",
       "      <td>JetBlue Airways||JetBlue Airways</td>\n",
       "      <td>B6||B6</td>\n",
       "      <td>Airbus A320||Embraer 190</td>\n",
       "      <td>8100||4380</td>\n",
       "      <td>762||185</td>\n",
       "      <td>coach||coach</td>\n",
       "      <td>2022-06-17 07:14</td>\n",
       "    </tr>\n",
       "    <tr>\n",
       "      <th>4</th>\n",
       "      <td>377d4ac77ef045e4da5e5bf8ac232d3b</td>\n",
       "      <td>2022-04-23</td>\n",
       "      <td>2022-06-17</td>\n",
       "      <td>ATL</td>\n",
       "      <td>BOS</td>\n",
       "      <td>PT2H38M</td>\n",
       "      <td>False</td>\n",
       "      <td>False</td>\n",
       "      <td>True</td>\n",
       "      <td>218.60</td>\n",
       "      <td>...</td>\n",
       "      <td>2022-06-17T23:53:00.000-04:00</td>\n",
       "      <td>BOS</td>\n",
       "      <td>ATL</td>\n",
       "      <td>Delta</td>\n",
       "      <td>DL</td>\n",
       "      <td>Boeing 737-800</td>\n",
       "      <td>9480</td>\n",
       "      <td>947</td>\n",
       "      <td>coach</td>\n",
       "      <td>2022-06-17 21:15</td>\n",
       "    </tr>\n",
       "    <tr>\n",
       "      <th>...</th>\n",
       "      <td>...</td>\n",
       "      <td>...</td>\n",
       "      <td>...</td>\n",
       "      <td>...</td>\n",
       "      <td>...</td>\n",
       "      <td>...</td>\n",
       "      <td>...</td>\n",
       "      <td>...</td>\n",
       "      <td>...</td>\n",
       "      <td>...</td>\n",
       "      <td>...</td>\n",
       "      <td>...</td>\n",
       "      <td>...</td>\n",
       "      <td>...</td>\n",
       "      <td>...</td>\n",
       "      <td>...</td>\n",
       "      <td>...</td>\n",
       "      <td>...</td>\n",
       "      <td>...</td>\n",
       "      <td>...</td>\n",
       "      <td>...</td>\n",
       "    </tr>\n",
       "    <tr>\n",
       "      <th>13519994</th>\n",
       "      <td>fe5551b966d58579b7a829b5870603b1</td>\n",
       "      <td>2022-05-13</td>\n",
       "      <td>2022-05-27</td>\n",
       "      <td>SFO</td>\n",
       "      <td>PHL</td>\n",
       "      <td>PT10H36M</td>\n",
       "      <td>False</td>\n",
       "      <td>False</td>\n",
       "      <td>False</td>\n",
       "      <td>962.20</td>\n",
       "      <td>...</td>\n",
       "      <td>2022-05-27T16:35:00.000-04:00||2022-05-27T21:2...</td>\n",
       "      <td>EWR||PHL</td>\n",
       "      <td>SFO||EWR</td>\n",
       "      <td>Alaska Airlines||United</td>\n",
       "      <td>AS||UA</td>\n",
       "      <td>Boeing 737-900||Embraer 175 (Enhanced Winglets)</td>\n",
       "      <td>20520||2880</td>\n",
       "      <td>2566||97</td>\n",
       "      <td>coach||coach</td>\n",
       "      <td>2022-05-27 07:53</td>\n",
       "    </tr>\n",
       "    <tr>\n",
       "      <th>13519995</th>\n",
       "      <td>215bee5a2bd73e9161b2c827478d8baf</td>\n",
       "      <td>2022-05-13</td>\n",
       "      <td>2022-05-27</td>\n",
       "      <td>SFO</td>\n",
       "      <td>PHL</td>\n",
       "      <td>PT9H40M</td>\n",
       "      <td>False</td>\n",
       "      <td>False</td>\n",
       "      <td>False</td>\n",
       "      <td>1007.86</td>\n",
       "      <td>...</td>\n",
       "      <td>2022-05-28T08:21:00.000-04:00||2022-05-28T12:1...</td>\n",
       "      <td>BOS||PHL</td>\n",
       "      <td>SFO||BOS</td>\n",
       "      <td>JetBlue Airways||JetBlue Airways</td>\n",
       "      <td>B6||B6</td>\n",
       "      <td>Airbus A319-321||Embraer 190</td>\n",
       "      <td>20760||5700</td>\n",
       "      <td>2698||280</td>\n",
       "      <td>coach||coach</td>\n",
       "      <td>2022-05-27 23:35</td>\n",
       "    </tr>\n",
       "    <tr>\n",
       "      <th>13519996</th>\n",
       "      <td>89a8e9b241a85502744c6db56f85a310</td>\n",
       "      <td>2022-05-13</td>\n",
       "      <td>2022-05-27</td>\n",
       "      <td>SFO</td>\n",
       "      <td>PHL</td>\n",
       "      <td>PT11H45M</td>\n",
       "      <td>False</td>\n",
       "      <td>False</td>\n",
       "      <td>False</td>\n",
       "      <td>1013.46</td>\n",
       "      <td>...</td>\n",
       "      <td>2022-05-28T06:13:00.000-04:00||2022-05-28T12:1...</td>\n",
       "      <td>BOS||PHL</td>\n",
       "      <td>SFO||BOS</td>\n",
       "      <td>JetBlue Airways||JetBlue Airways</td>\n",
       "      <td>B6||B6</td>\n",
       "      <td>Airbus A319-321||Embraer 190</td>\n",
       "      <td>20580||5700</td>\n",
       "      <td>2698||280</td>\n",
       "      <td>coach||coach</td>\n",
       "      <td>2022-05-27 21:30</td>\n",
       "    </tr>\n",
       "    <tr>\n",
       "      <th>13519997</th>\n",
       "      <td>3ed6e422ed3c561e7ab3c073a0a7cbfb</td>\n",
       "      <td>2022-05-13</td>\n",
       "      <td>2022-05-27</td>\n",
       "      <td>SFO</td>\n",
       "      <td>PHL</td>\n",
       "      <td>PT6H48M</td>\n",
       "      <td>False</td>\n",
       "      <td>False</td>\n",
       "      <td>False</td>\n",
       "      <td>1133.10</td>\n",
       "      <td>...</td>\n",
       "      <td>2022-05-27T10:10:00.000-06:00||2022-05-27T16:2...</td>\n",
       "      <td>DEN||PHL</td>\n",
       "      <td>SFO||DEN</td>\n",
       "      <td>United||United</td>\n",
       "      <td>UA||UA</td>\n",
       "      <td>Boeing 737-800||Boeing 737-800</td>\n",
       "      <td>9360||12540</td>\n",
       "      <td>954||1567</td>\n",
       "      <td>premium coach||premium coach</td>\n",
       "      <td>2022-05-27 06:34</td>\n",
       "    </tr>\n",
       "    <tr>\n",
       "      <th>13519998</th>\n",
       "      <td>d79d94757127799c42018b584233155a</td>\n",
       "      <td>2022-05-13</td>\n",
       "      <td>2022-05-27</td>\n",
       "      <td>SFO</td>\n",
       "      <td>PHL</td>\n",
       "      <td>PT8H30M</td>\n",
       "      <td>False</td>\n",
       "      <td>False</td>\n",
       "      <td>False</td>\n",
       "      <td>1202.00</td>\n",
       "      <td>...</td>\n",
       "      <td>2022-05-27T20:43:00.000-07:00||2022-05-28T06:0...</td>\n",
       "      <td>SEA||PHL</td>\n",
       "      <td>SFO||SEA</td>\n",
       "      <td>Alaska Airlines||Alaska Airlines</td>\n",
       "      <td>AS||AS</td>\n",
       "      <td>AIRBUS INDUSTRIE A321 SHARKLETS||Boeing 737-900</td>\n",
       "      <td>7980||18600</td>\n",
       "      <td>679||2372</td>\n",
       "      <td>coach||coach</td>\n",
       "      <td>2022-05-27 18:30</td>\n",
       "    </tr>\n",
       "  </tbody>\n",
       "</table>\n",
       "<p>13519999 rows × 24 columns</p>\n",
       "</div>"
      ],
      "text/plain": [
       "                                     legId  searchDate  flightDate   \n",
       "0         f53eb83f7a496ad0cab7e1e24170cd67  2022-04-23  2022-06-17  \\\n",
       "1         11bb0698de5fac38e0e6e6fa021e464c  2022-04-23  2022-06-17   \n",
       "2         88abbf9668299dd02cf088478c0d96e4  2022-04-23  2022-06-17   \n",
       "3         349da8c04a975a46350cce6c7012a05a  2022-04-23  2022-06-17   \n",
       "4         377d4ac77ef045e4da5e5bf8ac232d3b  2022-04-23  2022-06-17   \n",
       "...                                    ...         ...         ...   \n",
       "13519994  fe5551b966d58579b7a829b5870603b1  2022-05-13  2022-05-27   \n",
       "13519995  215bee5a2bd73e9161b2c827478d8baf  2022-05-13  2022-05-27   \n",
       "13519996  89a8e9b241a85502744c6db56f85a310  2022-05-13  2022-05-27   \n",
       "13519997  3ed6e422ed3c561e7ab3c073a0a7cbfb  2022-05-13  2022-05-27   \n",
       "13519998  d79d94757127799c42018b584233155a  2022-05-13  2022-05-27   \n",
       "\n",
       "         startingAirport destinationAirport travelDuration  isBasicEconomy   \n",
       "0                    ATL                BOS       PT10H16M           False  \\\n",
       "1                    ATL                BOS        PT2H43M            True   \n",
       "2                    ATL                BOS         PT9H6M           False   \n",
       "3                    ATL                BOS         PT5H8M           False   \n",
       "4                    ATL                BOS        PT2H38M           False   \n",
       "...                  ...                ...            ...             ...   \n",
       "13519994             SFO                PHL       PT10H36M           False   \n",
       "13519995             SFO                PHL        PT9H40M           False   \n",
       "13519996             SFO                PHL       PT11H45M           False   \n",
       "13519997             SFO                PHL        PT6H48M           False   \n",
       "13519998             SFO                PHL        PT8H30M           False   \n",
       "\n",
       "          isRefundable  isNonStop  totalFare  ...   \n",
       "0                False      False     159.59  ...  \\\n",
       "1                False       True     173.60  ...   \n",
       "2                False      False     181.58  ...   \n",
       "3                False      False     216.61  ...   \n",
       "4                False       True     218.60  ...   \n",
       "...                ...        ...        ...  ...   \n",
       "13519994         False      False     962.20  ...   \n",
       "13519995         False      False    1007.86  ...   \n",
       "13519996         False      False    1013.46  ...   \n",
       "13519997         False      False    1133.10  ...   \n",
       "13519998         False      False    1202.00  ...   \n",
       "\n",
       "                                     segmentsArrivalTimeRaw   \n",
       "0         2022-06-17T23:20:00.000-04:00||2022-06-18T07:2...  \\\n",
       "1                             2022-06-17T22:38:00.000-04:00   \n",
       "2         2022-06-17T17:04:00.000-04:00||2022-06-18T00:1...   \n",
       "3         2022-06-17T09:29:00.000-04:00||2022-06-17T12:2...   \n",
       "4                             2022-06-17T23:53:00.000-04:00   \n",
       "...                                                     ...   \n",
       "13519994  2022-05-27T16:35:00.000-04:00||2022-05-27T21:2...   \n",
       "13519995  2022-05-28T08:21:00.000-04:00||2022-05-28T12:1...   \n",
       "13519996  2022-05-28T06:13:00.000-04:00||2022-05-28T12:1...   \n",
       "13519997  2022-05-27T10:10:00.000-06:00||2022-05-27T16:2...   \n",
       "13519998  2022-05-27T20:43:00.000-07:00||2022-05-28T06:0...   \n",
       "\n",
       "         segmentsArrivalAirportCode segmentsDepartureAirportCode   \n",
       "0                          PHL||BOS                     ATL||PHL  \\\n",
       "1                               BOS                          ATL   \n",
       "2                          FLL||BOS                     ATL||FLL   \n",
       "3                          JFK||BOS                     ATL||JFK   \n",
       "4                               BOS                          ATL   \n",
       "...                             ...                          ...   \n",
       "13519994                   EWR||PHL                     SFO||EWR   \n",
       "13519995                   BOS||PHL                     SFO||BOS   \n",
       "13519996                   BOS||PHL                     SFO||BOS   \n",
       "13519997                   DEN||PHL                     SFO||DEN   \n",
       "13519998                   SEA||PHL                     SFO||SEA   \n",
       "\n",
       "                           segmentsAirlineName segmentsAirlineCode   \n",
       "0         Frontier Airlines||Frontier Airlines              F9||F9  \\\n",
       "1                                        Delta                  DL   \n",
       "2             Spirit Airlines||Spirit Airlines              NK||NK   \n",
       "3             JetBlue Airways||JetBlue Airways              B6||B6   \n",
       "4                                        Delta                  DL   \n",
       "...                                        ...                 ...   \n",
       "13519994               Alaska Airlines||United              AS||UA   \n",
       "13519995      JetBlue Airways||JetBlue Airways              B6||B6   \n",
       "13519996      JetBlue Airways||JetBlue Airways              B6||B6   \n",
       "13519997                        United||United              UA||UA   \n",
       "13519998      Alaska Airlines||Alaska Airlines              AS||AS   \n",
       "\n",
       "                             segmentsEquipmentDescription   \n",
       "0                                                      ||  \\\n",
       "1                                             Airbus A321   \n",
       "2                                                      ||   \n",
       "3                                Airbus A320||Embraer 190   \n",
       "4                                          Boeing 737-800   \n",
       "...                                                   ...   \n",
       "13519994  Boeing 737-900||Embraer 175 (Enhanced Winglets)   \n",
       "13519995                     Airbus A319-321||Embraer 190   \n",
       "13519996                     Airbus A319-321||Embraer 190   \n",
       "13519997                   Boeing 737-800||Boeing 737-800   \n",
       "13519998  AIRBUS INDUSTRIE A321 SHARKLETS||Boeing 737-900   \n",
       "\n",
       "         segmentsDurationInSeconds segmentsDistance   \n",
       "0                       7800||5160         667||280  \\\n",
       "1                             9780              947   \n",
       "2                      7140||11760       None||None   \n",
       "3                       8100||4380         762||185   \n",
       "4                             9480              947   \n",
       "...                            ...              ...   \n",
       "13519994               20520||2880         2566||97   \n",
       "13519995               20760||5700        2698||280   \n",
       "13519996               20580||5700        2698||280   \n",
       "13519997               9360||12540        954||1567   \n",
       "13519998               7980||18600        679||2372   \n",
       "\n",
       "                     segmentsCabinCode segmentsDepartureTimeRaw_1  \n",
       "0                         coach||coach           2022-06-17 21:10  \n",
       "1                                coach           2022-06-17 19:55  \n",
       "2                         coach||coach           2022-06-17 15:05  \n",
       "3                         coach||coach           2022-06-17 07:14  \n",
       "4                                coach           2022-06-17 21:15  \n",
       "...                                ...                        ...  \n",
       "13519994                  coach||coach           2022-05-27 07:53  \n",
       "13519995                  coach||coach           2022-05-27 23:35  \n",
       "13519996                  coach||coach           2022-05-27 21:30  \n",
       "13519997  premium coach||premium coach           2022-05-27 06:34  \n",
       "13519998                  coach||coach           2022-05-27 18:30  \n",
       "\n",
       "[13519999 rows x 24 columns]"
      ]
     },
     "execution_count": 44,
     "metadata": {},
     "output_type": "execute_result"
    }
   ],
   "source": [
    "# Reading combined csv file\n",
    "df = pd.read_csv('../data/external/combined_data_part_2.csv')\n",
    "df"
   ]
  },
  {
<<<<<<< HEAD
   "cell_type": "markdown",
   "id": "47c57d9c",
   "metadata": {},
   "source": [
    "## check the memory consumption of each columns for the combined data"
   ]
  },
  {
=======
>>>>>>> d8a5b4e801a5cb234a3556e216fa7bf06707d9ad
   "cell_type": "code",
   "execution_count": 3,
   "id": "85515444-1d37-4437-b475-6f6b92cf74d1",
   "metadata": {
    "tags": []
   },
   "outputs": [
    {
     "name": "stdout",
     "output_type": "stream",
     "text": [
      "<class 'pandas.core.frame.DataFrame'>\n",
      "RangeIndex: 13519999 entries, 0 to 13519998\n",
      "Data columns (total 24 columns):\n",
      " #   Column                             Dtype  \n",
      "---  ------                             -----  \n",
      " 0   legId                              object \n",
      " 1   searchDate                         object \n",
      " 2   flightDate                         object \n",
      " 3   startingAirport                    object \n",
      " 4   destinationAirport                 object \n",
      " 5   travelDuration                     object \n",
      " 6   isBasicEconomy                     bool   \n",
      " 7   isRefundable                       bool   \n",
      " 8   isNonStop                          bool   \n",
      " 9   totalFare                          float64\n",
      " 10  totalTravelDistance                float64\n",
      " 11  segmentsDepartureTimeEpochSeconds  object \n",
      " 12  segmentsDepartureTimeRaw           object \n",
      " 13  segmentsArrivalTimeEpochSeconds    object \n",
      " 14  segmentsArrivalTimeRaw             object \n",
      " 15  segmentsArrivalAirportCode         object \n",
      " 16  segmentsDepartureAirportCode       object \n",
      " 17  segmentsAirlineName                object \n",
      " 18  segmentsAirlineCode                object \n",
      " 19  segmentsEquipmentDescription       object \n",
      " 20  segmentsDurationInSeconds          object \n",
      " 21  segmentsDistance                   object \n",
      " 22  segmentsCabinCode                  object \n",
      " 23  segmentsDepartureTimeRaw_1         object \n",
      "dtypes: bool(3), float64(2), object(19)\n",
      "memory usage: 17.9 GB\n"
     ]
    },
    {
     "data": {
      "text/plain": [
       "None"
      ]
     },
     "metadata": {},
     "output_type": "display_data"
    }
   ],
   "source": [
<<<<<<< HEAD
    "#check the memory consumption of each columns for the combined data\n",
=======
>>>>>>> d8a5b4e801a5cb234a3556e216fa7bf06707d9ad
    "display(df.info(memory_usage='deep'))"
   ]
  },
  {
   "cell_type": "code",
   "execution_count": 45,
   "id": "0973f84c-6720-4b9a-b30d-6fa5ee8562d0",
   "metadata": {
    "tags": []
   },
   "outputs": [],
   "source": [
<<<<<<< HEAD
    "#change the date of combined data into datetime datatype instead of Object\n",
=======
>>>>>>> d8a5b4e801a5cb234a3556e216fa7bf06707d9ad
    "df[\"searchDate\"] = df[\"searchDate\"].astype('datetime64[ns]')\n",
    "df[\"flightDate\"] = df[\"flightDate\"].astype('datetime64[ns]')"
   ]
  },
  {
   "cell_type": "code",
   "execution_count": 46,
   "id": "e1b4d862-37aa-43b8-93aa-e8020a08af51",
   "metadata": {
    "tags": []
   },
   "outputs": [],
   "source": [
<<<<<<< HEAD
    "#feature engineered totalfare into average fare by flight id to gauge the overall price of the tickets without regards to search date\n",
=======
>>>>>>> d8a5b4e801a5cb234a3556e216fa7bf06707d9ad
    "df['avgFare'] = df.groupby('legId')['totalFare'].transform('mean')"
   ]
  },
  {
   "cell_type": "code",
   "execution_count": 47,
   "id": "7a117bee-a297-4356-8de9-bb2584da9f77",
   "metadata": {
    "tags": []
   },
   "outputs": [],
   "source": [
<<<<<<< HEAD
    "#dropping duplicates by based on legId, flightDate and keep the last for keeping avgFare\n",
=======
>>>>>>> d8a5b4e801a5cb234a3556e216fa7bf06707d9ad
    "df = df.drop_duplicates(subset=['legId','flightDate'],keep='last')"
   ]
  },
  {
   "cell_type": "code",
   "execution_count": 48,
   "id": "568ce5b1-ffdc-4538-b34e-35fdd45c18e7",
   "metadata": {
    "tags": []
   },
   "outputs": [],
   "source": [
<<<<<<< HEAD
    "#downcasting object and numerical data type to check memory usage of each column\n",
=======
>>>>>>> d8a5b4e801a5cb234a3556e216fa7bf06707d9ad
    "def downcast_type(df, old_type, new_type):\n",
    "    # get all the columns with the specified type – old_type\n",
    "    df_oldtype = df.select_dtypes(include=[old_type])\n",
    "\n",
    "    # convert all the columns from old_type to new_type\n",
    "    df_newtype = df_oldtype.apply(pd.to_numeric, downcast=new_type)\n",
    " \n",
    "    # print out the memory usage of old_type and new_type\n",
    "    print(f'{old_type} memory usage: {mem_usage(df_oldtype)}')\n",
    "    print(f'{new_type} memory usage: {mem_usage(df_newtype)}')\n",
    "\n",
    "    return df_newtype"
   ]
  },
  {
   "cell_type": "code",
   "execution_count": 49,
   "id": "26e80adc-105c-4c4d-8a93-d76b05a1aff0",
   "metadata": {
    "tags": []
   },
   "outputs": [],
   "source": [
<<<<<<< HEAD
    "#show memory usuage of each object in the dataframe\n",
=======
>>>>>>> d8a5b4e801a5cb234a3556e216fa7bf06707d9ad
    "def mem_usage(obj):\n",
    "    if isinstance(obj, pd.DataFrame):\n",
    "        usage_b = obj.memory_usage(deep=True).sum()\n",
    "    else: # we assume if not a df then it's a series\n",
    "        usage_b = obj.memory_usage(deep=True)\n",
    "\n",
    "    usage_mb = usage_b / 1024 ** 2     # bytes to megabytes    \n",
    "    return \"{:03.2f} MB\".format(usage_mb)"
   ]
  },
  {
   "cell_type": "code",
   "execution_count": 50,
   "id": "08b6441c-1c77-4029-861e-b115633c05ef",
   "metadata": {
    "tags": []
   },
   "outputs": [
    {
     "name": "stdout",
     "output_type": "stream",
     "text": [
      "int memory usage: 13.13 MB\n",
      "unsigned memory usage: 13.13 MB\n"
     ]
    }
   ],
   "source": [
<<<<<<< HEAD
    "#change int into unsigned int to save memory but our int values are already optimised\n",
=======
>>>>>>> d8a5b4e801a5cb234a3556e216fa7bf06707d9ad
    "df_converted_int = downcast_type(df, \"int\", \"unsigned\")"
   ]
  },
  {
   "cell_type": "code",
   "execution_count": 51,
   "id": "7b1df8f5-08c8-408b-9e6e-46eadbfdee07",
   "metadata": {
    "tags": []
   },
   "outputs": [
    {
     "name": "stdout",
     "output_type": "stream",
     "text": [
      "float memory usage: 52.54 MB\n",
      "float memory usage: 32.84 MB\n"
     ]
    }
   ],
   "source": [
<<<<<<< HEAD
    "#change float into unsigned int to save memory but our int values are already optimised\n",
=======
>>>>>>> d8a5b4e801a5cb234a3556e216fa7bf06707d9ad
    "df_converted_float = downcast_type(df, \"float\", \"float\")"
   ]
  },
  {
   "cell_type": "code",
<<<<<<< HEAD
=======
   "execution_count": 52,
   "id": "eb89b0b1-794c-41b2-ac94-aaaa72f66047",
   "metadata": {
    "tags": []
   },
   "outputs": [
    {
     "data": {
      "text/plain": [
       "(1721518, 25)"
      ]
     },
     "execution_count": 52,
     "metadata": {},
     "output_type": "execute_result"
    }
   ],
   "source": [
    "df.shape"
   ]
  },
  {
   "cell_type": "code",
>>>>>>> d8a5b4e801a5cb234a3556e216fa7bf06707d9ad
   "execution_count": 53,
   "id": "a84d09c0-4a75-4f09-b6cb-56dc9b126dd9",
   "metadata": {
    "tags": []
   },
   "outputs": [],
   "source": [
<<<<<<< HEAD
    "#recombined the downcasted int and float datatypes\n",
    "optimized_df = df.copy()\n",
    "df_converted_int = downcast_type(df, \"int\", \"unsigned\")\n",
    "optimized_df[df_converted_int.columns] = df_converted_int\n",
    "optimized_df[df_converted_float.columns] = df_converted_float"
=======
    "optimized_df = df.copy()\n",
    "\n",
    "df_converted_int = downcast_type(df, \"int\", \"unsigned\")\n",
    "optimized_df[df_converted_int.columns] = df_converted_int\n",
    "optimized_df[df_converted_float.columns] = df_converted_float\n"
>>>>>>> d8a5b4e801a5cb234a3556e216fa7bf06707d9ad
   ]
  },
  {
   "cell_type": "code",
   "execution_count": 54,
   "id": "ad2d04e9-06ff-4411-b4a2-a8932701d209",
   "metadata": {
    "tags": []
   },
   "outputs": [],
   "source": [
<<<<<<< HEAD
    "#selecting object datatypes and copy it\n",
=======
>>>>>>> d8a5b4e801a5cb234a3556e216fa7bf06707d9ad
    "df_obj = optimized_df.select_dtypes(include=['object']).copy()"
   ]
  },
  {
   "cell_type": "code",
   "execution_count": 55,
   "id": "bd563ece-b50d-48a7-9804-cca4a84fe7e9",
   "metadata": {
    "tags": []
   },
   "outputs": [],
   "source": [
<<<<<<< HEAD
    "#saving object datatypes as categorical to save memory\n",
=======
>>>>>>> d8a5b4e801a5cb234a3556e216fa7bf06707d9ad
    "df_obj_cat = df_obj.astype('category')"
   ]
  },
  {
   "cell_type": "code",
   "execution_count": 56,
   "id": "354051ac-f626-4484-922a-5e247985cbbb",
   "metadata": {
    "tags": []
   },
   "outputs": [],
   "source": [
<<<<<<< HEAD
    "#add categorical columns back to optimised df\n",
=======
>>>>>>> d8a5b4e801a5cb234a3556e216fa7bf06707d9ad
    "optimized_df[df_obj_cat.columns] = df_obj_cat"
   ]
  },
  {
   "cell_type": "code",
   "execution_count": 57,
   "id": "f21e4870-acb9-47b3-9bea-2e5be1642992",
   "metadata": {
    "tags": []
   },
   "outputs": [],
   "source": [
<<<<<<< HEAD
    "#save it to local machine for futher processing\n",
=======
>>>>>>> d8a5b4e801a5cb234a3556e216fa7bf06707d9ad
    "optimized_df.to_pickle('../data/interim/optimized_avg_fare_df.pkl')"
   ]
  },
  {
   "cell_type": "code",
   "execution_count": 89,
   "id": "9969e799-f916-4d37-8ffe-fe83f5ec1c6c",
   "metadata": {
    "tags": []
   },
   "outputs": [
    {
     "name": "stdout",
     "output_type": "stream",
     "text": [
      "<class 'pandas.core.frame.DataFrame'>\n",
      "Index: 1721518 entries, 17 to 13519998\n",
      "Data columns (total 25 columns):\n",
      " #   Column                             Dtype         \n",
      "---  ------                             -----         \n",
      " 0   legId                              category      \n",
      " 1   searchDate                         datetime64[ns]\n",
      " 2   flightDate                         datetime64[ns]\n",
      " 3   startingAirport                    category      \n",
      " 4   destinationAirport                 category      \n",
      " 5   travelDuration                     category      \n",
      " 6   isBasicEconomy                     bool          \n",
      " 7   isRefundable                       bool          \n",
      " 8   isNonStop                          bool          \n",
      " 9   totalFare                          float32       \n",
      " 10  totalTravelDistance                float32       \n",
      " 11  segmentsDepartureTimeEpochSeconds  category      \n",
      " 12  segmentsDepartureTimeRaw           category      \n",
      " 13  segmentsArrivalTimeEpochSeconds    category      \n",
      " 14  segmentsArrivalTimeRaw             category      \n",
      " 15  segmentsArrivalAirportCode         category      \n",
      " 16  segmentsDepartureAirportCode       category      \n",
      " 17  segmentsAirlineName                category      \n",
      " 18  segmentsAirlineCode                category      \n",
      " 19  segmentsEquipmentDescription       category      \n",
      " 20  segmentsDurationInSeconds          category      \n",
      " 21  segmentsDistance                   category      \n",
      " 22  segmentsCabinCode                  category      \n",
      " 23  segmentsDepartureTimeRaw_1         category      \n",
      " 24  avgFare                            float32       \n",
      "dtypes: bool(3), category(17), datetime64[ns](2), float32(3)\n",
      "memory usage: 834.2 MB\n"
     ]
    }
   ],
   "source": [
<<<<<<< HEAD
    "#reload it as df for more exploration and processing\n",
=======
>>>>>>> d8a5b4e801a5cb234a3556e216fa7bf06707d9ad
    "df = pd.read_pickle('../data/interim/optimized_avg_fare_df.pkl')\n",
    "df.info(memory_usage='deep')"
   ]
  },
  {
   "cell_type": "code",
<<<<<<< HEAD
=======
   "execution_count": 78,
   "id": "79517790-4df9-4669-89c0-0348b277b5bc",
   "metadata": {
    "tags": []
   },
   "outputs": [
    {
     "data": {
      "text/html": [
       "<div>\n",
       "<style scoped>\n",
       "    .dataframe tbody tr th:only-of-type {\n",
       "        vertical-align: middle;\n",
       "    }\n",
       "\n",
       "    .dataframe tbody tr th {\n",
       "        vertical-align: top;\n",
       "    }\n",
       "\n",
       "    .dataframe thead th {\n",
       "        text-align: right;\n",
       "    }\n",
       "</style>\n",
       "<table border=\"1\" class=\"dataframe\">\n",
       "  <thead>\n",
       "    <tr style=\"text-align: right;\">\n",
       "      <th></th>\n",
       "      <th>legId</th>\n",
       "      <th>searchDate</th>\n",
       "      <th>flightDate</th>\n",
       "      <th>startingAirport</th>\n",
       "      <th>destinationAirport</th>\n",
       "      <th>travelDuration</th>\n",
       "      <th>isBasicEconomy</th>\n",
       "      <th>isRefundable</th>\n",
       "      <th>isNonStop</th>\n",
       "      <th>totalFare</th>\n",
       "      <th>...</th>\n",
       "      <th>segmentsArrivalAirportCode</th>\n",
       "      <th>segmentsDepartureAirportCode</th>\n",
       "      <th>segmentsAirlineName</th>\n",
       "      <th>segmentsAirlineCode</th>\n",
       "      <th>segmentsEquipmentDescription</th>\n",
       "      <th>segmentsDurationInSeconds</th>\n",
       "      <th>segmentsDistance</th>\n",
       "      <th>segmentsCabinCode</th>\n",
       "      <th>segmentsDepartureTimeRaw_1</th>\n",
       "      <th>avgFare</th>\n",
       "    </tr>\n",
       "  </thead>\n",
       "  <tbody>\n",
       "    <tr>\n",
       "      <th>17</th>\n",
       "      <td>f4cea4e21602e2e3c78decb2f3d55c82</td>\n",
       "      <td>2022-04-23</td>\n",
       "      <td>2022-06-17</td>\n",
       "      <td>ATL</td>\n",
       "      <td>BOS</td>\n",
       "      <td>PT8H54M</td>\n",
       "      <td>False</td>\n",
       "      <td>False</td>\n",
       "      <td>False</td>\n",
       "      <td>302.200012</td>\n",
       "      <td>...</td>\n",
       "      <td>JFK||BOS</td>\n",
       "      <td>ATL||JFK</td>\n",
       "      <td>JetBlue Airways||JetBlue Airways</td>\n",
       "      <td>B6||B6</td>\n",
       "      <td>Airbus A320||Embraer 190</td>\n",
       "      <td>8520||5460</td>\n",
       "      <td>762||185</td>\n",
       "      <td>coach||coach</td>\n",
       "      <td>2022-06-17 12:22</td>\n",
       "      <td>302.200012</td>\n",
       "    </tr>\n",
       "    <tr>\n",
       "      <th>26</th>\n",
       "      <td>02bdec3030d817cf152fd1dcf1c09b54</td>\n",
       "      <td>2022-04-23</td>\n",
       "      <td>2022-06-17</td>\n",
       "      <td>ATL</td>\n",
       "      <td>BOS</td>\n",
       "      <td>PT4H31M</td>\n",
       "      <td>False</td>\n",
       "      <td>False</td>\n",
       "      <td>False</td>\n",
       "      <td>392.100006</td>\n",
       "      <td>...</td>\n",
       "      <td>CLT||BOS</td>\n",
       "      <td>ATL||CLT</td>\n",
       "      <td>American Airlines||American Airlines</td>\n",
       "      <td>AA||AA</td>\n",
       "      <td>Canadair Regional Jet 900||Airbus A320</td>\n",
       "      <td>4920||7560</td>\n",
       "      <td>228||728</td>\n",
       "      <td>coach||coach</td>\n",
       "      <td>2022-06-17 13:00</td>\n",
       "      <td>392.100006</td>\n",
       "    </tr>\n",
       "    <tr>\n",
       "      <th>138</th>\n",
       "      <td>68ee123915c1809139fdadf701dcbeb6</td>\n",
       "      <td>2022-04-23</td>\n",
       "      <td>2022-06-17</td>\n",
       "      <td>ATL</td>\n",
       "      <td>DTW</td>\n",
       "      <td>PT11H47M</td>\n",
       "      <td>True</td>\n",
       "      <td>False</td>\n",
       "      <td>False</td>\n",
       "      <td>291.200012</td>\n",
       "      <td>...</td>\n",
       "      <td>HPN||DTW</td>\n",
       "      <td>ATL||HPN</td>\n",
       "      <td>Delta||Delta</td>\n",
       "      <td>DL||DL</td>\n",
       "      <td>Boeing 717||Canadair Regional Jet 900</td>\n",
       "      <td>8760||6480</td>\n",
       "      <td>781||497</td>\n",
       "      <td>coach||coach</td>\n",
       "      <td>2022-06-17 20:00</td>\n",
       "      <td>291.200012</td>\n",
       "    </tr>\n",
       "    <tr>\n",
       "      <th>237</th>\n",
       "      <td>593cbd6b1d38d9997eb26609e005f538</td>\n",
       "      <td>2022-04-23</td>\n",
       "      <td>2022-06-17</td>\n",
       "      <td>ATL</td>\n",
       "      <td>LAX</td>\n",
       "      <td>PT12H35M</td>\n",
       "      <td>True</td>\n",
       "      <td>False</td>\n",
       "      <td>False</td>\n",
       "      <td>348.200012</td>\n",
       "      <td>...</td>\n",
       "      <td>IND||LAX</td>\n",
       "      <td>ATL||IND</td>\n",
       "      <td>Delta||Delta</td>\n",
       "      <td>DL||DL</td>\n",
       "      <td>Boeing 757||Boeing 737-800</td>\n",
       "      <td>5400||15900</td>\n",
       "      <td>434||1811</td>\n",
       "      <td>coach||coach</td>\n",
       "      <td>2022-06-17 22:50</td>\n",
       "      <td>348.200012</td>\n",
       "    </tr>\n",
       "    <tr>\n",
       "      <th>319</th>\n",
       "      <td>fd673df5ac0a9d1733d9663e4c2d4370</td>\n",
       "      <td>2022-04-23</td>\n",
       "      <td>2022-06-17</td>\n",
       "      <td>ATL</td>\n",
       "      <td>LGA</td>\n",
       "      <td>PT10H38M</td>\n",
       "      <td>True</td>\n",
       "      <td>False</td>\n",
       "      <td>False</td>\n",
       "      <td>262.200012</td>\n",
       "      <td>...</td>\n",
       "      <td>JAX||LGA</td>\n",
       "      <td>ATL||JAX</td>\n",
       "      <td>Delta||Delta</td>\n",
       "      <td>DL||DL</td>\n",
       "      <td>Boeing 757||Embraer 175</td>\n",
       "      <td>3900||8520</td>\n",
       "      <td>276||842</td>\n",
       "      <td>coach||coach</td>\n",
       "      <td>2022-06-17 23:54</td>\n",
       "      <td>262.200012</td>\n",
       "    </tr>\n",
       "    <tr>\n",
       "      <th>367</th>\n",
       "      <td>0324bf684730f8a27954d58b39b9882e</td>\n",
       "      <td>2022-04-23</td>\n",
       "      <td>2022-06-17</td>\n",
       "      <td>ATL</td>\n",
       "      <td>MIA</td>\n",
       "      <td>PT9H42M</td>\n",
       "      <td>False</td>\n",
       "      <td>False</td>\n",
       "      <td>False</td>\n",
       "      <td>624.190002</td>\n",
       "      <td>...</td>\n",
       "      <td>ORD||MIA</td>\n",
       "      <td>ATL||ORD</td>\n",
       "      <td>United||United</td>\n",
       "      <td>UA||UA</td>\n",
       "      <td>Embraer 175 (Enhanced Winglets)||Airbus A320</td>\n",
       "      <td>8280||11820</td>\n",
       "      <td>600||1192</td>\n",
       "      <td>coach||coach</td>\n",
       "      <td>2022-06-17 12:45</td>\n",
       "      <td>624.190002</td>\n",
       "    </tr>\n",
       "    <tr>\n",
       "      <th>388</th>\n",
       "      <td>f81e0940c41ac77273d3c9488093bf3f</td>\n",
       "      <td>2022-04-23</td>\n",
       "      <td>2022-06-17</td>\n",
       "      <td>ATL</td>\n",
       "      <td>OAK</td>\n",
       "      <td>PT17H17M</td>\n",
       "      <td>True</td>\n",
       "      <td>False</td>\n",
       "      <td>False</td>\n",
       "      <td>433.700012</td>\n",
       "      <td>...</td>\n",
       "      <td>TPA||LAX||OAK</td>\n",
       "      <td>ATL||TPA||LAX</td>\n",
       "      <td>Delta||Delta||Delta</td>\n",
       "      <td>DL||DL||DL</td>\n",
       "      <td>Airbus A321||Boeing 737-900||Embraer 175 (Enha...</td>\n",
       "      <td>5100||18240||4320</td>\n",
       "      <td>408||2151||338</td>\n",
       "      <td>coach||coach||coach</td>\n",
       "      <td>2022-06-17 23:35</td>\n",
       "      <td>433.700012</td>\n",
       "    </tr>\n",
       "    <tr>\n",
       "      <th>399</th>\n",
       "      <td>a65207757629d6828189c7a777425721</td>\n",
       "      <td>2022-04-23</td>\n",
       "      <td>2022-06-17</td>\n",
       "      <td>ATL</td>\n",
       "      <td>OAK</td>\n",
       "      <td>PT12H36M</td>\n",
       "      <td>False</td>\n",
       "      <td>False</td>\n",
       "      <td>False</td>\n",
       "      <td>857.099976</td>\n",
       "      <td>...</td>\n",
       "      <td>ORD||LAX||OAK</td>\n",
       "      <td>ATL||ORD||LAX</td>\n",
       "      <td>United||United||Delta</td>\n",
       "      <td>UA||UA||DL</td>\n",
       "      <td>Embraer 175 (Enhanced Winglets)||||Embraer 175...</td>\n",
       "      <td>8280||15180||4560</td>\n",
       "      <td>600||1745||338</td>\n",
       "      <td>coach||coach||coach</td>\n",
       "      <td>2022-06-17 12:45</td>\n",
       "      <td>857.099976</td>\n",
       "    </tr>\n",
       "    <tr>\n",
       "      <th>534</th>\n",
       "      <td>8945da6db326e410e067d6ff7e156649</td>\n",
       "      <td>2022-04-23</td>\n",
       "      <td>2022-06-18</td>\n",
       "      <td>ATL</td>\n",
       "      <td>BOS</td>\n",
       "      <td>PT8H36M</td>\n",
       "      <td>False</td>\n",
       "      <td>False</td>\n",
       "      <td>False</td>\n",
       "      <td>282.200012</td>\n",
       "      <td>...</td>\n",
       "      <td>JFK||BOS</td>\n",
       "      <td>ATL||JFK</td>\n",
       "      <td>JetBlue Airways||JetBlue Airways</td>\n",
       "      <td>B6||B6</td>\n",
       "      <td>Airbus A320||Embraer 190</td>\n",
       "      <td>8520||5340</td>\n",
       "      <td>762||185</td>\n",
       "      <td>coach||coach</td>\n",
       "      <td>2022-06-18 12:22</td>\n",
       "      <td>282.200012</td>\n",
       "    </tr>\n",
       "    <tr>\n",
       "      <th>627</th>\n",
       "      <td>e118d85e83db26c61f95bdba65ceb679</td>\n",
       "      <td>2022-04-23</td>\n",
       "      <td>2022-06-18</td>\n",
       "      <td>ATL</td>\n",
       "      <td>DFW</td>\n",
       "      <td>PT6H57M</td>\n",
       "      <td>False</td>\n",
       "      <td>False</td>\n",
       "      <td>False</td>\n",
       "      <td>368.600006</td>\n",
       "      <td>...</td>\n",
       "      <td>IAH||DFW</td>\n",
       "      <td>ATL||IAH</td>\n",
       "      <td>United||United</td>\n",
       "      <td>UA||UA</td>\n",
       "      <td>Embraer 175 (Enhanced Winglets)||Embraer 175 (...</td>\n",
       "      <td>7860||4620</td>\n",
       "      <td>691||233</td>\n",
       "      <td>coach||coach</td>\n",
       "      <td>2022-06-18 07:30</td>\n",
       "      <td>368.600006</td>\n",
       "    </tr>\n",
       "  </tbody>\n",
       "</table>\n",
       "<p>10 rows × 25 columns</p>\n",
       "</div>"
      ],
      "text/plain": [
       "                                legId searchDate flightDate startingAirport   \n",
       "17   f4cea4e21602e2e3c78decb2f3d55c82 2022-04-23 2022-06-17             ATL  \\\n",
       "26   02bdec3030d817cf152fd1dcf1c09b54 2022-04-23 2022-06-17             ATL   \n",
       "138  68ee123915c1809139fdadf701dcbeb6 2022-04-23 2022-06-17             ATL   \n",
       "237  593cbd6b1d38d9997eb26609e005f538 2022-04-23 2022-06-17             ATL   \n",
       "319  fd673df5ac0a9d1733d9663e4c2d4370 2022-04-23 2022-06-17             ATL   \n",
       "367  0324bf684730f8a27954d58b39b9882e 2022-04-23 2022-06-17             ATL   \n",
       "388  f81e0940c41ac77273d3c9488093bf3f 2022-04-23 2022-06-17             ATL   \n",
       "399  a65207757629d6828189c7a777425721 2022-04-23 2022-06-17             ATL   \n",
       "534  8945da6db326e410e067d6ff7e156649 2022-04-23 2022-06-18             ATL   \n",
       "627  e118d85e83db26c61f95bdba65ceb679 2022-04-23 2022-06-18             ATL   \n",
       "\n",
       "    destinationAirport travelDuration  isBasicEconomy  isRefundable   \n",
       "17                 BOS        PT8H54M           False         False  \\\n",
       "26                 BOS        PT4H31M           False         False   \n",
       "138                DTW       PT11H47M            True         False   \n",
       "237                LAX       PT12H35M            True         False   \n",
       "319                LGA       PT10H38M            True         False   \n",
       "367                MIA        PT9H42M           False         False   \n",
       "388                OAK       PT17H17M            True         False   \n",
       "399                OAK       PT12H36M           False         False   \n",
       "534                BOS        PT8H36M           False         False   \n",
       "627                DFW        PT6H57M           False         False   \n",
       "\n",
       "     isNonStop   totalFare  ...  segmentsArrivalAirportCode   \n",
       "17       False  302.200012  ...                    JFK||BOS  \\\n",
       "26       False  392.100006  ...                    CLT||BOS   \n",
       "138      False  291.200012  ...                    HPN||DTW   \n",
       "237      False  348.200012  ...                    IND||LAX   \n",
       "319      False  262.200012  ...                    JAX||LGA   \n",
       "367      False  624.190002  ...                    ORD||MIA   \n",
       "388      False  433.700012  ...               TPA||LAX||OAK   \n",
       "399      False  857.099976  ...               ORD||LAX||OAK   \n",
       "534      False  282.200012  ...                    JFK||BOS   \n",
       "627      False  368.600006  ...                    IAH||DFW   \n",
       "\n",
       "    segmentsDepartureAirportCode                   segmentsAirlineName   \n",
       "17                      ATL||JFK      JetBlue Airways||JetBlue Airways  \\\n",
       "26                      ATL||CLT  American Airlines||American Airlines   \n",
       "138                     ATL||HPN                          Delta||Delta   \n",
       "237                     ATL||IND                          Delta||Delta   \n",
       "319                     ATL||JAX                          Delta||Delta   \n",
       "367                     ATL||ORD                        United||United   \n",
       "388                ATL||TPA||LAX                   Delta||Delta||Delta   \n",
       "399                ATL||ORD||LAX                 United||United||Delta   \n",
       "534                     ATL||JFK      JetBlue Airways||JetBlue Airways   \n",
       "627                     ATL||IAH                        United||United   \n",
       "\n",
       "    segmentsAirlineCode                       segmentsEquipmentDescription   \n",
       "17               B6||B6                           Airbus A320||Embraer 190  \\\n",
       "26               AA||AA             Canadair Regional Jet 900||Airbus A320   \n",
       "138              DL||DL              Boeing 717||Canadair Regional Jet 900   \n",
       "237              DL||DL                         Boeing 757||Boeing 737-800   \n",
       "319              DL||DL                            Boeing 757||Embraer 175   \n",
       "367              UA||UA       Embraer 175 (Enhanced Winglets)||Airbus A320   \n",
       "388          DL||DL||DL  Airbus A321||Boeing 737-900||Embraer 175 (Enha...   \n",
       "399          UA||UA||DL  Embraer 175 (Enhanced Winglets)||||Embraer 175...   \n",
       "534              B6||B6                           Airbus A320||Embraer 190   \n",
       "627              UA||UA  Embraer 175 (Enhanced Winglets)||Embraer 175 (...   \n",
       "\n",
       "    segmentsDurationInSeconds segmentsDistance    segmentsCabinCode   \n",
       "17                 8520||5460         762||185         coach||coach  \\\n",
       "26                 4920||7560         228||728         coach||coach   \n",
       "138                8760||6480         781||497         coach||coach   \n",
       "237               5400||15900        434||1811         coach||coach   \n",
       "319                3900||8520         276||842         coach||coach   \n",
       "367               8280||11820        600||1192         coach||coach   \n",
       "388         5100||18240||4320   408||2151||338  coach||coach||coach   \n",
       "399         8280||15180||4560   600||1745||338  coach||coach||coach   \n",
       "534                8520||5340         762||185         coach||coach   \n",
       "627                7860||4620         691||233         coach||coach   \n",
       "\n",
       "    segmentsDepartureTimeRaw_1     avgFare  \n",
       "17            2022-06-17 12:22  302.200012  \n",
       "26            2022-06-17 13:00  392.100006  \n",
       "138           2022-06-17 20:00  291.200012  \n",
       "237           2022-06-17 22:50  348.200012  \n",
       "319           2022-06-17 23:54  262.200012  \n",
       "367           2022-06-17 12:45  624.190002  \n",
       "388           2022-06-17 23:35  433.700012  \n",
       "399           2022-06-17 12:45  857.099976  \n",
       "534           2022-06-18 12:22  282.200012  \n",
       "627           2022-06-18 07:30  368.600006  \n",
       "\n",
       "[10 rows x 25 columns]"
      ]
     },
     "execution_count": 78,
     "metadata": {},
     "output_type": "execute_result"
    }
   ],
   "source": [
    "df.head(10)"
   ]
  },
  {
   "cell_type": "code",
   "execution_count": 90,
   "id": "4faa49d5-f36f-4130-805e-94cd9799058f",
   "metadata": {
    "tags": []
   },
   "outputs": [
    {
     "data": {
      "text/plain": [
       "(1721518, 25)"
      ]
     },
     "execution_count": 90,
     "metadata": {},
     "output_type": "execute_result"
    }
   ],
   "source": [
    "df.shape"
   ]
  },
  {
   "cell_type": "code",
>>>>>>> d8a5b4e801a5cb234a3556e216fa7bf06707d9ad
   "execution_count": 91,
   "id": "9f3c51c4-7750-495e-bd41-c1589a34509e",
   "metadata": {
    "tags": []
   },
   "outputs": [],
   "source": [
<<<<<<< HEAD
    "#creating flight duration to sum segments\n",
=======
>>>>>>> d8a5b4e801a5cb234a3556e216fa7bf06707d9ad
    "df['flightDuration'] =[sum(int(n) for n in val.split('||')) for val in df['segmentsDurationInSeconds']]"
   ]
  },
  {
   "cell_type": "code",
   "execution_count": 97,
   "id": "686e7bd5-9cb0-4ab5-aeaa-3bdd47459e0f",
   "metadata": {
    "tags": []
   },
   "outputs": [],
   "source": [
<<<<<<< HEAD
    "#saving segmentscabincode as string for splitting\n",
=======
>>>>>>> d8a5b4e801a5cb234a3556e216fa7bf06707d9ad
    "df['segmentsCabinCode'] = df['segmentsCabinCode'].astype('str') "
   ]
  },
  {
   "cell_type": "code",
   "execution_count": 121,
   "id": "f8de0340-1caa-4cf1-a1ee-742935d8e547",
   "metadata": {},
   "outputs": [],
   "source": [
    "#df['cabinCode']= df['segmentsCabinCode'].str.split('||').str[0]\n",
    "#df.Geek_ID.str.split('_').str[0]\n",
    "\n",
<<<<<<< HEAD
    "#spliting segmentscabincode and getting the first character for cabin code identifications\n",
=======
>>>>>>> d8a5b4e801a5cb234a3556e216fa7bf06707d9ad
    "df['cabinCode'] = df['segmentsCabinCode'].str.split('||').str[1]"
   ]
  },
  {
   "cell_type": "code",
   "execution_count": 122,
   "id": "9bf94cbd-8713-4502-861f-04c6db3fabf1",
   "metadata": {
    "tags": []
   },
   "outputs": [
    {
     "data": {
      "text/plain": [
       "array(['c', 'p', 'f', 'b'], dtype=object)"
      ]
     },
     "execution_count": 122,
     "metadata": {},
     "output_type": "execute_result"
    }
   ],
   "source": [
<<<<<<< HEAD
    "#print unique cabincode to double check\n",
=======
>>>>>>> d8a5b4e801a5cb234a3556e216fa7bf06707d9ad
    "df['cabinCode'].unique()"
   ]
  },
  {
   "cell_type": "code",
<<<<<<< HEAD
=======
   "execution_count": null,
   "id": "59b50d81-9429-4a97-b2df-a33fbfadf3a1",
   "metadata": {},
   "outputs": [],
   "source": []
  },
  {
   "cell_type": "code",
>>>>>>> d8a5b4e801a5cb234a3556e216fa7bf06707d9ad
   "execution_count": 123,
   "id": "4f67fb14-3501-4993-89f8-5f89a8a6e5eb",
   "metadata": {
    "tags": []
   },
   "outputs": [
    {
     "data": {
      "text/html": [
       "<div>\n",
       "<style scoped>\n",
       "    .dataframe tbody tr th:only-of-type {\n",
       "        vertical-align: middle;\n",
       "    }\n",
       "\n",
       "    .dataframe tbody tr th {\n",
       "        vertical-align: top;\n",
       "    }\n",
       "\n",
       "    .dataframe thead th {\n",
       "        text-align: right;\n",
       "    }\n",
       "</style>\n",
       "<table border=\"1\" class=\"dataframe\">\n",
       "  <thead>\n",
       "    <tr style=\"text-align: right;\">\n",
       "      <th></th>\n",
       "      <th>legId</th>\n",
       "      <th>searchDate</th>\n",
       "      <th>flightDate</th>\n",
       "      <th>startingAirport</th>\n",
       "      <th>destinationAirport</th>\n",
       "      <th>travelDuration</th>\n",
       "      <th>isBasicEconomy</th>\n",
       "      <th>isRefundable</th>\n",
       "      <th>isNonStop</th>\n",
       "      <th>totalFare</th>\n",
       "      <th>...</th>\n",
       "      <th>segmentsAirlineName</th>\n",
       "      <th>segmentsAirlineCode</th>\n",
       "      <th>segmentsEquipmentDescription</th>\n",
       "      <th>segmentsDurationInSeconds</th>\n",
       "      <th>segmentsDistance</th>\n",
       "      <th>segmentsCabinCode</th>\n",
       "      <th>segmentsDepartureTimeRaw_1</th>\n",
       "      <th>avgFare</th>\n",
       "      <th>flightDuration</th>\n",
       "      <th>cabinCode</th>\n",
       "    </tr>\n",
       "  </thead>\n",
       "  <tbody>\n",
       "    <tr>\n",
       "      <th>13519994</th>\n",
       "      <td>fe5551b966d58579b7a829b5870603b1</td>\n",
       "      <td>2022-05-13</td>\n",
       "      <td>2022-05-27</td>\n",
       "      <td>SFO</td>\n",
       "      <td>PHL</td>\n",
       "      <td>PT10H36M</td>\n",
       "      <td>False</td>\n",
       "      <td>False</td>\n",
       "      <td>False</td>\n",
       "      <td>962.200012</td>\n",
       "      <td>...</td>\n",
       "      <td>Alaska Airlines||United</td>\n",
       "      <td>AS||UA</td>\n",
       "      <td>Boeing 737-900||Embraer 175 (Enhanced Winglets)</td>\n",
       "      <td>20520||2880</td>\n",
       "      <td>2566||97</td>\n",
       "      <td>coach||coach</td>\n",
       "      <td>2022-05-27 07:53</td>\n",
       "      <td>855.697998</td>\n",
       "      <td>23400</td>\n",
       "      <td>c</td>\n",
       "    </tr>\n",
       "    <tr>\n",
       "      <th>13519995</th>\n",
       "      <td>215bee5a2bd73e9161b2c827478d8baf</td>\n",
       "      <td>2022-05-13</td>\n",
       "      <td>2022-05-27</td>\n",
       "      <td>SFO</td>\n",
       "      <td>PHL</td>\n",
       "      <td>PT9H40M</td>\n",
       "      <td>False</td>\n",
       "      <td>False</td>\n",
       "      <td>False</td>\n",
       "      <td>1007.859985</td>\n",
       "      <td>...</td>\n",
       "      <td>JetBlue Airways||JetBlue Airways</td>\n",
       "      <td>B6||B6</td>\n",
       "      <td>Airbus A319-321||Embraer 190</td>\n",
       "      <td>20760||5700</td>\n",
       "      <td>2698||280</td>\n",
       "      <td>coach||coach</td>\n",
       "      <td>2022-05-27 23:35</td>\n",
       "      <td>734.979309</td>\n",
       "      <td>26460</td>\n",
       "      <td>c</td>\n",
       "    </tr>\n",
       "    <tr>\n",
       "      <th>13519996</th>\n",
       "      <td>89a8e9b241a85502744c6db56f85a310</td>\n",
       "      <td>2022-05-13</td>\n",
       "      <td>2022-05-27</td>\n",
       "      <td>SFO</td>\n",
       "      <td>PHL</td>\n",
       "      <td>PT11H45M</td>\n",
       "      <td>False</td>\n",
       "      <td>False</td>\n",
       "      <td>False</td>\n",
       "      <td>1013.460022</td>\n",
       "      <td>...</td>\n",
       "      <td>JetBlue Airways||JetBlue Airways</td>\n",
       "      <td>B6||B6</td>\n",
       "      <td>Airbus A319-321||Embraer 190</td>\n",
       "      <td>20580||5700</td>\n",
       "      <td>2698||280</td>\n",
       "      <td>coach||coach</td>\n",
       "      <td>2022-05-27 21:30</td>\n",
       "      <td>748.539978</td>\n",
       "      <td>26280</td>\n",
       "      <td>c</td>\n",
       "    </tr>\n",
       "    <tr>\n",
       "      <th>13519997</th>\n",
       "      <td>3ed6e422ed3c561e7ab3c073a0a7cbfb</td>\n",
       "      <td>2022-05-13</td>\n",
       "      <td>2022-05-27</td>\n",
       "      <td>SFO</td>\n",
       "      <td>PHL</td>\n",
       "      <td>PT6H48M</td>\n",
       "      <td>False</td>\n",
       "      <td>False</td>\n",
       "      <td>False</td>\n",
       "      <td>1133.099976</td>\n",
       "      <td>...</td>\n",
       "      <td>United||United</td>\n",
       "      <td>UA||UA</td>\n",
       "      <td>Boeing 737-800||Boeing 737-800</td>\n",
       "      <td>9360||12540</td>\n",
       "      <td>954||1567</td>\n",
       "      <td>premium coach||premium coach</td>\n",
       "      <td>2022-05-27 06:34</td>\n",
       "      <td>1133.099976</td>\n",
       "      <td>21900</td>\n",
       "      <td>p</td>\n",
       "    </tr>\n",
       "    <tr>\n",
       "      <th>13519998</th>\n",
       "      <td>d79d94757127799c42018b584233155a</td>\n",
       "      <td>2022-05-13</td>\n",
       "      <td>2022-05-27</td>\n",
       "      <td>SFO</td>\n",
       "      <td>PHL</td>\n",
       "      <td>PT8H30M</td>\n",
       "      <td>False</td>\n",
       "      <td>False</td>\n",
       "      <td>False</td>\n",
       "      <td>1202.000000</td>\n",
       "      <td>...</td>\n",
       "      <td>Alaska Airlines||Alaska Airlines</td>\n",
       "      <td>AS||AS</td>\n",
       "      <td>AIRBUS INDUSTRIE A321 SHARKLETS||Boeing 737-900</td>\n",
       "      <td>7980||18600</td>\n",
       "      <td>679||2372</td>\n",
       "      <td>coach||coach</td>\n",
       "      <td>2022-05-27 18:30</td>\n",
       "      <td>659.648865</td>\n",
       "      <td>26580</td>\n",
       "      <td>c</td>\n",
       "    </tr>\n",
       "  </tbody>\n",
       "</table>\n",
       "<p>5 rows × 27 columns</p>\n",
       "</div>"
      ],
      "text/plain": [
       "                                     legId searchDate flightDate   \n",
       "13519994  fe5551b966d58579b7a829b5870603b1 2022-05-13 2022-05-27  \\\n",
       "13519995  215bee5a2bd73e9161b2c827478d8baf 2022-05-13 2022-05-27   \n",
       "13519996  89a8e9b241a85502744c6db56f85a310 2022-05-13 2022-05-27   \n",
       "13519997  3ed6e422ed3c561e7ab3c073a0a7cbfb 2022-05-13 2022-05-27   \n",
       "13519998  d79d94757127799c42018b584233155a 2022-05-13 2022-05-27   \n",
       "\n",
       "         startingAirport destinationAirport travelDuration  isBasicEconomy   \n",
       "13519994             SFO                PHL       PT10H36M           False  \\\n",
       "13519995             SFO                PHL        PT9H40M           False   \n",
       "13519996             SFO                PHL       PT11H45M           False   \n",
       "13519997             SFO                PHL        PT6H48M           False   \n",
       "13519998             SFO                PHL        PT8H30M           False   \n",
       "\n",
       "          isRefundable  isNonStop    totalFare  ...   \n",
       "13519994         False      False   962.200012  ...  \\\n",
       "13519995         False      False  1007.859985  ...   \n",
       "13519996         False      False  1013.460022  ...   \n",
       "13519997         False      False  1133.099976  ...   \n",
       "13519998         False      False  1202.000000  ...   \n",
       "\n",
       "                       segmentsAirlineName segmentsAirlineCode   \n",
       "13519994           Alaska Airlines||United              AS||UA  \\\n",
       "13519995  JetBlue Airways||JetBlue Airways              B6||B6   \n",
       "13519996  JetBlue Airways||JetBlue Airways              B6||B6   \n",
       "13519997                    United||United              UA||UA   \n",
       "13519998  Alaska Airlines||Alaska Airlines              AS||AS   \n",
       "\n",
       "                             segmentsEquipmentDescription   \n",
       "13519994  Boeing 737-900||Embraer 175 (Enhanced Winglets)  \\\n",
       "13519995                     Airbus A319-321||Embraer 190   \n",
       "13519996                     Airbus A319-321||Embraer 190   \n",
       "13519997                   Boeing 737-800||Boeing 737-800   \n",
       "13519998  AIRBUS INDUSTRIE A321 SHARKLETS||Boeing 737-900   \n",
       "\n",
       "         segmentsDurationInSeconds segmentsDistance   \n",
       "13519994               20520||2880         2566||97  \\\n",
       "13519995               20760||5700        2698||280   \n",
       "13519996               20580||5700        2698||280   \n",
       "13519997               9360||12540        954||1567   \n",
       "13519998               7980||18600        679||2372   \n",
       "\n",
       "                     segmentsCabinCode segmentsDepartureTimeRaw_1   \n",
       "13519994                  coach||coach           2022-05-27 07:53  \\\n",
       "13519995                  coach||coach           2022-05-27 23:35   \n",
       "13519996                  coach||coach           2022-05-27 21:30   \n",
       "13519997  premium coach||premium coach           2022-05-27 06:34   \n",
       "13519998                  coach||coach           2022-05-27 18:30   \n",
       "\n",
       "              avgFare flightDuration cabinCode  \n",
       "13519994   855.697998          23400         c  \n",
       "13519995   734.979309          26460         c  \n",
       "13519996   748.539978          26280         c  \n",
       "13519997  1133.099976          21900         p  \n",
       "13519998   659.648865          26580         c  \n",
       "\n",
       "[5 rows x 27 columns]"
      ]
     },
     "execution_count": 123,
     "metadata": {},
     "output_type": "execute_result"
    }
   ],
   "source": [
    "df.tail()"
   ]
  },
  {
   "cell_type": "code",
   "execution_count": 124,
   "id": "8c162f53-b9d5-4321-9408-61d1cea222e8",
   "metadata": {
    "tags": []
   },
   "outputs": [],
   "source": [
<<<<<<< HEAD
    "#drop unnessary columns with variation of category over 60%, travel duration is dropped since flight duration is calculated from it. we will keep totalfare for visual validation purposes\n",
    "\n",
=======
>>>>>>> d8a5b4e801a5cb234a3556e216fa7bf06707d9ad
    "df.drop(['legId','segmentsDepartureTimeEpochSeconds',\n",
    "       'segmentsDepartureTimeRaw', 'segmentsArrivalTimeEpochSeconds',\n",
    "       'segmentsArrivalTimeRaw', 'segmentsArrivalAirportCode',\n",
    "       'segmentsDepartureAirportCode', 'segmentsAirlineName',\n",
    "       'segmentsAirlineCode','segmentsEquipmentDescription',\n",
    "       'segmentsDurationInSeconds', 'segmentsDistance', 'segmentsCabinCode','travelDuration'],axis=1, inplace = True)"
   ]
  },
  {
   "cell_type": "code",
   "execution_count": 125,
   "id": "bd693c50-5bed-43ce-8ab3-94dfd7dd9b96",
   "metadata": {
    "tags": []
   },
   "outputs": [],
   "source": [
    "df[\"segmentsDepartureTimeRaw_1\"] = df[\"segmentsDepartureTimeRaw_1\"].astype('datetime64[ns]')"
   ]
  },
  {
   "cell_type": "code",
   "execution_count": 126,
   "id": "51f06521-2fe2-4c30-8cb7-86237df5c8c8",
   "metadata": {
    "tags": []
   },
   "outputs": [
    {
     "name": "stdout",
     "output_type": "stream",
     "text": [
      "<class 'pandas.core.frame.DataFrame'>\n",
      "Index: 1721518 entries, 17 to 13519998\n",
      "Data columns (total 13 columns):\n",
      " #   Column                      Dtype         \n",
      "---  ------                      -----         \n",
      " 0   searchDate                  datetime64[ns]\n",
      " 1   flightDate                  datetime64[ns]\n",
      " 2   startingAirport             category      \n",
      " 3   destinationAirport          category      \n",
      " 4   isBasicEconomy              bool          \n",
      " 5   isRefundable                bool          \n",
      " 6   isNonStop                   bool          \n",
      " 7   totalFare                   float32       \n",
      " 8   totalTravelDistance         float32       \n",
      " 9   segmentsDepartureTimeRaw_1  datetime64[ns]\n",
      " 10  avgFare                     float32       \n",
      " 11  flightDuration              int64         \n",
      " 12  cabinCode                   object        \n",
      "dtypes: bool(3), category(2), datetime64[ns](3), float32(3), int64(1), object(1)\n",
      "memory usage: 188.8 MB\n"
     ]
    },
    {
     "data": {
      "text/html": [
       "<div>\n",
       "<style scoped>\n",
       "    .dataframe tbody tr th:only-of-type {\n",
       "        vertical-align: middle;\n",
       "    }\n",
       "\n",
       "    .dataframe tbody tr th {\n",
       "        vertical-align: top;\n",
       "    }\n",
       "\n",
       "    .dataframe thead th {\n",
       "        text-align: right;\n",
       "    }\n",
       "</style>\n",
       "<table border=\"1\" class=\"dataframe\">\n",
       "  <thead>\n",
       "    <tr style=\"text-align: right;\">\n",
       "      <th></th>\n",
       "      <th>searchDate</th>\n",
       "      <th>flightDate</th>\n",
       "      <th>startingAirport</th>\n",
       "      <th>destinationAirport</th>\n",
       "      <th>isBasicEconomy</th>\n",
       "      <th>isRefundable</th>\n",
       "      <th>isNonStop</th>\n",
       "      <th>totalFare</th>\n",
       "      <th>totalTravelDistance</th>\n",
       "      <th>segmentsDepartureTimeRaw_1</th>\n",
       "      <th>avgFare</th>\n",
       "      <th>flightDuration</th>\n",
       "      <th>cabinCode</th>\n",
       "    </tr>\n",
       "  </thead>\n",
       "  <tbody>\n",
       "    <tr>\n",
       "      <th>17</th>\n",
       "      <td>2022-04-23</td>\n",
       "      <td>2022-06-17</td>\n",
       "      <td>ATL</td>\n",
       "      <td>BOS</td>\n",
       "      <td>False</td>\n",
       "      <td>False</td>\n",
       "      <td>False</td>\n",
       "      <td>302.200012</td>\n",
       "      <td>947.0</td>\n",
       "      <td>2022-06-17 12:22:00</td>\n",
       "      <td>302.200012</td>\n",
       "      <td>13980</td>\n",
       "      <td>c</td>\n",
       "    </tr>\n",
       "    <tr>\n",
       "      <th>26</th>\n",
       "      <td>2022-04-23</td>\n",
       "      <td>2022-06-17</td>\n",
       "      <td>ATL</td>\n",
       "      <td>BOS</td>\n",
       "      <td>False</td>\n",
       "      <td>False</td>\n",
       "      <td>False</td>\n",
       "      <td>392.100006</td>\n",
       "      <td>956.0</td>\n",
       "      <td>2022-06-17 13:00:00</td>\n",
       "      <td>392.100006</td>\n",
       "      <td>12480</td>\n",
       "      <td>c</td>\n",
       "    </tr>\n",
       "    <tr>\n",
       "      <th>138</th>\n",
       "      <td>2022-04-23</td>\n",
       "      <td>2022-06-17</td>\n",
       "      <td>ATL</td>\n",
       "      <td>DTW</td>\n",
       "      <td>True</td>\n",
       "      <td>False</td>\n",
       "      <td>False</td>\n",
       "      <td>291.200012</td>\n",
       "      <td>1278.0</td>\n",
       "      <td>2022-06-17 20:00:00</td>\n",
       "      <td>291.200012</td>\n",
       "      <td>15240</td>\n",
       "      <td>c</td>\n",
       "    </tr>\n",
       "    <tr>\n",
       "      <th>237</th>\n",
       "      <td>2022-04-23</td>\n",
       "      <td>2022-06-17</td>\n",
       "      <td>ATL</td>\n",
       "      <td>LAX</td>\n",
       "      <td>True</td>\n",
       "      <td>False</td>\n",
       "      <td>False</td>\n",
       "      <td>348.200012</td>\n",
       "      <td>2245.0</td>\n",
       "      <td>2022-06-17 22:50:00</td>\n",
       "      <td>348.200012</td>\n",
       "      <td>21300</td>\n",
       "      <td>c</td>\n",
       "    </tr>\n",
       "    <tr>\n",
       "      <th>319</th>\n",
       "      <td>2022-04-23</td>\n",
       "      <td>2022-06-17</td>\n",
       "      <td>ATL</td>\n",
       "      <td>LGA</td>\n",
       "      <td>True</td>\n",
       "      <td>False</td>\n",
       "      <td>False</td>\n",
       "      <td>262.200012</td>\n",
       "      <td>1118.0</td>\n",
       "      <td>2022-06-17 23:54:00</td>\n",
       "      <td>262.200012</td>\n",
       "      <td>12420</td>\n",
       "      <td>c</td>\n",
       "    </tr>\n",
       "  </tbody>\n",
       "</table>\n",
       "</div>"
      ],
      "text/plain": [
       "    searchDate flightDate startingAirport destinationAirport  isBasicEconomy   \n",
       "17  2022-04-23 2022-06-17             ATL                BOS           False  \\\n",
       "26  2022-04-23 2022-06-17             ATL                BOS           False   \n",
       "138 2022-04-23 2022-06-17             ATL                DTW            True   \n",
       "237 2022-04-23 2022-06-17             ATL                LAX            True   \n",
       "319 2022-04-23 2022-06-17             ATL                LGA            True   \n",
       "\n",
       "     isRefundable  isNonStop   totalFare  totalTravelDistance   \n",
       "17          False      False  302.200012                947.0  \\\n",
       "26          False      False  392.100006                956.0   \n",
       "138         False      False  291.200012               1278.0   \n",
       "237         False      False  348.200012               2245.0   \n",
       "319         False      False  262.200012               1118.0   \n",
       "\n",
       "    segmentsDepartureTimeRaw_1     avgFare  flightDuration cabinCode  \n",
       "17         2022-06-17 12:22:00  302.200012           13980         c  \n",
       "26         2022-06-17 13:00:00  392.100006           12480         c  \n",
       "138        2022-06-17 20:00:00  291.200012           15240         c  \n",
       "237        2022-06-17 22:50:00  348.200012           21300         c  \n",
       "319        2022-06-17 23:54:00  262.200012           12420         c  "
      ]
     },
     "execution_count": 126,
     "metadata": {},
     "output_type": "execute_result"
    }
   ],
   "source": [
    "df.info(memory_usage='deep')\n",
    "df.head()"
   ]
  },
  {
<<<<<<< HEAD
   "cell_type": "markdown",
   "id": "5ffbcf03-beea-4738-9341-5786516aa59e",
   "metadata": {},
   "source": [
    "## Make flight departure time out of segmentDepartureTime "
   ]
=======
   "cell_type": "code",
   "execution_count": null,
   "id": "5ffbcf03-beea-4738-9341-5786516aa59e",
   "metadata": {},
   "outputs": [],
   "source": []
>>>>>>> d8a5b4e801a5cb234a3556e216fa7bf06707d9ad
  },
  {
   "cell_type": "code",
   "execution_count": 127,
   "id": "d6190c1d-4126-4c23-a14f-9c5fcd0fcbee",
   "metadata": {
    "tags": []
   },
   "outputs": [],
   "source": [
    "df['flightDepartureHour'] = df[\"segmentsDepartureTimeRaw_1\"].dt.hour\n",
    "df['flightDepartureMinute'] = df[\"segmentsDepartureTimeRaw_1\"].dt.minute"
   ]
  },
  {
<<<<<<< HEAD
   "cell_type": "markdown",
   "id": "1397aa4e",
   "metadata": {},
   "source": [
    "## Filling Missing TravelDistance with mean of its column value"
   ]
  },
  {
=======
>>>>>>> d8a5b4e801a5cb234a3556e216fa7bf06707d9ad
   "cell_type": "code",
   "execution_count": 128,
   "id": "ccacdbd8-f804-42e7-8bce-98696a722ac3",
   "metadata": {
    "tags": []
   },
   "outputs": [],
   "source": [
    "df['totalTravelDistance'].fillna(df['totalTravelDistance'].mean(), inplace=True)"
   ]
  },
  {
   "cell_type": "code",
   "execution_count": 129,
   "id": "dec64fcc-201a-40a9-ac9b-ef25a8e293ff",
   "metadata": {
    "tags": []
   },
   "outputs": [
    {
     "data": {
      "text/html": [
       "<div>\n",
       "<style scoped>\n",
       "    .dataframe tbody tr th:only-of-type {\n",
       "        vertical-align: middle;\n",
       "    }\n",
       "\n",
       "    .dataframe tbody tr th {\n",
       "        vertical-align: top;\n",
       "    }\n",
       "\n",
       "    .dataframe thead th {\n",
       "        text-align: right;\n",
       "    }\n",
       "</style>\n",
       "<table border=\"1\" class=\"dataframe\">\n",
       "  <thead>\n",
       "    <tr style=\"text-align: right;\">\n",
       "      <th></th>\n",
       "      <th>searchDate</th>\n",
       "      <th>flightDate</th>\n",
       "      <th>startingAirport</th>\n",
       "      <th>destinationAirport</th>\n",
       "      <th>isBasicEconomy</th>\n",
       "      <th>isRefundable</th>\n",
       "      <th>isNonStop</th>\n",
       "      <th>totalFare</th>\n",
       "      <th>totalTravelDistance</th>\n",
       "      <th>segmentsDepartureTimeRaw_1</th>\n",
       "      <th>avgFare</th>\n",
       "      <th>flightDuration</th>\n",
       "      <th>cabinCode</th>\n",
       "      <th>flightDepartureHour</th>\n",
       "      <th>flightDepartureMinute</th>\n",
       "    </tr>\n",
       "  </thead>\n",
       "  <tbody>\n",
       "    <tr>\n",
       "      <th>17</th>\n",
       "      <td>2022-04-23</td>\n",
       "      <td>2022-06-17</td>\n",
       "      <td>ATL</td>\n",
       "      <td>BOS</td>\n",
       "      <td>False</td>\n",
       "      <td>False</td>\n",
       "      <td>False</td>\n",
       "      <td>302.200012</td>\n",
       "      <td>947.0</td>\n",
       "      <td>2022-06-17 12:22:00</td>\n",
       "      <td>302.200012</td>\n",
       "      <td>13980</td>\n",
       "      <td>c</td>\n",
       "      <td>12</td>\n",
       "      <td>22</td>\n",
       "    </tr>\n",
       "    <tr>\n",
       "      <th>26</th>\n",
       "      <td>2022-04-23</td>\n",
       "      <td>2022-06-17</td>\n",
       "      <td>ATL</td>\n",
       "      <td>BOS</td>\n",
       "      <td>False</td>\n",
       "      <td>False</td>\n",
       "      <td>False</td>\n",
       "      <td>392.100006</td>\n",
       "      <td>956.0</td>\n",
       "      <td>2022-06-17 13:00:00</td>\n",
       "      <td>392.100006</td>\n",
       "      <td>12480</td>\n",
       "      <td>c</td>\n",
       "      <td>13</td>\n",
       "      <td>0</td>\n",
       "    </tr>\n",
       "    <tr>\n",
       "      <th>138</th>\n",
       "      <td>2022-04-23</td>\n",
       "      <td>2022-06-17</td>\n",
       "      <td>ATL</td>\n",
       "      <td>DTW</td>\n",
       "      <td>True</td>\n",
       "      <td>False</td>\n",
       "      <td>False</td>\n",
       "      <td>291.200012</td>\n",
       "      <td>1278.0</td>\n",
       "      <td>2022-06-17 20:00:00</td>\n",
       "      <td>291.200012</td>\n",
       "      <td>15240</td>\n",
       "      <td>c</td>\n",
       "      <td>20</td>\n",
       "      <td>0</td>\n",
       "    </tr>\n",
       "    <tr>\n",
       "      <th>237</th>\n",
       "      <td>2022-04-23</td>\n",
       "      <td>2022-06-17</td>\n",
       "      <td>ATL</td>\n",
       "      <td>LAX</td>\n",
       "      <td>True</td>\n",
       "      <td>False</td>\n",
       "      <td>False</td>\n",
       "      <td>348.200012</td>\n",
       "      <td>2245.0</td>\n",
       "      <td>2022-06-17 22:50:00</td>\n",
       "      <td>348.200012</td>\n",
       "      <td>21300</td>\n",
       "      <td>c</td>\n",
       "      <td>22</td>\n",
       "      <td>50</td>\n",
       "    </tr>\n",
       "    <tr>\n",
       "      <th>319</th>\n",
       "      <td>2022-04-23</td>\n",
       "      <td>2022-06-17</td>\n",
       "      <td>ATL</td>\n",
       "      <td>LGA</td>\n",
       "      <td>True</td>\n",
       "      <td>False</td>\n",
       "      <td>False</td>\n",
       "      <td>262.200012</td>\n",
       "      <td>1118.0</td>\n",
       "      <td>2022-06-17 23:54:00</td>\n",
       "      <td>262.200012</td>\n",
       "      <td>12420</td>\n",
       "      <td>c</td>\n",
       "      <td>23</td>\n",
       "      <td>54</td>\n",
       "    </tr>\n",
       "  </tbody>\n",
       "</table>\n",
       "</div>"
      ],
      "text/plain": [
       "    searchDate flightDate startingAirport destinationAirport  isBasicEconomy   \n",
       "17  2022-04-23 2022-06-17             ATL                BOS           False  \\\n",
       "26  2022-04-23 2022-06-17             ATL                BOS           False   \n",
       "138 2022-04-23 2022-06-17             ATL                DTW            True   \n",
       "237 2022-04-23 2022-06-17             ATL                LAX            True   \n",
       "319 2022-04-23 2022-06-17             ATL                LGA            True   \n",
       "\n",
       "     isRefundable  isNonStop   totalFare  totalTravelDistance   \n",
       "17          False      False  302.200012                947.0  \\\n",
       "26          False      False  392.100006                956.0   \n",
       "138         False      False  291.200012               1278.0   \n",
       "237         False      False  348.200012               2245.0   \n",
       "319         False      False  262.200012               1118.0   \n",
       "\n",
       "    segmentsDepartureTimeRaw_1     avgFare  flightDuration cabinCode   \n",
       "17         2022-06-17 12:22:00  302.200012           13980         c  \\\n",
       "26         2022-06-17 13:00:00  392.100006           12480         c   \n",
       "138        2022-06-17 20:00:00  291.200012           15240         c   \n",
       "237        2022-06-17 22:50:00  348.200012           21300         c   \n",
       "319        2022-06-17 23:54:00  262.200012           12420         c   \n",
       "\n",
       "     flightDepartureHour  flightDepartureMinute  \n",
       "17                    12                     22  \n",
       "26                    13                      0  \n",
       "138                   20                      0  \n",
       "237                   22                     50  \n",
       "319                   23                     54  "
      ]
     },
     "execution_count": 129,
     "metadata": {},
     "output_type": "execute_result"
    }
   ],
   "source": [
    "df.head()"
   ]
  },
  {
   "cell_type": "code",
   "execution_count": 130,
   "id": "031e6aa2-780f-44ca-9e12-d99316e23c27",
   "metadata": {
    "tags": []
   },
   "outputs": [],
   "source": [
<<<<<<< HEAD
    "#removing segmentsDeoartureTimeRaw since we already got the departure features we wanted\n",
=======
>>>>>>> d8a5b4e801a5cb234a3556e216fa7bf06707d9ad
    "df.drop(['segmentsDepartureTimeRaw_1'],axis=1, inplace = True)"
   ]
  },
  {
<<<<<<< HEAD
   "cell_type": "markdown",
=======
   "cell_type": "code",
   "execution_count": 131,
>>>>>>> d8a5b4e801a5cb234a3556e216fa7bf06707d9ad
   "id": "5e3cd749-a04f-482b-96fb-a73bb8ac28e8",
   "metadata": {
    "tags": []
   },
<<<<<<< HEAD
   "source": [
    "## Last downcasting to modify recently created features"
=======
   "outputs": [
    {
     "data": {
      "text/html": [
       "<div>\n",
       "<style scoped>\n",
       "    .dataframe tbody tr th:only-of-type {\n",
       "        vertical-align: middle;\n",
       "    }\n",
       "\n",
       "    .dataframe tbody tr th {\n",
       "        vertical-align: top;\n",
       "    }\n",
       "\n",
       "    .dataframe thead th {\n",
       "        text-align: right;\n",
       "    }\n",
       "</style>\n",
       "<table border=\"1\" class=\"dataframe\">\n",
       "  <thead>\n",
       "    <tr style=\"text-align: right;\">\n",
       "      <th></th>\n",
       "      <th>searchDate</th>\n",
       "      <th>flightDate</th>\n",
       "      <th>startingAirport</th>\n",
       "      <th>destinationAirport</th>\n",
       "      <th>isBasicEconomy</th>\n",
       "      <th>isRefundable</th>\n",
       "      <th>isNonStop</th>\n",
       "      <th>totalFare</th>\n",
       "      <th>totalTravelDistance</th>\n",
       "      <th>avgFare</th>\n",
       "      <th>flightDuration</th>\n",
       "      <th>cabinCode</th>\n",
       "      <th>flightDepartureHour</th>\n",
       "      <th>flightDepartureMinute</th>\n",
       "    </tr>\n",
       "  </thead>\n",
       "  <tbody>\n",
       "    <tr>\n",
       "      <th>17</th>\n",
       "      <td>2022-04-23</td>\n",
       "      <td>2022-06-17</td>\n",
       "      <td>ATL</td>\n",
       "      <td>BOS</td>\n",
       "      <td>False</td>\n",
       "      <td>False</td>\n",
       "      <td>False</td>\n",
       "      <td>302.200012</td>\n",
       "      <td>947.0</td>\n",
       "      <td>302.200012</td>\n",
       "      <td>13980</td>\n",
       "      <td>c</td>\n",
       "      <td>12</td>\n",
       "      <td>22</td>\n",
       "    </tr>\n",
       "    <tr>\n",
       "      <th>26</th>\n",
       "      <td>2022-04-23</td>\n",
       "      <td>2022-06-17</td>\n",
       "      <td>ATL</td>\n",
       "      <td>BOS</td>\n",
       "      <td>False</td>\n",
       "      <td>False</td>\n",
       "      <td>False</td>\n",
       "      <td>392.100006</td>\n",
       "      <td>956.0</td>\n",
       "      <td>392.100006</td>\n",
       "      <td>12480</td>\n",
       "      <td>c</td>\n",
       "      <td>13</td>\n",
       "      <td>0</td>\n",
       "    </tr>\n",
       "    <tr>\n",
       "      <th>138</th>\n",
       "      <td>2022-04-23</td>\n",
       "      <td>2022-06-17</td>\n",
       "      <td>ATL</td>\n",
       "      <td>DTW</td>\n",
       "      <td>True</td>\n",
       "      <td>False</td>\n",
       "      <td>False</td>\n",
       "      <td>291.200012</td>\n",
       "      <td>1278.0</td>\n",
       "      <td>291.200012</td>\n",
       "      <td>15240</td>\n",
       "      <td>c</td>\n",
       "      <td>20</td>\n",
       "      <td>0</td>\n",
       "    </tr>\n",
       "    <tr>\n",
       "      <th>237</th>\n",
       "      <td>2022-04-23</td>\n",
       "      <td>2022-06-17</td>\n",
       "      <td>ATL</td>\n",
       "      <td>LAX</td>\n",
       "      <td>True</td>\n",
       "      <td>False</td>\n",
       "      <td>False</td>\n",
       "      <td>348.200012</td>\n",
       "      <td>2245.0</td>\n",
       "      <td>348.200012</td>\n",
       "      <td>21300</td>\n",
       "      <td>c</td>\n",
       "      <td>22</td>\n",
       "      <td>50</td>\n",
       "    </tr>\n",
       "    <tr>\n",
       "      <th>319</th>\n",
       "      <td>2022-04-23</td>\n",
       "      <td>2022-06-17</td>\n",
       "      <td>ATL</td>\n",
       "      <td>LGA</td>\n",
       "      <td>True</td>\n",
       "      <td>False</td>\n",
       "      <td>False</td>\n",
       "      <td>262.200012</td>\n",
       "      <td>1118.0</td>\n",
       "      <td>262.200012</td>\n",
       "      <td>12420</td>\n",
       "      <td>c</td>\n",
       "      <td>23</td>\n",
       "      <td>54</td>\n",
       "    </tr>\n",
       "  </tbody>\n",
       "</table>\n",
       "</div>"
      ],
      "text/plain": [
       "    searchDate flightDate startingAirport destinationAirport  isBasicEconomy   \n",
       "17  2022-04-23 2022-06-17             ATL                BOS           False  \\\n",
       "26  2022-04-23 2022-06-17             ATL                BOS           False   \n",
       "138 2022-04-23 2022-06-17             ATL                DTW            True   \n",
       "237 2022-04-23 2022-06-17             ATL                LAX            True   \n",
       "319 2022-04-23 2022-06-17             ATL                LGA            True   \n",
       "\n",
       "     isRefundable  isNonStop   totalFare  totalTravelDistance     avgFare   \n",
       "17          False      False  302.200012                947.0  302.200012  \\\n",
       "26          False      False  392.100006                956.0  392.100006   \n",
       "138         False      False  291.200012               1278.0  291.200012   \n",
       "237         False      False  348.200012               2245.0  348.200012   \n",
       "319         False      False  262.200012               1118.0  262.200012   \n",
       "\n",
       "     flightDuration cabinCode  flightDepartureHour  flightDepartureMinute  \n",
       "17            13980         c                   12                     22  \n",
       "26            12480         c                   13                      0  \n",
       "138           15240         c                   20                      0  \n",
       "237           21300         c                   22                     50  \n",
       "319           12420         c                   23                     54  "
      ]
     },
     "execution_count": 131,
     "metadata": {},
     "output_type": "execute_result"
    }
   ],
   "source": [
    "df.head()"
>>>>>>> d8a5b4e801a5cb234a3556e216fa7bf06707d9ad
   ]
  },
  {
   "cell_type": "code",
   "execution_count": 136,
   "id": "d4bf5444-36ba-421f-b62f-7ba40f470449",
   "metadata": {
    "tags": []
   },
   "outputs": [],
   "source": [
    "df_obj = df.select_dtypes(include=['object']).copy()"
   ]
  },
  {
   "cell_type": "code",
   "execution_count": 137,
   "id": "b84cc151-f55b-47e8-bcce-b60987a05eb7",
   "metadata": {
    "tags": []
   },
   "outputs": [],
   "source": [
    "df_obj_cat = df_obj.astype('category')\n",
    "df[df_obj_cat.columns] = df_obj_cat"
   ]
  },
  {
   "cell_type": "code",
   "execution_count": 140,
   "id": "3e672a8e-6f7c-4f92-a7e0-c6fc17204b32",
   "metadata": {
    "tags": []
   },
   "outputs": [
    {
     "name": "stdout",
     "output_type": "stream",
     "text": [
      "int memory usage: 39.40 MB\n",
      "unsigned memory usage: 19.70 MB\n"
     ]
    }
   ],
   "source": [
    "df_converted_int = downcast_type(df, \"int\", \"unsigned\")\n",
<<<<<<< HEAD
    "df[df_converted_int.columns] = df_converted_int\n"
   ]
  },
  {
   "cell_type": "markdown",
   "id": "0e59c6fa",
   "metadata": {},
   "source": [
    "## Save the dataframe as pickle for compact size"
=======
    "df[df_converted_int.columns] = df_converted_int"
>>>>>>> d8a5b4e801a5cb234a3556e216fa7bf06707d9ad
   ]
  },
  {
   "cell_type": "code",
   "execution_count": 141,
   "id": "fa2cbe1b-fc49-4dd7-8ead-aea384447362",
   "metadata": {
    "tags": []
   },
   "outputs": [],
   "source": [
    "df.to_pickle('../data/interim/optimized_df_final.pkl')"
   ]
  },
  {
<<<<<<< HEAD
   "cell_type": "markdown",
   "id": "6a01330f",
   "metadata": {},
   "source": [
    "## Check the final data memory usage"
   ]
  },
  {
=======
>>>>>>> d8a5b4e801a5cb234a3556e216fa7bf06707d9ad
   "cell_type": "code",
   "execution_count": 142,
   "id": "fc4c6269-40d4-4c65-b610-288caed0df64",
   "metadata": {
    "tags": []
   },
   "outputs": [
    {
     "name": "stdout",
     "output_type": "stream",
     "text": [
      "<class 'pandas.core.frame.DataFrame'>\n",
      "Index: 1721518 entries, 17 to 13519998\n",
      "Data columns (total 14 columns):\n",
      " #   Column                 Dtype         \n",
      "---  ------                 -----         \n",
      " 0   searchDate             datetime64[ns]\n",
      " 1   flightDate             datetime64[ns]\n",
      " 2   startingAirport        category      \n",
      " 3   destinationAirport     category      \n",
      " 4   isBasicEconomy         bool          \n",
      " 5   isRefundable           bool          \n",
      " 6   isNonStop              bool          \n",
      " 7   totalFare              float32       \n",
      " 8   totalTravelDistance    float32       \n",
      " 9   avgFare                float32       \n",
      " 10  flightDuration         uint16        \n",
      " 11  cabinCode              category      \n",
      " 12  flightDepartureHour    uint8         \n",
      " 13  flightDepartureMinute  uint8         \n",
      "dtypes: bool(3), category(3), datetime64[ns](2), float32(3), uint16(1), uint8(2)\n",
      "memory usage: 75.5 MB\n"
     ]
    }
   ],
   "source": [
    "df = pd.read_pickle('../data/interim/optimized_df_final.pkl')\n",
    "df.info(memory_usage='deep')"
   ]
  }
 ],
 "metadata": {
  "kernelspec": {
   "display_name": "Python 3 (ipykernel)",
   "language": "python",
   "name": "python3"
  },
  "language_info": {
   "codemirror_mode": {
    "name": "ipython",
    "version": 3
   },
   "file_extension": ".py",
   "mimetype": "text/x-python",
   "name": "python",
   "nbconvert_exporter": "python",
   "pygments_lexer": "ipython3",
   "version": "3.9.13"
  }
 },
 "nbformat": 4,
 "nbformat_minor": 5
}
