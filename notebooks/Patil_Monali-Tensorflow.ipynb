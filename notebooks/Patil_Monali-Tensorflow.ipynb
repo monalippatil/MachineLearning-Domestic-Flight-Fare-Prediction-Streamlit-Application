{
 "cells": [
  {
   "cell_type": "markdown",
   "metadata": {},
   "source": [
    "## 36120: Advanced Machine Learning Application\n",
    "\n",
    "### Machine Learning Streamlit Application\n",
    "\n",
    "\n",
    "The following activitives are performed in this task.\n",
    "\n",
    "1] Loading and Exploration of the Dataset\n",
    "\n",
    "\n",
    "2] Data Preparation\n",
    "\n",
    "\t\t- Features Selection\n",
    "\n",
    "\t\t- Converting boolean features to string type\n",
    "\n",
    "\t\t- Feature Engineering: Extracting departure date related information function\n",
    "\n",
    "\t\t- Splitting features and target variable\n",
    "\n",
    "\t\t- Splitting the dataset into training (60%), validation (20%), and test (20%)\n",
    "\n",
    "3] Modelling\n",
    "\n",
    "\t\t- Baseline Performance\n",
    "\n",
    "\t\t- Preparing data for Tensorflow\n",
    "\n",
    "\t\t- Defining Architecture for Tensorflow\n",
    "\n",
    "\t\t- Training the Tensorflow Model\n",
    "    \n",
    "4] Model Evaluation\n",
    "\n",
    "\t\t- Evaluating Model Performance\n",
    "\n",
    "\t\t- Saving the Model"
   ]
  },
  {
   "cell_type": "code",
   "execution_count": 5,
   "metadata": {},
   "outputs": [],
   "source": [
    "# Importing Python and other required packages\n",
    "import pandas as pd\n",
    "import numpy as np\n",
    "\n",
    "# Importing SKLearn and tensorflow packages\n",
    "from sklearn.model_selection import train_test_split\n",
    "from sklearn.metrics import mean_squared_error as mse\n",
    "from sklearn.metrics import mean_absolute_error as mae\n",
    "import tensorflow as tf\n",
    "from tensorflow import feature_column\n",
    "from tensorflow.keras.layers import Dense, Dropout, DenseFeatures\n",
    "\n",
    "# Importing required Data Visualization packages\n",
    "import seaborn as sns\n",
    "import matplotlib.pyplot as plt\n",
    "\n",
    "import warnings"
   ]
  },
  {
   "cell_type": "code",
   "execution_count": 3,
   "metadata": {},
   "outputs": [],
   "source": [
    "# To reload moules\n",
    "%load_ext autoreload\n",
    "%autoreload 2"
   ]
  },
  {
   "cell_type": "code",
   "execution_count": 4,
   "metadata": {},
   "outputs": [],
   "source": [
    "# To ignore warnings\n",
    "warnings.filterwarnings('ignore')"
   ]
  },
  {
   "cell_type": "markdown",
   "metadata": {},
   "source": [
    "#### 1] Loading and Exploration of the Dataset"
   ]
  },
  {
   "cell_type": "markdown",
   "metadata": {},
   "source": [
    "• Loading flight transaction data"
   ]
  },
  {
   "cell_type": "code",
   "execution_count": 6,
   "metadata": {},
   "outputs": [],
   "source": [
    "# Loading the processed dataset\n",
    "df_data = pd.read_pickle('/tf/notebooks/optimized_df_final.pkl')"
   ]
  },
  {
   "cell_type": "markdown",
   "metadata": {},
   "source": [
    "• Exploring the flight transaction data"
   ]
  },
  {
   "cell_type": "code",
   "execution_count": 7,
   "metadata": {},
   "outputs": [
    {
     "data": {
      "text/html": [
       "<div>\n",
       "<style scoped>\n",
       "    .dataframe tbody tr th:only-of-type {\n",
       "        vertical-align: middle;\n",
       "    }\n",
       "\n",
       "    .dataframe tbody tr th {\n",
       "        vertical-align: top;\n",
       "    }\n",
       "\n",
       "    .dataframe thead th {\n",
       "        text-align: right;\n",
       "    }\n",
       "</style>\n",
       "<table border=\"1\" class=\"dataframe\">\n",
       "  <thead>\n",
       "    <tr style=\"text-align: right;\">\n",
       "      <th></th>\n",
       "      <th>searchDate</th>\n",
       "      <th>flightDate</th>\n",
       "      <th>startingAirport</th>\n",
       "      <th>destinationAirport</th>\n",
       "      <th>isBasicEconomy</th>\n",
       "      <th>isRefundable</th>\n",
       "      <th>isNonStop</th>\n",
       "      <th>totalFare</th>\n",
       "      <th>totalTravelDistance</th>\n",
       "      <th>avgFare</th>\n",
       "      <th>flightDuration</th>\n",
       "      <th>cabinCode</th>\n",
       "      <th>flightDepartureHour</th>\n",
       "      <th>flightDepartureMinute</th>\n",
       "    </tr>\n",
       "  </thead>\n",
       "  <tbody>\n",
       "    <tr>\n",
       "      <th>17</th>\n",
       "      <td>2022-04-23</td>\n",
       "      <td>2022-06-17</td>\n",
       "      <td>ATL</td>\n",
       "      <td>BOS</td>\n",
       "      <td>False</td>\n",
       "      <td>False</td>\n",
       "      <td>False</td>\n",
       "      <td>302.200012</td>\n",
       "      <td>947.0</td>\n",
       "      <td>302.200012</td>\n",
       "      <td>13980</td>\n",
       "      <td>c</td>\n",
       "      <td>12</td>\n",
       "      <td>22</td>\n",
       "    </tr>\n",
       "    <tr>\n",
       "      <th>26</th>\n",
       "      <td>2022-04-23</td>\n",
       "      <td>2022-06-17</td>\n",
       "      <td>ATL</td>\n",
       "      <td>BOS</td>\n",
       "      <td>False</td>\n",
       "      <td>False</td>\n",
       "      <td>False</td>\n",
       "      <td>392.100006</td>\n",
       "      <td>956.0</td>\n",
       "      <td>392.100006</td>\n",
       "      <td>12480</td>\n",
       "      <td>c</td>\n",
       "      <td>13</td>\n",
       "      <td>0</td>\n",
       "    </tr>\n",
       "    <tr>\n",
       "      <th>138</th>\n",
       "      <td>2022-04-23</td>\n",
       "      <td>2022-06-17</td>\n",
       "      <td>ATL</td>\n",
       "      <td>DTW</td>\n",
       "      <td>True</td>\n",
       "      <td>False</td>\n",
       "      <td>False</td>\n",
       "      <td>291.200012</td>\n",
       "      <td>1278.0</td>\n",
       "      <td>291.200012</td>\n",
       "      <td>15240</td>\n",
       "      <td>c</td>\n",
       "      <td>20</td>\n",
       "      <td>0</td>\n",
       "    </tr>\n",
       "    <tr>\n",
       "      <th>237</th>\n",
       "      <td>2022-04-23</td>\n",
       "      <td>2022-06-17</td>\n",
       "      <td>ATL</td>\n",
       "      <td>LAX</td>\n",
       "      <td>True</td>\n",
       "      <td>False</td>\n",
       "      <td>False</td>\n",
       "      <td>348.200012</td>\n",
       "      <td>2245.0</td>\n",
       "      <td>348.200012</td>\n",
       "      <td>21300</td>\n",
       "      <td>c</td>\n",
       "      <td>22</td>\n",
       "      <td>50</td>\n",
       "    </tr>\n",
       "    <tr>\n",
       "      <th>319</th>\n",
       "      <td>2022-04-23</td>\n",
       "      <td>2022-06-17</td>\n",
       "      <td>ATL</td>\n",
       "      <td>LGA</td>\n",
       "      <td>True</td>\n",
       "      <td>False</td>\n",
       "      <td>False</td>\n",
       "      <td>262.200012</td>\n",
       "      <td>1118.0</td>\n",
       "      <td>262.200012</td>\n",
       "      <td>12420</td>\n",
       "      <td>c</td>\n",
       "      <td>23</td>\n",
       "      <td>54</td>\n",
       "    </tr>\n",
       "  </tbody>\n",
       "</table>\n",
       "</div>"
      ],
      "text/plain": [
       "    searchDate flightDate startingAirport destinationAirport  isBasicEconomy  \\\n",
       "17  2022-04-23 2022-06-17             ATL                BOS           False   \n",
       "26  2022-04-23 2022-06-17             ATL                BOS           False   \n",
       "138 2022-04-23 2022-06-17             ATL                DTW            True   \n",
       "237 2022-04-23 2022-06-17             ATL                LAX            True   \n",
       "319 2022-04-23 2022-06-17             ATL                LGA            True   \n",
       "\n",
       "     isRefundable  isNonStop   totalFare  totalTravelDistance     avgFare  \\\n",
       "17          False      False  302.200012                947.0  302.200012   \n",
       "26          False      False  392.100006                956.0  392.100006   \n",
       "138         False      False  291.200012               1278.0  291.200012   \n",
       "237         False      False  348.200012               2245.0  348.200012   \n",
       "319         False      False  262.200012               1118.0  262.200012   \n",
       "\n",
       "     flightDuration cabinCode  flightDepartureHour  flightDepartureMinute  \n",
       "17            13980         c                   12                     22  \n",
       "26            12480         c                   13                      0  \n",
       "138           15240         c                   20                      0  \n",
       "237           21300         c                   22                     50  \n",
       "319           12420         c                   23                     54  "
      ]
     },
     "execution_count": 7,
     "metadata": {},
     "output_type": "execute_result"
    }
   ],
   "source": [
    "# Checking records of the dataset\n",
    "df_data.head()"
   ]
  },
  {
   "cell_type": "markdown",
   "metadata": {},
   "source": [
    "• Checking size of the datasets"
   ]
  },
  {
   "cell_type": "code",
   "execution_count": 8,
   "metadata": {},
   "outputs": [
    {
     "data": {
      "text/plain": [
       "(1721518, 14)"
      ]
     },
     "execution_count": 8,
     "metadata": {},
     "output_type": "execute_result"
    }
   ],
   "source": [
    "# Checking size of the dataset\n",
    "df_data.shape"
   ]
  },
  {
   "cell_type": "markdown",
   "metadata": {},
   "source": [
    "• Checking column names"
   ]
  },
  {
   "cell_type": "code",
   "execution_count": 9,
   "metadata": {},
   "outputs": [
    {
     "data": {
      "text/plain": [
       "Index(['searchDate', 'flightDate', 'startingAirport', 'destinationAirport',\n",
       "       'isBasicEconomy', 'isRefundable', 'isNonStop', 'totalFare',\n",
       "       'totalTravelDistance', 'avgFare', 'flightDuration', 'cabinCode',\n",
       "       'flightDepartureHour', 'flightDepartureMinute'],\n",
       "      dtype='object')"
      ]
     },
     "execution_count": 9,
     "metadata": {},
     "output_type": "execute_result"
    }
   ],
   "source": [
    "# Checking column names of the dataset\n",
    "df_data.columns"
   ]
  },
  {
   "cell_type": "markdown",
   "metadata": {},
   "source": [
    "• Checking summary information of the dataset"
   ]
  },
  {
   "cell_type": "code",
   "execution_count": 10,
   "metadata": {},
   "outputs": [
    {
     "name": "stdout",
     "output_type": "stream",
     "text": [
      "<class 'pandas.core.frame.DataFrame'>\n",
      "Index: 1721518 entries, 17 to 13519998\n",
      "Data columns (total 14 columns):\n",
      " #   Column                 Dtype         \n",
      "---  ------                 -----         \n",
      " 0   searchDate             datetime64[ns]\n",
      " 1   flightDate             datetime64[ns]\n",
      " 2   startingAirport        category      \n",
      " 3   destinationAirport     category      \n",
      " 4   isBasicEconomy         bool          \n",
      " 5   isRefundable           bool          \n",
      " 6   isNonStop              bool          \n",
      " 7   totalFare              float32       \n",
      " 8   totalTravelDistance    float32       \n",
      " 9   avgFare                float32       \n",
      " 10  flightDuration         uint16        \n",
      " 11  cabinCode              category      \n",
      " 12  flightDepartureHour    uint8         \n",
      " 13  flightDepartureMinute  uint8         \n",
      "dtypes: bool(3), category(3), datetime64[ns](2), float32(3), uint16(1), uint8(2)\n",
      "memory usage: 75.5 MB\n"
     ]
    }
   ],
   "source": [
    "# Checking summary information of the dataset\n",
    "df_data.info()"
   ]
  },
  {
   "cell_type": "markdown",
   "metadata": {},
   "source": [
    "The above summary information indicates that the features are of various datatypes such as datetime, categorical, numerical and boolean. \n",
    "\n",
    "The target variable, 'avgFare' indicating the average flight fare, is a continuous variable. During the data processing phase, it is obtained by grouping the 'legId' and 'flightDate' features, and then calculating the average of the 'totalFare' values within each group. This process results in the average flight fare for each unique combination of 'legId' and 'flightDate.'\n",
    "\n",
    "Due to factors like the number of transits and various airline companies influencing ticket fares, accurate fare determination was challenging. Therefore, we utilize the average fares for the same flight and across different airline companies as the target variable. "
   ]
  },
  {
   "cell_type": "markdown",
   "metadata": {},
   "source": [
    "• Checking statistical summary of the dataset"
   ]
  },
  {
   "cell_type": "code",
   "execution_count": 11,
   "metadata": {},
   "outputs": [
    {
     "data": {
      "text/html": [
       "<div>\n",
       "<style scoped>\n",
       "    .dataframe tbody tr th:only-of-type {\n",
       "        vertical-align: middle;\n",
       "    }\n",
       "\n",
       "    .dataframe tbody tr th {\n",
       "        vertical-align: top;\n",
       "    }\n",
       "\n",
       "    .dataframe thead th {\n",
       "        text-align: right;\n",
       "    }\n",
       "</style>\n",
       "<table border=\"1\" class=\"dataframe\">\n",
       "  <thead>\n",
       "    <tr style=\"text-align: right;\">\n",
       "      <th></th>\n",
       "      <th>searchDate</th>\n",
       "      <th>flightDate</th>\n",
       "      <th>totalFare</th>\n",
       "      <th>totalTravelDistance</th>\n",
       "      <th>avgFare</th>\n",
       "      <th>flightDuration</th>\n",
       "      <th>flightDepartureHour</th>\n",
       "      <th>flightDepartureMinute</th>\n",
       "    </tr>\n",
       "  </thead>\n",
       "  <tbody>\n",
       "    <tr>\n",
       "      <th>count</th>\n",
       "      <td>1721518</td>\n",
       "      <td>1721518</td>\n",
       "      <td>1.721518e+06</td>\n",
       "      <td>1.721518e+06</td>\n",
       "      <td>1.721518e+06</td>\n",
       "      <td>1.721518e+06</td>\n",
       "      <td>1.721518e+06</td>\n",
       "      <td>1.721518e+06</td>\n",
       "    </tr>\n",
       "    <tr>\n",
       "      <th>mean</th>\n",
       "      <td>2022-05-01 18:37:39.249801472</td>\n",
       "      <td>2022-05-31 00:39:37.217316864</td>\n",
       "      <td>4.339669e+02</td>\n",
       "      <td>1.770345e+03</td>\n",
       "      <td>4.342004e+02</td>\n",
       "      <td>1.862113e+04</td>\n",
       "      <td>1.168175e+01</td>\n",
       "      <td>2.549481e+01</td>\n",
       "    </tr>\n",
       "    <tr>\n",
       "      <th>min</th>\n",
       "      <td>2022-04-16 00:00:00</td>\n",
       "      <td>2022-04-17 00:00:00</td>\n",
       "      <td>2.397000e+01</td>\n",
       "      <td>9.700000e+01</td>\n",
       "      <td>2.397000e+01</td>\n",
       "      <td>2.760000e+03</td>\n",
       "      <td>0.000000e+00</td>\n",
       "      <td>0.000000e+00</td>\n",
       "    </tr>\n",
       "    <tr>\n",
       "      <th>25%</th>\n",
       "      <td>2022-04-23 00:00:00</td>\n",
       "      <td>2022-05-12 00:00:00</td>\n",
       "      <td>2.672100e+02</td>\n",
       "      <td>1.104000e+03</td>\n",
       "      <td>2.688803e+02</td>\n",
       "      <td>1.356000e+04</td>\n",
       "      <td>7.000000e+00</td>\n",
       "      <td>7.000000e+00</td>\n",
       "    </tr>\n",
       "    <tr>\n",
       "      <th>50%</th>\n",
       "      <td>2022-05-02 00:00:00</td>\n",
       "      <td>2022-05-31 00:00:00</td>\n",
       "      <td>3.966000e+02</td>\n",
       "      <td>1.770345e+03</td>\n",
       "      <td>3.966900e+02</td>\n",
       "      <td>1.830000e+04</td>\n",
       "      <td>1.100000e+01</td>\n",
       "      <td>2.600000e+01</td>\n",
       "    </tr>\n",
       "    <tr>\n",
       "      <th>75%</th>\n",
       "      <td>2022-05-09 00:00:00</td>\n",
       "      <td>2022-06-18 00:00:00</td>\n",
       "      <td>5.453400e+02</td>\n",
       "      <td>2.501000e+03</td>\n",
       "      <td>5.426010e+02</td>\n",
       "      <td>2.382000e+04</td>\n",
       "      <td>1.500000e+01</td>\n",
       "      <td>4.100000e+01</td>\n",
       "    </tr>\n",
       "    <tr>\n",
       "      <th>max</th>\n",
       "      <td>2022-05-19 00:00:00</td>\n",
       "      <td>2022-07-17 00:00:00</td>\n",
       "      <td>8.260610e+03</td>\n",
       "      <td>4.430000e+03</td>\n",
       "      <td>8.260610e+03</td>\n",
       "      <td>5.910000e+04</td>\n",
       "      <td>2.300000e+01</td>\n",
       "      <td>5.900000e+01</td>\n",
       "    </tr>\n",
       "    <tr>\n",
       "      <th>std</th>\n",
       "      <td>NaN</td>\n",
       "      <td>NaN</td>\n",
       "      <td>2.535652e+02</td>\n",
       "      <td>8.081974e+02</td>\n",
       "      <td>2.498273e+02</td>\n",
       "      <td>6.643062e+03</td>\n",
       "      <td>5.093567e+00</td>\n",
       "      <td>1.894282e+01</td>\n",
       "    </tr>\n",
       "  </tbody>\n",
       "</table>\n",
       "</div>"
      ],
      "text/plain": [
       "                          searchDate                     flightDate  \\\n",
       "count                        1721518                        1721518   \n",
       "mean   2022-05-01 18:37:39.249801472  2022-05-31 00:39:37.217316864   \n",
       "min              2022-04-16 00:00:00            2022-04-17 00:00:00   \n",
       "25%              2022-04-23 00:00:00            2022-05-12 00:00:00   \n",
       "50%              2022-05-02 00:00:00            2022-05-31 00:00:00   \n",
       "75%              2022-05-09 00:00:00            2022-06-18 00:00:00   \n",
       "max              2022-05-19 00:00:00            2022-07-17 00:00:00   \n",
       "std                              NaN                            NaN   \n",
       "\n",
       "          totalFare  totalTravelDistance       avgFare  flightDuration  \\\n",
       "count  1.721518e+06         1.721518e+06  1.721518e+06    1.721518e+06   \n",
       "mean   4.339669e+02         1.770345e+03  4.342004e+02    1.862113e+04   \n",
       "min    2.397000e+01         9.700000e+01  2.397000e+01    2.760000e+03   \n",
       "25%    2.672100e+02         1.104000e+03  2.688803e+02    1.356000e+04   \n",
       "50%    3.966000e+02         1.770345e+03  3.966900e+02    1.830000e+04   \n",
       "75%    5.453400e+02         2.501000e+03  5.426010e+02    2.382000e+04   \n",
       "max    8.260610e+03         4.430000e+03  8.260610e+03    5.910000e+04   \n",
       "std    2.535652e+02         8.081974e+02  2.498273e+02    6.643062e+03   \n",
       "\n",
       "       flightDepartureHour  flightDepartureMinute  \n",
       "count         1.721518e+06           1.721518e+06  \n",
       "mean          1.168175e+01           2.549481e+01  \n",
       "min           0.000000e+00           0.000000e+00  \n",
       "25%           7.000000e+00           7.000000e+00  \n",
       "50%           1.100000e+01           2.600000e+01  \n",
       "75%           1.500000e+01           4.100000e+01  \n",
       "max           2.300000e+01           5.900000e+01  \n",
       "std           5.093567e+00           1.894282e+01  "
      ]
     },
     "execution_count": 11,
     "metadata": {},
     "output_type": "execute_result"
    }
   ],
   "source": [
    "# Checking statistical summary of the dataset\n",
    "df_data.describe()"
   ]
  },
  {
   "cell_type": "markdown",
   "metadata": {},
   "source": [
    "• Checking if any null values in the dataset"
   ]
  },
  {
   "cell_type": "code",
   "execution_count": 12,
   "metadata": {},
   "outputs": [
    {
     "data": {
      "text/plain": [
       "searchDate               0\n",
       "flightDate               0\n",
       "startingAirport          0\n",
       "destinationAirport       0\n",
       "isBasicEconomy           0\n",
       "isRefundable             0\n",
       "isNonStop                0\n",
       "totalFare                0\n",
       "totalTravelDistance      0\n",
       "avgFare                  0\n",
       "flightDuration           0\n",
       "cabinCode                0\n",
       "flightDepartureHour      0\n",
       "flightDepartureMinute    0\n",
       "dtype: int64"
      ]
     },
     "execution_count": 12,
     "metadata": {},
     "output_type": "execute_result"
    }
   ],
   "source": [
    "# Checking if any null values in the dataset\n",
    "df_data.isnull().sum()"
   ]
  },
  {
   "cell_type": "markdown",
   "metadata": {},
   "source": [
    "• Checking distribution of target variable 'avgFare' "
   ]
  },
  {
   "cell_type": "code",
   "execution_count": 13,
   "metadata": {},
   "outputs": [
    {
     "data": {
      "text/plain": [
       "<Axes: xlabel='avgFare'>"
      ]
     },
     "execution_count": 13,
     "metadata": {},
     "output_type": "execute_result"
    },
    {
     "data": {
      "image/png": "[encoded data removed]",
      "text/plain": [
       "<Figure size 640x480 with 1 Axes>"
      ]
     },
     "metadata": {},
     "output_type": "display_data"
    }
   ],
   "source": [
    "# Checking distribution of target variable 'avgFare' \n",
    "sns.boxplot(x='avgFare', data=df_data, color='green')"
   ]
  },
  {
   "cell_type": "markdown",
   "metadata": {},
   "source": [
    "• Checking correlation between target variable and features"
   ]
  },
  {
   "cell_type": "code",
   "execution_count": 14,
   "metadata": {},
   "outputs": [
    {
     "data": {
      "text/plain": [
       "<Figure size 900x900 with 0 Axes>"
      ]
     },
     "execution_count": 14,
     "metadata": {},
     "output_type": "execute_result"
    },
    {
     "data": {
      "text/plain": [
       "<Figure size 900x900 with 0 Axes>"
      ]
     },
     "metadata": {},
     "output_type": "display_data"
    }
   ],
   "source": [
    "# Plotting Heatmap \n",
    "plt.figure(figsize=(9, 9))\n",
    "#sns.heatmap(df_data.corr(), annot=True, cmap='summer_r')"
   ]
  },
  {
   "cell_type": "markdown",
   "metadata": {},
   "source": [
    "• Checking the date ranges for flight departure and search date"
   ]
  },
  {
   "cell_type": "code",
   "execution_count": 15,
   "metadata": {},
   "outputs": [
    {
     "name": "stdout",
     "output_type": "stream",
     "text": [
      "2022-04-16 00:00:00\n",
      "2022-05-19 00:00:00\n"
     ]
    }
   ],
   "source": [
    "# Checking the date ranges for flight search date\n",
    "print(min(df_data['searchDate']))\n",
    "print(max(df_data['searchDate']))"
   ]
  },
  {
   "cell_type": "code",
   "execution_count": 16,
   "metadata": {},
   "outputs": [
    {
     "name": "stdout",
     "output_type": "stream",
     "text": [
      "2022-04-17 00:00:00\n",
      "2022-07-17 00:00:00\n"
     ]
    }
   ],
   "source": [
    "# Checking the date ranges for flight departure date\n",
    "print(min(df_data['flightDate']))\n",
    "print(max(df_data['flightDate']))"
   ]
  },
  {
   "cell_type": "markdown",
   "metadata": {},
   "source": [
    "#### 2] Data Preparation"
   ]
  },
  {
   "cell_type": "markdown",
   "metadata": {},
   "source": [
    "• Selecting Features"
   ]
  },
  {
   "cell_type": "code",
   "execution_count": 17,
   "metadata": {},
   "outputs": [],
   "source": [
    "# Selecting features from the dataset\n",
    "selected_features = ['flightDate', 'startingAirport', 'destinationAirport', 'flightDepartureHour', 'flightDepartureMinute', \n",
    "                     'isBasicEconomy', 'isRefundable', 'isNonStop', 'cabinCode', 'avgFare']\n",
    "\n",
    "df_data = df_data[selected_features]"
   ]
  },
  {
   "cell_type": "code",
   "execution_count": 18,
   "metadata": {},
   "outputs": [],
   "source": [
    "# Creating the copy of the dataset\n",
    "df_flight_data = df_data.copy()"
   ]
  },
  {
   "cell_type": "markdown",
   "metadata": {},
   "source": [
    "• Checking the selected features datatype"
   ]
  },
  {
   "cell_type": "code",
   "execution_count": 19,
   "metadata": {},
   "outputs": [
    {
     "name": "stdout",
     "output_type": "stream",
     "text": [
      "<class 'pandas.core.frame.DataFrame'>\n",
      "Index: 1721518 entries, 17 to 13519998\n",
      "Data columns (total 10 columns):\n",
      " #   Column                 Dtype         \n",
      "---  ------                 -----         \n",
      " 0   flightDate             datetime64[ns]\n",
      " 1   startingAirport        category      \n",
      " 2   destinationAirport     category      \n",
      " 3   flightDepartureHour    uint8         \n",
      " 4   flightDepartureMinute  uint8         \n",
      " 5   isBasicEconomy         bool          \n",
      " 6   isRefundable           bool          \n",
      " 7   isNonStop              bool          \n",
      " 8   cabinCode              category      \n",
      " 9   avgFare                float32       \n",
      "dtypes: bool(3), category(3), datetime64[ns](1), float32(1), uint8(2)\n",
      "memory usage: 46.0 MB\n"
     ]
    }
   ],
   "source": [
    "# Checking the selected features datatype\n",
    "df_data.info()"
   ]
  },
  {
   "cell_type": "markdown",
   "metadata": {},
   "source": [
    "• Converting boolean features to string type"
   ]
  },
  {
   "cell_type": "code",
   "execution_count": 20,
   "metadata": {},
   "outputs": [],
   "source": [
    "# Converting boolean to string type\n",
    "df_data['isBasicEconomy'] = df_data['isBasicEconomy'].astype(str)\n",
    "df_data['isRefundable'] = df_data['isRefundable'].astype(str)\n",
    "df_data['isNonStop'] = df_data['isNonStop'].astype(str)"
   ]
  },
  {
   "cell_type": "markdown",
   "metadata": {},
   "source": [
    "• Feature Engineering"
   ]
  },
  {
   "cell_type": "code",
   "execution_count": 21,
   "metadata": {},
   "outputs": [],
   "source": [
    "# Extracting departure date related information function\n",
    "def extract_departure_date_info(df_dataset):\n",
    "    df_dataset['flightDepartureMonth'] = df_dataset['flightDate'].dt.month\n",
    "    df_dataset['flightDepartureDay'] = df_dataset['flightDate'].dt.day\n",
    "    df_dataset['flightDepartureDOW'] = df_dataset['flightDate'].dt.dayofweek\n",
    "    df_dataset = df_dataset.drop('flightDate', axis=1)\n",
    "\n",
    "    return df_dataset"
   ]
  },
  {
   "cell_type": "code",
   "execution_count": 22,
   "metadata": {},
   "outputs": [],
   "source": [
    "# Extracting departure date related information \n",
    "df_data = extract_departure_date_info(df_data)"
   ]
  },
  {
   "cell_type": "code",
   "execution_count": 23,
   "metadata": {},
   "outputs": [
    {
     "name": "stdout",
     "output_type": "stream",
     "text": [
      "<class 'pandas.core.frame.DataFrame'>\n",
      "Index: 1721518 entries, 17 to 13519998\n",
      "Data columns (total 12 columns):\n",
      " #   Column                 Dtype   \n",
      "---  ------                 -----   \n",
      " 0   startingAirport        category\n",
      " 1   destinationAirport     category\n",
      " 2   flightDepartureHour    uint8   \n",
      " 3   flightDepartureMinute  uint8   \n",
      " 4   isBasicEconomy         object  \n",
      " 5   isRefundable           object  \n",
      " 6   isNonStop              object  \n",
      " 7   cabinCode              category\n",
      " 8   avgFare                float32 \n",
      " 9   flightDepartureMonth   int32   \n",
      " 10  flightDepartureDay     int32   \n",
      " 11  flightDepartureDOW     int32   \n",
      "dtypes: category(3), float32(1), int32(3), object(3), uint8(2)\n",
      "memory usage: 87.0+ MB\n"
     ]
    }
   ],
   "source": [
    "df_data.info()"
   ]
  },
  {
   "cell_type": "code",
   "execution_count": 24,
   "metadata": {},
   "outputs": [],
   "source": [
    "# Creating the copy of the dataset\n",
    "df_data_copied = df_data.copy()"
   ]
  },
  {
   "cell_type": "markdown",
   "metadata": {},
   "source": [
    "• Splitting features and target variable"
   ]
  },
  {
   "cell_type": "code",
   "execution_count": 25,
   "metadata": {},
   "outputs": [],
   "source": [
    "# Splitting features and target variable\n",
    "target = df_data.pop('avgFare')\n",
    "features = df_data.copy()"
   ]
  },
  {
   "cell_type": "markdown",
   "metadata": {},
   "source": [
    "• Splitting data into different sets "
   ]
  },
  {
   "cell_type": "code",
   "execution_count": 26,
   "metadata": {},
   "outputs": [],
   "source": [
    "# Splitting the dataset into training (60%), validation (20%), and test (20%)\n",
    "X_train, X_data, y_train, y_data = train_test_split(features, target, test_size=0.4, random_state=19)\n",
    "X_val, X_test, y_val, y_test = train_test_split(X_data, y_data, test_size=0.5, random_state=19)"
   ]
  },
  {
   "cell_type": "markdown",
   "metadata": {},
   "source": [
    "#### 3] Modelling"
   ]
  },
  {
   "cell_type": "markdown",
   "metadata": {},
   "source": [
    "#### • Baseline Performance"
   ]
  },
  {
   "cell_type": "code",
   "execution_count": 27,
   "metadata": {},
   "outputs": [
    {
     "name": "stdout",
     "output_type": "stream",
     "text": [
      "Baseline Performance Score:\n",
      "MAE: 171.58226\n",
      "RMSE: 249.62985\n"
     ]
    }
   ],
   "source": [
    "# Calculating average value of the target variable\n",
    "y_mean = y_train.mean()\n",
    "y_base = np.full(y_train.shape, y_mean)\n",
    "\n",
    "# Calculating MAE and RMSE score\n",
    "print('Baseline Performance Score:') \n",
    "print('MAE:', mae(y_train, y_base))\n",
    "print('RMSE:', mse(y_train, y_base, squared=False))"
   ]
  },
  {
   "cell_type": "markdown",
   "metadata": {},
   "source": [
    "#### • Preparing data for Tensorflow"
   ]
  },
  {
   "cell_type": "markdown",
   "metadata": {},
   "source": [
    "• Creating function to convert features and target dataFrames to a Tensorflow dataset"
   ]
  },
  {
   "cell_type": "code",
   "execution_count": 28,
   "metadata": {},
   "outputs": [],
   "source": [
    "# Creating function to convert features and target dataFrames to a Tensorflow dataset\n",
    "def df_to_dataset(predictors, response, shuffle=True, batch_size=32):\n",
    "  ds = tf.data.Dataset.from_tensor_slices((predictors.to_dict(orient='list'), response))\n",
    "  if shuffle:\n",
    "    ds = ds.shuffle(buffer_size=len(predictors))\n",
    "  ds = ds.batch(batch_size)\n",
    "  return ds"
   ]
  },
  {
   "cell_type": "code",
   "execution_count": 29,
   "metadata": {},
   "outputs": [],
   "source": [
    "# Convert features and target dataFrames to a Tensorflow dataset\n",
    "train_ds = df_to_dataset(X_train, y_train)\n",
    "val_ds = df_to_dataset(X_val, y_val, shuffle=False)\n",
    "test_ds = df_to_dataset(X_test, y_test, shuffle=False)"
   ]
  },
  {
   "cell_type": "markdown",
   "metadata": {},
   "source": [
    "•  Creating an empty list named 'feature_columns' to hold all features"
   ]
  },
  {
   "cell_type": "code",
   "execution_count": 30,
   "metadata": {},
   "outputs": [],
   "source": [
    "# Creating an empty list named 'feature_columns' from feature_column imported from tensorflow\n",
    "feature_columns = []"
   ]
  },
  {
   "cell_type": "markdown",
   "metadata": {},
   "source": [
    "• Defining numerical and categorical features "
   ]
  },
  {
   "cell_type": "code",
   "execution_count": 31,
   "metadata": {},
   "outputs": [],
   "source": [
    "# Defining numerical and categorical features \n",
    "numerical_features = ['flightDepartureMonth', 'flightDepartureDay', 'flightDepartureDOW', 'flightDepartureHour', 'flightDepartureMinute']\n",
    "categorical_features = ['startingAirport', 'destinationAirport', 'isBasicEconomy', 'isRefundable', 'isNonStop', 'cabinCode']"
   ]
  },
  {
   "cell_type": "markdown",
   "metadata": {},
   "source": [
    "• Tensorflow numeric transformation"
   ]
  },
  {
   "cell_type": "code",
   "execution_count": 32,
   "metadata": {},
   "outputs": [
    {
     "name": "stdout",
     "output_type": "stream",
     "text": [
      "WARNING:tensorflow:From /tmp/ipykernel_127/469827701.py:3: numeric_column (from tensorflow.python.feature_column.feature_column_v2) is deprecated and will be removed in a future version.\n",
      "Instructions for updating:\n",
      "Use Keras preprocessing layers instead, either directly or via the `tf.keras.utils.FeatureSpace` utility. Each of `tf.feature_column.*` has a functional equivalent in `tf.keras.layers` for feature preprocessing when training a Keras model.\n"
     ]
    }
   ],
   "source": [
    "# Transforming to Tensorflow numeric columns using 'feature_column.numeric_column()' and adding the results to 'feature_columns'\n",
    "for col_name in numerical_features:\n",
    "  feature_columns.append(feature_column.numeric_column(col_name))"
   ]
  },
  {
   "cell_type": "markdown",
   "metadata": {},
   "source": [
    "• Tensorflow categorical transformation"
   ]
  },
  {
   "cell_type": "code",
   "execution_count": 33,
   "metadata": {},
   "outputs": [
    {
     "name": "stdout",
     "output_type": "stream",
     "text": [
      "WARNING:tensorflow:From /tmp/ipykernel_127/4253089093.py:3: categorical_column_with_vocabulary_list (from tensorflow.python.feature_column.feature_column_v2) is deprecated and will be removed in a future version.\n",
      "Instructions for updating:\n",
      "Use Keras preprocessing layers instead, either directly or via the `tf.keras.utils.FeatureSpace` utility. Each of `tf.feature_column.*` has a functional equivalent in `tf.keras.layers` for feature preprocessing when training a Keras model.\n",
      "WARNING:tensorflow:From /tmp/ipykernel_127/4253089093.py:4: embedding_column (from tensorflow.python.feature_column.feature_column_v2) is deprecated and will be removed in a future version.\n",
      "Instructions for updating:\n",
      "Use Keras preprocessing layers instead, either directly or via the `tf.keras.utils.FeatureSpace` utility. Each of `tf.feature_column.*` has a functional equivalent in `tf.keras.layers` for feature preprocessing when training a Keras model.\n"
     ]
    }
   ],
   "source": [
    "# Transforming categorical columns to Tensorflow one-hot encoding column using 'feature_column.embedding_column()' and add the results to 'feature_columns'\n",
    "for col_name in categorical_features:\n",
    "  categorical_column = feature_column.categorical_column_with_vocabulary_list(col_name, features[col_name].unique())\n",
    "  embed_column = feature_column.embedding_column(categorical_column, dimension=10)\n",
    "  feature_columns.append(embed_column)"
   ]
  },
  {
   "cell_type": "markdown",
   "metadata": {},
   "source": [
    "##### **A] Tensorflow - Experiment 1**"
   ]
  },
  {
   "cell_type": "markdown",
   "metadata": {},
   "source": [
    "#### • Defining Architecture"
   ]
  },
  {
   "cell_type": "markdown",
   "metadata": {},
   "source": [
    "• Setting seed for tensorflow to reproducible results"
   ]
  },
  {
   "cell_type": "code",
   "execution_count": 71,
   "metadata": {},
   "outputs": [],
   "source": [
    "# Setting seed for tensorflow to reproducible results\n",
    "tf.random.set_seed(19)"
   ]
  },
  {
   "cell_type": "markdown",
   "metadata": {},
   "source": [
    "• Instantiating a Tensoflow Sequential() class object"
   ]
  },
  {
   "cell_type": "code",
   "execution_count": 72,
   "metadata": {},
   "outputs": [],
   "source": [
    "# Instantiating a Tensoflow Sequential() class object\n",
    "model = tf.keras.Sequential()"
   ]
  },
  {
   "cell_type": "markdown",
   "metadata": {},
   "source": [
    "• Instantiating a 'DenseFeatures()' on 'feature_columns'"
   ]
  },
  {
   "cell_type": "code",
   "execution_count": 73,
   "metadata": {},
   "outputs": [],
   "source": [
    "# Instantiating a 'DenseFeatures()' on 'feature_columns'\n",
    "feature_layer = DenseFeatures(feature_columns)"
   ]
  },
  {
   "cell_type": "markdown",
   "metadata": {},
   "source": [
    "• Creating 2 layers each with 128 neurons, ReLU as the activation function and a dropout layer of 10%"
   ]
  },
  {
   "cell_type": "code",
   "execution_count": 74,
   "metadata": {},
   "outputs": [],
   "source": [
    "# Creating 2 layers each with 128 neurons, ReLU as the activation function and a dropout layer of 10%\n",
    "layer1 = Dense(128, activation='relu')\n",
    "layer2 = Dense(128, activation='relu')\n",
    "dropout = Dropout(0.1)"
   ]
  },
  {
   "cell_type": "markdown",
   "metadata": {},
   "source": [
    "• Assembling the feature layer, 2 hidden layers and then the dropout layer and top layer responsible of making final predictions using 'linear' activation function"
   ]
  },
  {
   "cell_type": "code",
   "execution_count": 75,
   "metadata": {},
   "outputs": [],
   "source": [
    "# Assembling the feature layer, 2 hidden layers and then the dropout layer and top layer responsible of making final predictions using 'linear' activation function\n",
    "model.add(feature_layer)\n",
    "model.add(layer1)\n",
    "model.add(layer2)\n",
    "model.add(dropout)\n",
    "model.add(Dense(1, activation='linear'))"
   ]
  },
  {
   "cell_type": "markdown",
   "metadata": {},
   "source": [
    "• Configuring the learning process with 0.01 learning rate using Adam optimiser, MAE loss function and the MAE, RMSE metrics"
   ]
  },
  {
   "cell_type": "code",
   "execution_count": 76,
   "metadata": {},
   "outputs": [],
   "source": [
    "# • Configuring the learning process with 0.01 learning rate using Adam optimiser, MAE loss function and the MAE, RMSE metrics\n",
    "model.compile(loss=tf.keras.losses.MeanAbsoluteError(), \n",
    "              optimizer=tf.keras.optimizers.Adam(learning_rate=0.01), \n",
    "              metrics=[tf.keras.metrics.MeanAbsoluteError(), tf.keras.metrics.RootMeanSquaredError()])"
   ]
  },
  {
   "cell_type": "markdown",
   "metadata": {},
   "source": [
    "• Instantiating an EarlyStopping callback"
   ]
  },
  {
   "cell_type": "code",
   "execution_count": 77,
   "metadata": {},
   "outputs": [],
   "source": [
    "# Instantiating an EarlyStopping callback that will stop the training if there is no reduction in the validation set loss for ten consecutive epochs\n",
    "early_stopping = tf.keras.callbacks.EarlyStopping(\n",
    "    monitor='val_loss',\n",
    "    verbose=1,\n",
    "    patience=10,\n",
    "    restore_best_weights=True)"
   ]
  },
  {
   "cell_type": "markdown",
   "metadata": {},
   "source": [
    "• Training the model using on the training set with 10 epochs"
   ]
  },
  {
   "cell_type": "code",
   "execution_count": 78,
   "metadata": {},
   "outputs": [
    {
     "name": "stdout",
     "output_type": "stream",
     "text": [
      "Epoch 1/10\n",
      "32279/32279 [==============================] - 175s 5ms/step - loss: 110.6358 - mean_absolute_error: 110.6358 - root_mean_squared_error: 181.5327 - val_loss: 111.3611 - val_mean_absolute_error: 111.3611 - val_root_mean_squared_error: 176.0717\n",
      "Epoch 2/10\n",
      "32279/32279 [==============================] - 173s 5ms/step - loss: 106.2135 - mean_absolute_error: 106.2135 - root_mean_squared_error: 176.2352 - val_loss: 110.2819 - val_mean_absolute_error: 110.2819 - val_root_mean_squared_error: 185.9413\n",
      "Epoch 3/10\n",
      "32279/32279 [==============================] - 161s 5ms/step - loss: 105.3166 - mean_absolute_error: 105.3166 - root_mean_squared_error: 174.9737 - val_loss: 105.9942 - val_mean_absolute_error: 105.9942 - val_root_mean_squared_error: 179.7442\n",
      "Epoch 4/10\n",
      "32279/32279 [==============================] - 188s 6ms/step - loss: 104.8949 - mean_absolute_error: 104.8949 - root_mean_squared_error: 174.3208 - val_loss: 102.7416 - val_mean_absolute_error: 102.7416 - val_root_mean_squared_error: 174.1416\n",
      "Epoch 5/10\n",
      "32279/32279 [==============================] - 169s 5ms/step - loss: 104.3458 - mean_absolute_error: 104.3458 - root_mean_squared_error: 173.6804 - val_loss: 102.9593 - val_mean_absolute_error: 102.9593 - val_root_mean_squared_error: 173.3014\n",
      "Epoch 6/10\n",
      "32279/32279 [==============================] - 164s 5ms/step - loss: 104.0612 - mean_absolute_error: 104.0612 - root_mean_squared_error: 173.2925 - val_loss: 103.1139 - val_mean_absolute_error: 103.1139 - val_root_mean_squared_error: 171.4681\n",
      "Epoch 7/10\n",
      "32279/32279 [==============================] - 172s 5ms/step - loss: 103.7173 - mean_absolute_error: 103.7173 - root_mean_squared_error: 172.9131 - val_loss: 101.7357 - val_mean_absolute_error: 101.7357 - val_root_mean_squared_error: 172.0697\n",
      "Epoch 8/10\n",
      "32279/32279 [==============================] - 161s 5ms/step - loss: 103.6236 - mean_absolute_error: 103.6236 - root_mean_squared_error: 172.9200 - val_loss: 102.9038 - val_mean_absolute_error: 102.9038 - val_root_mean_squared_error: 175.2627\n",
      "Epoch 9/10\n",
      "32279/32279 [==============================] - 157s 5ms/step - loss: 103.3801 - mean_absolute_error: 103.3801 - root_mean_squared_error: 172.4893 - val_loss: 101.7465 - val_mean_absolute_error: 101.7465 - val_root_mean_squared_error: 171.7146\n",
      "Epoch 10/10\n",
      "32279/32279 [==============================] - 158s 5ms/step - loss: 103.0709 - mean_absolute_error: 103.0709 - root_mean_squared_error: 172.2200 - val_loss: 102.2838 - val_mean_absolute_error: 102.2838 - val_root_mean_squared_error: 173.5338\n"
     ]
    }
   ],
   "source": [
    "# Training the model using on the training set with 10 epochs\n",
    "history = model.fit(train_ds, \n",
    "                    validation_data=val_ds, \n",
    "                    callbacks=[early_stopping], \n",
    "                    epochs=10)"
   ]
  },
  {
   "cell_type": "markdown",
   "metadata": {},
   "source": [
    "#### 4] Evaluating Model Performance"
   ]
  },
  {
   "cell_type": "markdown",
   "metadata": {},
   "source": [
    "• Evaluating the performance of this model on the testing set"
   ]
  },
  {
   "cell_type": "code",
   "execution_count": 79,
   "metadata": {},
   "outputs": [
    {
     "name": "stdout",
     "output_type": "stream",
     "text": [
      "10760/10760 [==============================] - 37s 3ms/step - loss: 101.8944 - mean_absolute_error: 101.8944 - root_mean_squared_error: 172.5595\n"
     ]
    },
    {
     "data": {
      "text/plain": [
       "[101.8943862915039, 101.8943862915039, 172.55953979492188]"
      ]
     },
     "execution_count": 79,
     "metadata": {},
     "output_type": "execute_result"
    }
   ],
   "source": [
    "# Evaluating the performance of this model on the testing set\n",
    "model.evaluate(test_ds)"
   ]
  },
  {
   "cell_type": "markdown",
   "metadata": {},
   "source": [
    "The loss values represent the discrepancy between the model's predictions and the actual target values. Lower loss values (training=103.07, validation=102.28 and testing=101.89) indicate better performance. In this case, the test loss is slightly lower than both the training and validation losses, suggesting that the model is generalizing well to unseen data.\n",
    "\n",
    "MAE represents the average absolute difference between the predicted and actual values. Similar to the loss, lower MAE values are desirable. The decreasing trend from training(103.07) to validation(102.28) to test(101.89) indicates that the model is not overfitting, but the absolute values are high, suggesting that the model's predictions, on average, deviate significantly from the true values.\n",
    "\n",
    "RMSE penalizes larger errors more than MAE and is sensitive to outliers. Similar to the MAE, lower RMSE values are better. The test(172.55) RMSE is lower than both the training(172.22) and validation(173.53) RMSE, indicating that the model is performing well on the test set."
   ]
  },
  {
   "cell_type": "markdown",
   "metadata": {},
   "source": [
    "• Displaying the training history"
   ]
  },
  {
   "cell_type": "code",
   "execution_count": 44,
   "metadata": {},
   "outputs": [],
   "source": [
    "# Displaying the training history\n",
    "def plot_training_history(history):\n",
    "    # Extracting training MAE and RMSE from history\n",
    "    mae = history.history['mean_absolute_error']\n",
    "    rmse = history.history['root_mean_squared_error']\n",
    "\n",
    "    # Extracting validation MAE and RMSE from history\n",
    "    val_mae = history.history['val_mean_absolute_error']\n",
    "    val_rmse = history.history['val_root_mean_squared_error']\n",
    "\n",
    "    # Plotting MAE and RMSE\n",
    "    plt.figure(figsize=(12, 6))\n",
    "\n",
    "    # Plotting MAE\n",
    "    plt.subplot(1, 2, 1)\n",
    "    plt.plot(range(1, len(mae) + 1), mae, label='Training MAE')\n",
    "    plt.plot(range(1, len(val_mae) + 1), val_mae, label='Validation MAE')\n",
    "    plt.title('MAE Over Epochs')\n",
    "    plt.xlabel('Epochs')\n",
    "    plt.ylabel('MAE')\n",
    "    plt.legend()\n",
    "\n",
    "    # Plotting RMSE\n",
    "    plt.subplot(1, 2, 2)\n",
    "    plt.plot(range(1, len(rmse) + 1), rmse, label='Training RMSE')\n",
    "    plt.plot(range(1, len(val_rmse) + 1), val_rmse, label='Validation RMSE')\n",
    "    plt.title('RMSE Over Epochs')\n",
    "    plt.xlabel('Epochs')\n",
    "    plt.ylabel('RMSE')\n",
    "    plt.legend()\n",
    "\n",
    "    # Show the plots\n",
    "    plt.tight_layout()\n",
    "    plt.show()"
   ]
  },
  {
   "cell_type": "code",
   "execution_count": 112,
   "metadata": {},
   "outputs": [
    {
     "data": {
      "image/png": "[encoded data removed]",
      "text/plain": [
       "<Figure size 1200x600 with 2 Axes>"
      ]
     },
     "metadata": {},
     "output_type": "display_data"
    }
   ],
   "source": [
    "# Calling the function to diaplay the traning history\n",
    "plot_training_history(history)"
   ]
  },
  {
   "cell_type": "markdown",
   "metadata": {},
   "source": [
    "##### **B] Tensorflow - Experiment 2**"
   ]
  },
  {
   "cell_type": "markdown",
   "metadata": {},
   "source": [
    "#### • Defining Architecture\n",
    "\n",
    "• Setting seed for tensorflow to reproducible results"
   ]
  },
  {
   "cell_type": "code",
   "execution_count": 34,
   "metadata": {},
   "outputs": [],
   "source": [
    "# Setting seed for tensorflow to reproducible results\n",
    "tf.random.set_seed(19)"
   ]
  },
  {
   "cell_type": "markdown",
   "metadata": {},
   "source": [
    "• Instantiating a Tensoflow Sequential() class object"
   ]
  },
  {
   "cell_type": "code",
   "execution_count": 35,
   "metadata": {},
   "outputs": [],
   "source": [
    "# Instantiating a Tensoflow Sequential() class object\n",
    "model1 = tf.keras.Sequential()"
   ]
  },
  {
   "cell_type": "markdown",
   "metadata": {},
   "source": [
    "• Instantiating a 'DenseFeatures()' on 'feature_columns'"
   ]
  },
  {
   "cell_type": "code",
   "execution_count": 36,
   "metadata": {},
   "outputs": [],
   "source": [
    "# Instantiating a 'DenseFeatures()' on 'feature_columns'\n",
    "feature_layer = DenseFeatures(feature_columns)"
   ]
  },
  {
   "cell_type": "markdown",
   "metadata": {},
   "source": [
    "• Creating 2 layers each with 128 neurons, ReLU as the activation function and a dropout layer of 10%"
   ]
  },
  {
   "cell_type": "code",
   "execution_count": 37,
   "metadata": {},
   "outputs": [],
   "source": [
    "# Creating 2 layers each with 128 neurons, ReLU as the activation function and a dropout layer of 10%\n",
    "layer1 = Dense(128, activation='relu')\n",
    "layer2 = Dense(128, activation='relu')\n",
    "dropout = Dropout(0.1)"
   ]
  },
  {
   "cell_type": "markdown",
   "metadata": {},
   "source": [
    "• Assembling the feature layer, 2 hidden layers and then the dropout layer and top layer responsible of making final predictions using 'linear' activation function"
   ]
  },
  {
   "cell_type": "code",
   "execution_count": 38,
   "metadata": {},
   "outputs": [],
   "source": [
    "# Assembling the feature layer, 2 hidden layers and then the dropout layer and top layer responsible of making final predictions using 'linear' activation function\n",
    "model1.add(feature_layer)\n",
    "model1.add(layer1)\n",
    "model1.add(layer2)\n",
    "model1.add(dropout)\n",
    "model1.add(Dense(1, activation='linear'))"
   ]
  },
  {
   "cell_type": "markdown",
   "metadata": {},
   "source": [
    "• Configuring the learning process with 0.01 learning rate using Adam optimiser, MAE loss function and the MAE, RMSE metrics"
   ]
  },
  {
   "cell_type": "code",
   "execution_count": 39,
   "metadata": {},
   "outputs": [],
   "source": [
    "# • Configuring the learning process with 0.01 learning rate using Adam optimiser, MAE loss function and the MAE, RMSE metrics\n",
    "model1.compile(loss=tf.keras.losses.MeanAbsoluteError(), \n",
    "              optimizer=tf.keras.optimizers.Adam(learning_rate=0.001), \n",
    "              metrics=[tf.keras.metrics.MeanAbsoluteError(), tf.keras.metrics.RootMeanSquaredError()])"
   ]
  },
  {
   "cell_type": "markdown",
   "metadata": {},
   "source": [
    "• Instantiating an EarlyStopping callback"
   ]
  },
  {
   "cell_type": "code",
   "execution_count": 41,
   "metadata": {},
   "outputs": [],
   "source": [
    "# Instantiating an EarlyStopping callback that will stop the training if there is no reduction in the validation set loss for ten consecutive epochs\n",
    "early_stopping = tf.keras.callbacks.EarlyStopping(\n",
    "    monitor='val_loss',\n",
    "    verbose=1,\n",
    "    patience=5,\n",
    "    restore_best_weights=True)"
   ]
  },
  {
   "cell_type": "markdown",
   "metadata": {},
   "source": [
    "• Training the model using on the training set with 20 epochs"
   ]
  },
  {
   "cell_type": "code",
   "execution_count": 42,
   "metadata": {},
   "outputs": [
    {
     "name": "stdout",
     "output_type": "stream",
     "text": [
      "Epoch 1/15\n",
      "32279/32279 [==============================] - 165s 5ms/step - loss: 114.7391 - mean_absolute_error: 114.7391 - root_mean_squared_error: 188.5950 - val_loss: 106.1167 - val_mean_absolute_error: 106.1167 - val_root_mean_squared_error: 177.3525\n",
      "Epoch 2/15\n",
      "32279/32279 [==============================] - 162s 5ms/step - loss: 104.6076 - mean_absolute_error: 104.6076 - root_mean_squared_error: 175.1582 - val_loss: 101.5869 - val_mean_absolute_error: 101.5869 - val_root_mean_squared_error: 172.3927\n",
      "Epoch 3/15\n",
      "32279/32279 [==============================] - 161s 5ms/step - loss: 101.9569 - mean_absolute_error: 101.9569 - root_mean_squared_error: 172.6181 - val_loss: 99.9545 - val_mean_absolute_error: 99.9545 - val_root_mean_squared_error: 170.3511\n",
      "Epoch 4/15\n",
      "32279/32279 [==============================] - 161s 5ms/step - loss: 100.4294 - mean_absolute_error: 100.4294 - root_mean_squared_error: 171.1559 - val_loss: 97.8063 - val_mean_absolute_error: 97.8063 - val_root_mean_squared_error: 169.3829\n",
      "Epoch 5/15\n",
      "32279/32279 [==============================] - 162s 5ms/step - loss: 99.1646 - mean_absolute_error: 99.1646 - root_mean_squared_error: 169.8325 - val_loss: 97.1911 - val_mean_absolute_error: 97.1911 - val_root_mean_squared_error: 167.5627\n",
      "Epoch 6/15\n",
      "32279/32279 [==============================] - 164s 5ms/step - loss: 98.2156 - mean_absolute_error: 98.2156 - root_mean_squared_error: 168.6537 - val_loss: 96.1500 - val_mean_absolute_error: 96.1500 - val_root_mean_squared_error: 166.4787\n",
      "Epoch 7/15\n",
      "32279/32279 [==============================] - 168s 5ms/step - loss: 97.4526 - mean_absolute_error: 97.4526 - root_mean_squared_error: 167.4628 - val_loss: 96.5425 - val_mean_absolute_error: 96.5425 - val_root_mean_squared_error: 165.5225\n",
      "Epoch 8/15\n",
      "32279/32279 [==============================] - 191s 6ms/step - loss: 96.8635 - mean_absolute_error: 96.8635 - root_mean_squared_error: 166.6175 - val_loss: 95.7336 - val_mean_absolute_error: 95.7336 - val_root_mean_squared_error: 167.8786\n",
      "Epoch 9/15\n",
      "32279/32279 [==============================] - 186s 6ms/step - loss: 96.2933 - mean_absolute_error: 96.2933 - root_mean_squared_error: 165.8067 - val_loss: 95.1547 - val_mean_absolute_error: 95.1547 - val_root_mean_squared_error: 164.1967\n",
      "Epoch 10/15\n",
      "32279/32279 [==============================] - 187s 6ms/step - loss: 95.9914 - mean_absolute_error: 95.9914 - root_mean_squared_error: 165.4918 - val_loss: 94.5173 - val_mean_absolute_error: 94.5173 - val_root_mean_squared_error: 164.3981\n",
      "Epoch 11/15\n",
      "32279/32279 [==============================] - 173s 5ms/step - loss: 95.5870 - mean_absolute_error: 95.5870 - root_mean_squared_error: 165.0926 - val_loss: 95.3775 - val_mean_absolute_error: 95.3775 - val_root_mean_squared_error: 168.7289\n",
      "Epoch 12/15\n",
      "32279/32279 [==============================] - 181s 5ms/step - loss: 95.3074 - mean_absolute_error: 95.3074 - root_mean_squared_error: 164.7853 - val_loss: 94.9998 - val_mean_absolute_error: 94.9998 - val_root_mean_squared_error: 167.9637\n",
      "Epoch 13/15\n",
      "32279/32279 [==============================] - 182s 5ms/step - loss: 95.0386 - mean_absolute_error: 95.0386 - root_mean_squared_error: 164.5986 - val_loss: 93.4606 - val_mean_absolute_error: 93.4606 - val_root_mean_squared_error: 162.9805\n",
      "Epoch 14/15\n",
      "32279/32279 [==============================] - 184s 5ms/step - loss: 94.8438 - mean_absolute_error: 94.8438 - root_mean_squared_error: 164.3105 - val_loss: 93.1206 - val_mean_absolute_error: 93.1206 - val_root_mean_squared_error: 164.4322\n",
      "Epoch 15/15\n",
      "32279/32279 [==============================] - 189s 6ms/step - loss: 94.5710 - mean_absolute_error: 94.5710 - root_mean_squared_error: 163.9335 - val_loss: 93.0620 - val_mean_absolute_error: 93.0620 - val_root_mean_squared_error: 162.5982\n"
     ]
    }
   ],
   "source": [
    "# Training the model using on the training set with 15 epochs\n",
    "history1 = model1.fit(train_ds, \n",
    "                    validation_data=val_ds, \n",
    "                    callbacks=[early_stopping], \n",
    "                    epochs=15)"
   ]
  },
  {
   "cell_type": "markdown",
   "metadata": {},
   "source": [
    "#### 4] Evaluating Model Performance"
   ]
  },
  {
   "cell_type": "markdown",
   "metadata": {},
   "source": [
    "• Evaluating the performance of this model on the testing set"
   ]
  },
  {
   "cell_type": "code",
   "execution_count": 44,
   "metadata": {},
   "outputs": [
    {
     "name": "stdout",
     "output_type": "stream",
     "text": [
      "10760/10760 [==============================] - 40s 3ms/step - loss: 92.8249 - mean_absolute_error: 92.8249 - root_mean_squared_error: 161.5885\n"
     ]
    },
    {
     "data": {
      "text/plain": [
       "[92.8248519897461, 92.8248519897461, 161.5885009765625]"
      ]
     },
     "execution_count": 44,
     "metadata": {},
     "output_type": "execute_result"
    }
   ],
   "source": [
    "# Evaluating the performance of this model on the testing set\n",
    "model1.evaluate(test_ds)"
   ]
  },
  {
   "cell_type": "markdown",
   "metadata": {},
   "source": [
    "The loss decreases from the training(94.57) phase to the validation(93.06) and test(92.82) phases, indicating that the model is learning and generalizing well.\n",
    "\n",
    "The decreasing MAE score from training(94.57) to validation(93.06) and test(92.82) sets suggests that the model is making accurate predictions with a relatively small average absolute error.\n",
    "\n",
    "RMSE across training(163.93), validation(162.59), and test(161.58) sets indicates that the model is consistently improving its ability to predict the target variable."
   ]
  },
  {
   "cell_type": "markdown",
   "metadata": {},
   "source": [
    "• Displaying the training history"
   ]
  },
  {
   "cell_type": "code",
   "execution_count": 45,
   "metadata": {},
   "outputs": [
    {
     "data": {
      "image/png": "[encoded data removed]",
      "text/plain": [
       "<Figure size 1200x600 with 2 Axes>"
      ]
     },
     "metadata": {},
     "output_type": "display_data"
    }
   ],
   "source": [
    "# Calling the function to diaplay the traning history\n",
    "plot_training_history(history1)"
   ]
  },
  {
   "cell_type": "markdown",
   "metadata": {},
   "source": [
    "##### **C] Tensorflow - Experiment 3**"
   ]
  },
  {
   "cell_type": "markdown",
   "metadata": {},
   "source": [
    "#### • Defining Architecture"
   ]
  },
  {
   "cell_type": "markdown",
   "metadata": {},
   "source": [
    "• Setting seed for tensorflow to reproducible results"
   ]
  },
  {
   "cell_type": "code",
   "execution_count": 35,
   "metadata": {},
   "outputs": [],
   "source": [
    "# Setting seed for tensorflow to reproducible results\n",
    "tf.random.set_seed(19)"
   ]
  },
  {
   "cell_type": "markdown",
   "metadata": {},
   "source": [
    "• Instantiating a Tensoflow Sequential() class object"
   ]
  },
  {
   "cell_type": "code",
   "execution_count": 36,
   "metadata": {},
   "outputs": [],
   "source": [
    "# Instantiating a Tensoflow Sequential() class object\n",
    "model2 = tf.keras.Sequential()"
   ]
  },
  {
   "cell_type": "markdown",
   "metadata": {},
   "source": [
    "• Instantiating a 'DenseFeatures()' on 'feature_columns'"
   ]
  },
  {
   "cell_type": "code",
   "execution_count": 37,
   "metadata": {},
   "outputs": [],
   "source": [
    "# Instantiating a 'DenseFeatures()' on 'feature_columns'\n",
    "feature_layer = DenseFeatures(feature_columns)"
   ]
  },
  {
   "cell_type": "markdown",
   "metadata": {},
   "source": [
    "• Creating 3 layers each with 128 neurons, ReLU as the activation function and a dropout layer of 10%"
   ]
  },
  {
   "cell_type": "code",
   "execution_count": 38,
   "metadata": {},
   "outputs": [],
   "source": [
    "# Creating 3 layers each with 128 neurons, ReLU as the activation function and a dropout layer of 10%\n",
    "layer1 = Dense(128, activation='relu')\n",
    "layer2 = Dense(128, activation='relu')\n",
    "layer3 = Dense(64, activation='relu')\n",
    "dropout = Dropout(0.1)"
   ]
  },
  {
   "cell_type": "markdown",
   "metadata": {},
   "source": [
    "• Assembling the feature layer, 2 hidden layers and then the dropout layer and top layer responsible of making final predictions using 'linear' activation function"
   ]
  },
  {
   "cell_type": "code",
   "execution_count": 39,
   "metadata": {},
   "outputs": [],
   "source": [
    "# Assembling the feature layer, 3 hidden layers and then the dropout layer and top layer responsible of making final predictions using 'linear' activation function\n",
    "model2.add(feature_layer)\n",
    "model2.add(layer1)\n",
    "model2.add(layer2)\n",
    "model2.add(layer3)\n",
    "model2.add(dropout)\n",
    "model2.add(Dense(1, activation='linear'))"
   ]
  },
  {
   "cell_type": "markdown",
   "metadata": {},
   "source": [
    "• Configuring the learning process with 0.001 learning rate using Adam optimiser, MAE loss function and the MAE, RMSE metrics"
   ]
  },
  {
   "cell_type": "code",
   "execution_count": 40,
   "metadata": {},
   "outputs": [],
   "source": [
    "# • Configuring the learning process with 0.001 learning rate using Adam optimiser, MAE loss function and the MAE, RMSE metrics\n",
    "model2.compile(loss=tf.keras.losses.MeanAbsoluteError(), \n",
    "              optimizer=tf.keras.optimizers.Adam(learning_rate=0.001), \n",
    "              metrics=[tf.keras.metrics.MeanAbsoluteError(), tf.keras.metrics.RootMeanSquaredError()])"
   ]
  },
  {
   "cell_type": "markdown",
   "metadata": {},
   "source": [
    "• Instantiating an EarlyStopping callback"
   ]
  },
  {
   "cell_type": "code",
   "execution_count": 41,
   "metadata": {},
   "outputs": [],
   "source": [
    "# Instantiating an EarlyStopping callback that will stop the training if there is no reduction in the validation set loss for ten consecutive epochs\n",
    "early_stopping = tf.keras.callbacks.EarlyStopping(\n",
    "    monitor='val_loss',\n",
    "    verbose=1,\n",
    "    patience=10,\n",
    "    restore_best_weights=True)"
   ]
  },
  {
   "cell_type": "markdown",
   "metadata": {},
   "source": [
    "• Training the model using on the training set with 11 epochs"
   ]
  },
  {
   "cell_type": "code",
   "execution_count": 42,
   "metadata": {},
   "outputs": [
    {
     "name": "stdout",
     "output_type": "stream",
     "text": [
      "Epoch 1/11\n",
      "32279/32279 [==============================] - 192s 6ms/step - loss: 113.3650 - mean_absolute_error: 113.3650 - root_mean_squared_error: 186.0507 - val_loss: 107.3105 - val_mean_absolute_error: 107.3105 - val_root_mean_squared_error: 181.2141\n",
      "Epoch 2/11\n",
      "32279/32279 [==============================] - 188s 6ms/step - loss: 104.4810 - mean_absolute_error: 104.4810 - root_mean_squared_error: 174.6699 - val_loss: 100.6253 - val_mean_absolute_error: 100.6253 - val_root_mean_squared_error: 172.1392\n",
      "Epoch 3/11\n",
      "32279/32279 [==============================] - 180s 5ms/step - loss: 101.6160 - mean_absolute_error: 101.6160 - root_mean_squared_error: 171.9077 - val_loss: 98.5097 - val_mean_absolute_error: 98.5097 - val_root_mean_squared_error: 170.2082\n",
      "Epoch 4/11\n",
      "32279/32279 [==============================] - 204s 6ms/step - loss: 99.5594 - mean_absolute_error: 99.5594 - root_mean_squared_error: 170.1409 - val_loss: 96.0438 - val_mean_absolute_error: 96.0438 - val_root_mean_squared_error: 167.3314\n",
      "Epoch 5/11\n",
      "32279/32279 [==============================] - 183s 5ms/step - loss: 98.0975 - mean_absolute_error: 98.0975 - root_mean_squared_error: 168.6291 - val_loss: 94.9610 - val_mean_absolute_error: 94.9610 - val_root_mean_squared_error: 166.5351\n",
      "Epoch 6/11\n",
      "32279/32279 [==============================] - 168s 5ms/step - loss: 96.7600 - mean_absolute_error: 96.7600 - root_mean_squared_error: 167.2748 - val_loss: 95.1848 - val_mean_absolute_error: 95.1848 - val_root_mean_squared_error: 164.4177\n",
      "Epoch 7/11\n",
      "32279/32279 [==============================] - 181s 5ms/step - loss: 95.6753 - mean_absolute_error: 95.6753 - root_mean_squared_error: 166.0499 - val_loss: 96.1650 - val_mean_absolute_error: 96.1650 - val_root_mean_squared_error: 166.3688\n",
      "Epoch 8/11\n",
      "32279/32279 [==============================] - 176s 5ms/step - loss: 94.8956 - mean_absolute_error: 94.8956 - root_mean_squared_error: 164.9397 - val_loss: 92.5433 - val_mean_absolute_error: 92.5433 - val_root_mean_squared_error: 163.3289\n",
      "Epoch 9/11\n",
      "32279/32279 [==============================] - 179s 5ms/step - loss: 94.2197 - mean_absolute_error: 94.2197 - root_mean_squared_error: 163.9532 - val_loss: 92.6016 - val_mean_absolute_error: 92.6016 - val_root_mean_squared_error: 164.1723\n",
      "Epoch 10/11\n"
     ]
    },
    {
     "name": "stderr",
     "output_type": "stream",
     "text": [
      "2023-11-09 19:05:01.492491: I tensorflow/core/kernels/data/shuffle_dataset_op.cc:422] ShuffleDatasetV3:1: Filling up shuffle buffer (this may take a while): 815859 of 1032910\n"
     ]
    },
    {
     "name": "stdout",
     "output_type": "stream",
     "text": [
      "   40/32279 [..............................] - ETA: 2:10 - loss: 90.3807 - mean_absolute_error: 90.3807 - root_mean_squared_error: 153.1042     "
     ]
    },
    {
     "name": "stderr",
     "output_type": "stream",
     "text": [
      "2023-11-09 19:05:03.361928: I tensorflow/core/kernels/data/shuffle_dataset_op.cc:452] Shuffle buffer filled.\n"
     ]
    },
    {
     "name": "stdout",
     "output_type": "stream",
     "text": [
      "32279/32279 [==============================] - 177s 5ms/step - loss: 93.6576 - mean_absolute_error: 93.6576 - root_mean_squared_error: 163.3648 - val_loss: 91.4193 - val_mean_absolute_error: 91.4193 - val_root_mean_squared_error: 161.9185\n",
      "Epoch 11/11\n",
      "32279/32279 [==============================] - 171s 5ms/step - loss: 93.2662 - mean_absolute_error: 93.2662 - root_mean_squared_error: 162.8716 - val_loss: 91.1369 - val_mean_absolute_error: 91.1369 - val_root_mean_squared_error: 161.2411\n"
     ]
    }
   ],
   "source": [
    "# Training the model using on the training set with 11 epochs\n",
    "history = model2.fit(train_ds, \n",
    "                    validation_data=val_ds, \n",
    "                    callbacks=[early_stopping], \n",
    "                    epochs=11)"
   ]
  },
  {
   "cell_type": "markdown",
   "metadata": {},
   "source": [
    "#### 4] Evaluating Model Performance"
   ]
  },
  {
   "cell_type": "markdown",
   "metadata": {},
   "source": [
    "• Evaluating the performance of this model on the testing set"
   ]
  },
  {
   "cell_type": "code",
   "execution_count": 43,
   "metadata": {},
   "outputs": [
    {
     "name": "stdout",
     "output_type": "stream",
     "text": [
      "10760/10760 [==============================] - 38s 3ms/step - loss: 90.8786 - mean_absolute_error: 90.8786 - root_mean_squared_error: 160.1607\n"
     ]
    },
    {
     "data": {
      "text/plain": [
       "[90.87859344482422, 90.87859344482422, 160.16065979003906]"
      ]
     },
     "execution_count": 43,
     "metadata": {},
     "output_type": "execute_result"
    }
   ],
   "source": [
    "# Evaluating the performance of this model on the testing set\n",
    "model2.evaluate(test_ds)"
   ]
  },
  {
   "cell_type": "markdown",
   "metadata": {},
   "source": [
    "The loss from training(93.26) to validation(91.13) and test(90.87) sets indicates that the model is learning and generalizing well. The test loss is the lowest, suggesting good performance on unseen data.\n",
    "\n",
    "MAE score for training(93.26), validation(91.13), and test(90.87) sets suggests that the model is making accurate predictions with a relatively small average absolute error. \n",
    "\n",
    "RMSE across training(162.87), validation(161.24), and test(160.16) sets indicates that the model is consistently improving its ability to predict the target variable."
   ]
  },
  {
   "cell_type": "markdown",
   "metadata": {},
   "source": [
    "• Displaying the training history"
   ]
  },
  {
   "cell_type": "code",
   "execution_count": 45,
   "metadata": {},
   "outputs": [
    {
     "data": {
      "image/png": "[encoded data removed]",
      "text/plain": [
       "<Figure size 1200x600 with 2 Axes>"
      ]
     },
     "metadata": {},
     "output_type": "display_data"
    }
   ],
   "source": [
    "# Calling the function to diaplay the traning history\n",
    "plot_training_history(history)"
   ]
  },
  {
   "cell_type": "markdown",
   "metadata": {},
   "source": [
    "• Storing the model to be utilized for fare perdiction "
   ]
  },
  {
   "cell_type": "code",
   "execution_count": 46,
   "metadata": {},
   "outputs": [
    {
     "name": "stdout",
     "output_type": "stream",
     "text": [
      "WARNING:tensorflow:From /opt/conda/lib/python3.11/site-packages/keras/src/feature_column/base_feature_layer.py:129: serialize_feature_column (from tensorflow.python.feature_column.serialization) is deprecated and will be removed in a future version.\n",
      "Instructions for updating:\n",
      "Use Keras preprocessing layers instead, either directly or via the `tf.keras.utils.FeatureSpace` utility. Each of `tf.feature_column.*` has a functional equivalent in `tf.keras.layers` for feature preprocessing when training a Keras model.\n",
      "INFO:tensorflow:Assets written to: ./tf_keras_model/assets\n"
     ]
    },
    {
     "name": "stderr",
     "output_type": "stream",
     "text": [
      "INFO:tensorflow:Assets written to: ./tf_keras_model/assets\n"
     ]
    }
   ],
   "source": [
    "# Saving the model\n",
    "model2.save('./tf_keras_model')"
   ]
  }
 ],
 "metadata": {
  "kernelspec": {
   "display_name": "Python 3 (ipykernel)",
   "language": "python",
   "name": "python3"
  }
 },
 "nbformat": 4,
 "nbformat_minor": 2
}
