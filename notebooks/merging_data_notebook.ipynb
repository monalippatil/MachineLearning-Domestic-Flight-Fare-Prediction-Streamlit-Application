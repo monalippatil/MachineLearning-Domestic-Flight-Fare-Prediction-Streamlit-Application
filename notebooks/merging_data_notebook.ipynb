{
 "cells": [
  {
   "cell_type": "markdown",
   "metadata": {},
   "source": [
    "## **Combining files**\n",
    "\n",
    "**1. Importing libraries**\n",
    "\n",
    "**2. Reading files per state and then merging them into 1 (shorter time)**\n",
    "\n",
    "**3. Reading all files and merging them in one go (takes longer)** "
   ]
  },
  {
   "cell_type": "markdown",
   "metadata": {},
   "source": [
    "#### **1. Importing libraries**"
   ]
  },
  {
   "cell_type": "code",
   "execution_count": 3,
   "metadata": {},
   "outputs": [],
   "source": [
    "import pandas as pd"
   ]
  },
  {
   "cell_type": "code",
   "execution_count": 4,
   "metadata": {},
   "outputs": [],
   "source": [
    "import zipfile as zp\n",
    "import os\n",
    "import re"
   ]
  },
  {
   "cell_type": "markdown",
   "metadata": {},
   "source": [
    "#### **2. Reading files per state and then merging them into 1 (shorter time)**"
   ]
  },
  {
   "cell_type": "markdown",
   "metadata": {},
   "source": [
    "**2.1 Defining a function to read zip file**"
   ]
  },
  {
   "cell_type": "code",
   "execution_count": 5,
   "metadata": {},
   "outputs": [],
   "source": [
    "def combine_file(original_df, data_path, file_name, csv_file, **kwargs):\n",
    "    zf = zp.ZipFile(f'{data_path}/{file_name}')\n",
    "    new_df = pd.read_csv(zf.open(f\"{csv_file}\"))\n",
    "    \n",
    "    return pd.concat([original_df, new_df], ignore_index=True)"
   ]
  },
  {
   "cell_type": "markdown",
   "metadata": {},
   "source": [
    "**2.2 Reading zip files per state**"
   ]
  },
  {
   "cell_type": "code",
   "execution_count": 79,
   "metadata": {},
   "outputs": [
    {
     "data": {
      "text/plain": [
       "(874069, 23)"
      ]
     },
     "execution_count": 79,
     "metadata": {},
     "output_type": "execute_result"
    }
   ],
   "source": [
    "combined_ATL_df = pd.DataFrame()\n",
    "\n",
    "path = 'itineraries_csv/ATL'\n",
    "\n",
    "files_name = list(set(os.listdir(f\"{path}\")))\n",
    "files_name = [file for file in files_name if file.endswith('zip')]\n",
    "\n",
    "for i, file_name in enumerate(files_name):\n",
    "    csv_file_name = re.sub('.zip', '.csv', file_name)\n",
    "    combined_ATL_df = combine_file(\n",
    "        original_df = combined_ATL_df,\n",
    "        data_path = path,\n",
    "        file_name = file_name,\n",
    "        csv_file = csv_file_name\n",
    "    )\n",
    "\n",
    "combined_ATL_df.shape"
   ]
  },
  {
   "cell_type": "code",
   "execution_count": 82,
   "metadata": {},
   "outputs": [
    {
     "data": {
      "text/plain": [
       "(989175, 23)"
      ]
     },
     "execution_count": 82,
     "metadata": {},
     "output_type": "execute_result"
    }
   ],
   "source": [
    "combined_BOS_df = pd.DataFrame()\n",
    "\n",
    "path = 'itineraries_csv/BOS'\n",
    "\n",
    "files_name = list(set(os.listdir(f\"{path}\")))\n",
    "files_name = [file for file in files_name if file.endswith('zip')]\n",
    "\n",
    "for i, file_name in enumerate(files_name):\n",
    "    csv_file_name = re.sub('.zip', '.csv', file_name)\n",
    "    combined_BOS_df = combine_file(\n",
    "        original_df = combined_BOS_df,\n",
    "        data_path = path,\n",
    "        file_name = file_name,\n",
    "        csv_file = csv_file_name\n",
    "    )\n",
    "\n",
    "combined_BOS_df.shape"
   ]
  },
  {
   "cell_type": "code",
   "execution_count": 83,
   "metadata": {},
   "outputs": [
    {
     "data": {
      "text/plain": [
       "(854536, 23)"
      ]
     },
     "execution_count": 83,
     "metadata": {},
     "output_type": "execute_result"
    }
   ],
   "source": [
    "combined_CLT_df = pd.DataFrame()\n",
    "\n",
    "path = 'itineraries_csv/CLT'\n",
    "\n",
    "files_name = list(set(os.listdir(f\"{path}\")))\n",
    "files_name = [file for file in files_name if file.endswith('zip')]\n",
    "\n",
    "for i, file_name in enumerate(files_name):\n",
    "    csv_file_name = re.sub('.zip', '.csv', file_name)\n",
    "    combined_CLT_df = combine_file(\n",
    "        original_df = combined_CLT_df,\n",
    "        data_path = path,\n",
    "        file_name = file_name,\n",
    "        csv_file = csv_file_name\n",
    "    )\n",
    "\n",
    "combined_CLT_df.shape"
   ]
  },
  {
   "cell_type": "code",
   "execution_count": 84,
   "metadata": {},
   "outputs": [
    {
     "data": {
      "text/plain": [
       "(770429, 23)"
      ]
     },
     "execution_count": 84,
     "metadata": {},
     "output_type": "execute_result"
    }
   ],
   "source": [
    "combined_DEN_df = pd.DataFrame()\n",
    "\n",
    "path = 'itineraries_csv/DEN'\n",
    "\n",
    "files_name = list(set(os.listdir(f\"{path}\")))\n",
    "files_name = [file for file in files_name if file.endswith('zip')]\n",
    "\n",
    "for i, file_name in enumerate(files_name):\n",
    "    csv_file_name = re.sub('.zip', '.csv', file_name)\n",
    "    combined_DEN_df = combine_file(\n",
    "        original_df = combined_DEN_df,\n",
    "        data_path = path,\n",
    "        file_name = file_name,\n",
    "        csv_file = csv_file_name\n",
    "    )\n",
    "\n",
    "combined_DEN_df.shape"
   ]
  },
  {
   "cell_type": "code",
   "execution_count": 85,
   "metadata": {},
   "outputs": [
    {
     "data": {
      "text/plain": [
       "(896596, 23)"
      ]
     },
     "execution_count": 85,
     "metadata": {},
     "output_type": "execute_result"
    }
   ],
   "source": [
    "combined_DFW_df = pd.DataFrame()\n",
    "\n",
    "path = 'itineraries_csv/DFW'\n",
    "\n",
    "files_name = list(set(os.listdir(f\"{path}\")))\n",
    "files_name = [file for file in files_name if file.endswith('zip')]\n",
    "\n",
    "for i, file_name in enumerate(files_name):\n",
    "    csv_file_name = re.sub('.zip', '.csv', file_name)\n",
    "    combined_DFW_df = combine_file(\n",
    "        original_df = combined_DFW_df,\n",
    "        data_path = path,\n",
    "        file_name = file_name,\n",
    "        csv_file = csv_file_name\n",
    "    )\n",
    "\n",
    "combined_DFW_df.shape"
   ]
  },
  {
   "cell_type": "code",
   "execution_count": 86,
   "metadata": {},
   "outputs": [
    {
     "data": {
      "text/plain": [
       "(747751, 23)"
      ]
     },
     "execution_count": 86,
     "metadata": {},
     "output_type": "execute_result"
    }
   ],
   "source": [
    "combined_DTW_df = pd.DataFrame()\n",
    "\n",
    "path = 'itineraries_csv/DTW'\n",
    "\n",
    "files_name = list(set(os.listdir(f\"{path}\")))\n",
    "files_name = [file for file in files_name if file.endswith('zip')]\n",
    "\n",
    "for i, file_name in enumerate(files_name):\n",
    "    csv_file_name = re.sub('.zip', '.csv', file_name)\n",
    "    combined_DTW_df = combine_file(\n",
    "        original_df = combined_DTW_df,\n",
    "        data_path = path,\n",
    "        file_name = file_name,\n",
    "        csv_file = csv_file_name\n",
    "    )\n",
    "\n",
    "combined_DTW_df.shape"
   ]
  },
  {
   "cell_type": "code",
   "execution_count": 87,
   "metadata": {},
   "outputs": [
    {
     "data": {
      "text/plain": [
       "(699628, 23)"
      ]
     },
     "execution_count": 87,
     "metadata": {},
     "output_type": "execute_result"
    }
   ],
   "source": [
    "combined_EWR_df = pd.DataFrame()\n",
    "\n",
    "path = 'itineraries_csv/EWR'\n",
    "\n",
    "files_name = list(set(os.listdir(f\"{path}\")))\n",
    "files_name = [file for file in files_name if file.endswith('zip')]\n",
    "\n",
    "for i, file_name in enumerate(files_name):\n",
    "    csv_file_name = re.sub('.zip', '.csv', file_name)\n",
    "    combined_EWR_df = combine_file(\n",
    "        original_df = combined_EWR_df,\n",
    "        data_path = path,\n",
    "        file_name = file_name,\n",
    "        csv_file = csv_file_name\n",
    "    )\n",
    "\n",
    "combined_EWR_df.shape"
   ]
  },
  {
   "cell_type": "code",
   "execution_count": 88,
   "metadata": {},
   "outputs": [
    {
     "data": {
      "text/plain": [
       "(594215, 23)"
      ]
     },
     "execution_count": 88,
     "metadata": {},
     "output_type": "execute_result"
    }
   ],
   "source": [
    "combined_IAD_df = pd.DataFrame()\n",
    "\n",
    "path = 'itineraries_csv/IAD'\n",
    "\n",
    "files_name = list(set(os.listdir(f\"{path}\")))\n",
    "files_name = [file for file in files_name if file.endswith('zip')]\n",
    "\n",
    "for i, file_name in enumerate(files_name):\n",
    "    csv_file_name = re.sub('.zip', '.csv', file_name)\n",
    "    combined_IAD_df = combine_file(\n",
    "        original_df = combined_IAD_df,\n",
    "        data_path = path,\n",
    "        file_name = file_name,\n",
    "        csv_file = csv_file_name\n",
    "    )\n",
    "\n",
    "combined_IAD_df.shape"
   ]
  },
  {
   "cell_type": "code",
   "execution_count": 89,
   "metadata": {},
   "outputs": [
    {
     "data": {
      "text/plain": [
       "(688263, 23)"
      ]
     },
     "execution_count": 89,
     "metadata": {},
     "output_type": "execute_result"
    }
   ],
   "source": [
    "combined_JFK_df = pd.DataFrame()\n",
    "\n",
    "path = 'itineraries_csv/JFK'\n",
    "\n",
    "files_name = list(set(os.listdir(f\"{path}\")))\n",
    "files_name = [file for file in files_name if file.endswith('zip')]\n",
    "\n",
    "for i, file_name in enumerate(files_name):\n",
    "    csv_file_name = re.sub('.zip', '.csv', file_name)\n",
    "    combined_JFK_df = combine_file(\n",
    "        original_df = combined_JFK_df,\n",
    "        data_path = path,\n",
    "        file_name = file_name,\n",
    "        csv_file = csv_file_name\n",
    "    )\n",
    "\n",
    "combined_JFK_df.shape"
   ]
  },
  {
   "cell_type": "code",
   "execution_count": 90,
   "metadata": {},
   "outputs": [
    {
     "data": {
      "text/plain": [
       "(1352275, 23)"
      ]
     },
     "execution_count": 90,
     "metadata": {},
     "output_type": "execute_result"
    }
   ],
   "source": [
    "combined_LAX_df = pd.DataFrame()\n",
    "\n",
    "path = 'itineraries_csv/LAX'\n",
    "\n",
    "files_name = list(set(os.listdir(f\"{path}\")))\n",
    "files_name = [file for file in files_name if file.endswith('zip')]\n",
    "\n",
    "for i, file_name in enumerate(files_name):\n",
    "    csv_file_name = re.sub('.zip', '.csv', file_name)\n",
    "    combined_LAX_df = combine_file(\n",
    "        original_df = combined_LAX_df,\n",
    "        data_path = path,\n",
    "        file_name = file_name,\n",
    "        csv_file = csv_file_name\n",
    "    )\n",
    "\n",
    "combined_LAX_df.shape"
   ]
  },
  {
   "cell_type": "code",
   "execution_count": 91,
   "metadata": {},
   "outputs": [
    {
     "data": {
      "text/plain": [
       "(1021938, 23)"
      ]
     },
     "execution_count": 91,
     "metadata": {},
     "output_type": "execute_result"
    }
   ],
   "source": [
    "combined_LGA_df = pd.DataFrame()\n",
    "\n",
    "path = 'itineraries_csv/LGA'\n",
    "\n",
    "files_name = list(set(os.listdir(f\"{path}\")))\n",
    "files_name = [file for file in files_name if file.endswith('zip')]\n",
    "\n",
    "for i, file_name in enumerate(files_name):\n",
    "    csv_file_name = re.sub('.zip', '.csv', file_name)\n",
    "    combined_LGA_df = combine_file(\n",
    "        original_df = combined_LGA_df,\n",
    "        data_path = path,\n",
    "        file_name = file_name,\n",
    "        csv_file = csv_file_name\n",
    "    )\n",
    "\n",
    "combined_LGA_df.shape"
   ]
  },
  {
   "cell_type": "code",
   "execution_count": 92,
   "metadata": {},
   "outputs": [
    {
     "data": {
      "text/plain": [
       "(875288, 23)"
      ]
     },
     "execution_count": 92,
     "metadata": {},
     "output_type": "execute_result"
    }
   ],
   "source": [
    "combined_MIA_df = pd.DataFrame()\n",
    "\n",
    "path = 'itineraries_csv/MIA'\n",
    "\n",
    "files_name = list(set(os.listdir(f\"{path}\")))\n",
    "files_name = [file for file in files_name if file.endswith('zip')]\n",
    "\n",
    "for i, file_name in enumerate(files_name):\n",
    "    csv_file_name = re.sub('.zip', '.csv', file_name)\n",
    "    combined_MIA_df = combine_file(\n",
    "        original_df = combined_MIA_df,\n",
    "        data_path = path,\n",
    "        file_name = file_name,\n",
    "        csv_file = csv_file_name\n",
    "    )\n",
    "\n",
    "combined_MIA_df.shape"
   ]
  },
  {
   "cell_type": "code",
   "execution_count": 93,
   "metadata": {},
   "outputs": [
    {
     "data": {
      "text/plain": [
       "(527105, 23)"
      ]
     },
     "execution_count": 93,
     "metadata": {},
     "output_type": "execute_result"
    }
   ],
   "source": [
    "combined_OAK_df = pd.DataFrame()\n",
    "\n",
    "path = 'itineraries_csv/OAK'\n",
    "\n",
    "files_name = list(set(os.listdir(f\"{path}\")))\n",
    "files_name = [file for file in files_name if file.endswith('zip')]\n",
    "\n",
    "for i, file_name in enumerate(files_name):\n",
    "    csv_file_name = re.sub('.zip', '.csv', file_name)\n",
    "    combined_OAK_df = combine_file(\n",
    "        original_df = combined_OAK_df,\n",
    "        data_path = path,\n",
    "        file_name = file_name,\n",
    "        csv_file = csv_file_name\n",
    "    )\n",
    "\n",
    "combined_OAK_df.shape"
   ]
  },
  {
   "cell_type": "code",
   "execution_count": 94,
   "metadata": {},
   "outputs": [
    {
     "data": {
      "text/plain": [
       "(894646, 23)"
      ]
     },
     "execution_count": 94,
     "metadata": {},
     "output_type": "execute_result"
    }
   ],
   "source": [
    "combined_ORD_df = pd.DataFrame()\n",
    "\n",
    "path = 'itineraries_csv/ORD'\n",
    "\n",
    "files_name = list(set(os.listdir(f\"{path}\")))\n",
    "files_name = [file for file in files_name if file.endswith('zip')]\n",
    "\n",
    "for i, file_name in enumerate(files_name):\n",
    "    csv_file_name = re.sub('.zip', '.csv', file_name)\n",
    "    combined_ORD_df = combine_file(\n",
    "        original_df = combined_ORD_df,\n",
    "        data_path = path,\n",
    "        file_name = file_name,\n",
    "        csv_file = csv_file_name\n",
    "    )\n",
    "\n",
    "combined_ORD_df.shape"
   ]
  },
  {
   "cell_type": "code",
   "execution_count": 95,
   "metadata": {},
   "outputs": [
    {
     "data": {
      "text/plain": [
       "(785039, 23)"
      ]
     },
     "execution_count": 95,
     "metadata": {},
     "output_type": "execute_result"
    }
   ],
   "source": [
    "combined_PHL_df = pd.DataFrame()\n",
    "\n",
    "path = 'itineraries_csv/PHL'\n",
    "\n",
    "files_name = list(set(os.listdir(f\"{path}\")))\n",
    "files_name = [file for file in files_name if file.endswith('zip')]\n",
    "\n",
    "for i, file_name in enumerate(files_name):\n",
    "    csv_file_name = re.sub('.zip', '.csv', file_name)\n",
    "    combined_PHL_df = combine_file(\n",
    "        original_df = combined_PHL_df,\n",
    "        data_path = path,\n",
    "        file_name = file_name,\n",
    "        csv_file = csv_file_name\n",
    "    )\n",
    "\n",
    "combined_PHL_df.shape"
   ]
  },
  {
   "cell_type": "code",
   "execution_count": 96,
   "metadata": {},
   "outputs": [
    {
     "data": {
      "text/plain": [
       "(949046, 23)"
      ]
     },
     "execution_count": 96,
     "metadata": {},
     "output_type": "execute_result"
    }
   ],
   "source": [
    "combined_SFO_df = pd.DataFrame()\n",
    "\n",
    "path = 'itineraries_csv/SFO'\n",
    "\n",
    "files_name = list(set(os.listdir(f\"{path}\")))\n",
    "files_name = [file for file in files_name if file.endswith('zip')]\n",
    "\n",
    "for i, file_name in enumerate(files_name):\n",
    "    csv_file_name = re.sub('.zip', '.csv', file_name)\n",
    "    combined_SFO_df = combine_file(\n",
    "        original_df = combined_SFO_df,\n",
    "        data_path = path,\n",
    "        file_name = file_name,\n",
    "        csv_file = csv_file_name\n",
    "    )\n",
    "\n",
    "combined_SFO_df.shape"
   ]
  },
  {
   "cell_type": "markdown",
   "metadata": {},
   "source": [
    "**2.3 Combining all dataframes**"
   ]
  },
  {
   "cell_type": "code",
   "execution_count": 97,
   "metadata": {},
   "outputs": [],
   "source": [
    "new_combined_df = pd.concat([combined_ATL_df, combined_BOS_df, combined_CLT_df, combined_DEN_df, combined_DFW_df, combined_DTW_df, combined_EWR_df, combined_IAD_df, combined_JFK_df, combined_LAX_df, combined_LGA_df, combined_MIA_df, combined_OAK_df, combined_ORD_df, combined_PHL_df, combined_SFO_df], ignore_index=True)"
   ]
  },
  {
   "cell_type": "code",
   "execution_count": 99,
   "metadata": {},
   "outputs": [
    {
     "data": {
      "text/html": [
       "<div>\n",
       "<style scoped>\n",
       "    .dataframe tbody tr th:only-of-type {\n",
       "        vertical-align: middle;\n",
       "    }\n",
       "\n",
       "    .dataframe tbody tr th {\n",
       "        vertical-align: top;\n",
       "    }\n",
       "\n",
       "    .dataframe thead th {\n",
       "        text-align: right;\n",
       "    }\n",
       "</style>\n",
       "<table border=\"1\" class=\"dataframe\">\n",
       "  <thead>\n",
       "    <tr style=\"text-align: right;\">\n",
       "      <th></th>\n",
       "      <th>legId</th>\n",
       "      <th>searchDate</th>\n",
       "      <th>flightDate</th>\n",
       "      <th>startingAirport</th>\n",
       "      <th>destinationAirport</th>\n",
       "      <th>travelDuration</th>\n",
       "      <th>isBasicEconomy</th>\n",
       "      <th>isRefundable</th>\n",
       "      <th>isNonStop</th>\n",
       "      <th>totalFare</th>\n",
       "      <th>...</th>\n",
       "      <th>segmentsArrivalTimeEpochSeconds</th>\n",
       "      <th>segmentsArrivalTimeRaw</th>\n",
       "      <th>segmentsArrivalAirportCode</th>\n",
       "      <th>segmentsDepartureAirportCode</th>\n",
       "      <th>segmentsAirlineName</th>\n",
       "      <th>segmentsAirlineCode</th>\n",
       "      <th>segmentsEquipmentDescription</th>\n",
       "      <th>segmentsDurationInSeconds</th>\n",
       "      <th>segmentsDistance</th>\n",
       "      <th>segmentsCabinCode</th>\n",
       "    </tr>\n",
       "  </thead>\n",
       "  <tbody>\n",
       "    <tr>\n",
       "      <th>0</th>\n",
       "      <td>f53eb83f7a496ad0cab7e1e24170cd67</td>\n",
       "      <td>2022-04-23</td>\n",
       "      <td>2022-06-17</td>\n",
       "      <td>ATL</td>\n",
       "      <td>BOS</td>\n",
       "      <td>PT10H16M</td>\n",
       "      <td>False</td>\n",
       "      <td>False</td>\n",
       "      <td>False</td>\n",
       "      <td>159.59</td>\n",
       "      <td>...</td>\n",
       "      <td>1655522400||1655551560</td>\n",
       "      <td>2022-06-17T23:20:00.000-04:00||2022-06-18T07:2...</td>\n",
       "      <td>PHL||BOS</td>\n",
       "      <td>ATL||PHL</td>\n",
       "      <td>Frontier Airlines||Frontier Airlines</td>\n",
       "      <td>F9||F9</td>\n",
       "      <td>||</td>\n",
       "      <td>7800||5160</td>\n",
       "      <td>667||280</td>\n",
       "      <td>coach||coach</td>\n",
       "    </tr>\n",
       "    <tr>\n",
       "      <th>1</th>\n",
       "      <td>11bb0698de5fac38e0e6e6fa021e464c</td>\n",
       "      <td>2022-04-23</td>\n",
       "      <td>2022-06-17</td>\n",
       "      <td>ATL</td>\n",
       "      <td>BOS</td>\n",
       "      <td>PT2H43M</td>\n",
       "      <td>True</td>\n",
       "      <td>False</td>\n",
       "      <td>True</td>\n",
       "      <td>173.60</td>\n",
       "      <td>...</td>\n",
       "      <td>1655519880</td>\n",
       "      <td>2022-06-17T22:38:00.000-04:00</td>\n",
       "      <td>BOS</td>\n",
       "      <td>ATL</td>\n",
       "      <td>Delta</td>\n",
       "      <td>DL</td>\n",
       "      <td>Airbus A321</td>\n",
       "      <td>9780</td>\n",
       "      <td>947</td>\n",
       "      <td>coach</td>\n",
       "    </tr>\n",
       "    <tr>\n",
       "      <th>2</th>\n",
       "      <td>88abbf9668299dd02cf088478c0d96e4</td>\n",
       "      <td>2022-04-23</td>\n",
       "      <td>2022-06-17</td>\n",
       "      <td>ATL</td>\n",
       "      <td>BOS</td>\n",
       "      <td>PT9H6M</td>\n",
       "      <td>False</td>\n",
       "      <td>False</td>\n",
       "      <td>False</td>\n",
       "      <td>181.58</td>\n",
       "      <td>...</td>\n",
       "      <td>1655499840||1655525460</td>\n",
       "      <td>2022-06-17T17:04:00.000-04:00||2022-06-18T00:1...</td>\n",
       "      <td>FLL||BOS</td>\n",
       "      <td>ATL||FLL</td>\n",
       "      <td>Spirit Airlines||Spirit Airlines</td>\n",
       "      <td>NK||NK</td>\n",
       "      <td>||</td>\n",
       "      <td>7140||11760</td>\n",
       "      <td>None||None</td>\n",
       "      <td>coach||coach</td>\n",
       "    </tr>\n",
       "    <tr>\n",
       "      <th>3</th>\n",
       "      <td>349da8c04a975a46350cce6c7012a05a</td>\n",
       "      <td>2022-04-23</td>\n",
       "      <td>2022-06-17</td>\n",
       "      <td>ATL</td>\n",
       "      <td>BOS</td>\n",
       "      <td>PT5H8M</td>\n",
       "      <td>False</td>\n",
       "      <td>False</td>\n",
       "      <td>False</td>\n",
       "      <td>216.61</td>\n",
       "      <td>...</td>\n",
       "      <td>1655472540||1655482920</td>\n",
       "      <td>2022-06-17T09:29:00.000-04:00||2022-06-17T12:2...</td>\n",
       "      <td>JFK||BOS</td>\n",
       "      <td>ATL||JFK</td>\n",
       "      <td>JetBlue Airways||JetBlue Airways</td>\n",
       "      <td>B6||B6</td>\n",
       "      <td>Airbus A320||Embraer 190</td>\n",
       "      <td>8100||4380</td>\n",
       "      <td>762||185</td>\n",
       "      <td>coach||coach</td>\n",
       "    </tr>\n",
       "    <tr>\n",
       "      <th>4</th>\n",
       "      <td>377d4ac77ef045e4da5e5bf8ac232d3b</td>\n",
       "      <td>2022-04-23</td>\n",
       "      <td>2022-06-17</td>\n",
       "      <td>ATL</td>\n",
       "      <td>BOS</td>\n",
       "      <td>PT2H38M</td>\n",
       "      <td>False</td>\n",
       "      <td>False</td>\n",
       "      <td>True</td>\n",
       "      <td>218.60</td>\n",
       "      <td>...</td>\n",
       "      <td>1655524380</td>\n",
       "      <td>2022-06-17T23:53:00.000-04:00</td>\n",
       "      <td>BOS</td>\n",
       "      <td>ATL</td>\n",
       "      <td>Delta</td>\n",
       "      <td>DL</td>\n",
       "      <td>Boeing 737-800</td>\n",
       "      <td>9480</td>\n",
       "      <td>947</td>\n",
       "      <td>coach</td>\n",
       "    </tr>\n",
       "    <tr>\n",
       "      <th>...</th>\n",
       "      <td>...</td>\n",
       "      <td>...</td>\n",
       "      <td>...</td>\n",
       "      <td>...</td>\n",
       "      <td>...</td>\n",
       "      <td>...</td>\n",
       "      <td>...</td>\n",
       "      <td>...</td>\n",
       "      <td>...</td>\n",
       "      <td>...</td>\n",
       "      <td>...</td>\n",
       "      <td>...</td>\n",
       "      <td>...</td>\n",
       "      <td>...</td>\n",
       "      <td>...</td>\n",
       "      <td>...</td>\n",
       "      <td>...</td>\n",
       "      <td>...</td>\n",
       "      <td>...</td>\n",
       "      <td>...</td>\n",
       "      <td>...</td>\n",
       "    </tr>\n",
       "    <tr>\n",
       "      <th>13519994</th>\n",
       "      <td>fe5551b966d58579b7a829b5870603b1</td>\n",
       "      <td>2022-05-13</td>\n",
       "      <td>2022-05-27</td>\n",
       "      <td>SFO</td>\n",
       "      <td>PHL</td>\n",
       "      <td>PT10H36M</td>\n",
       "      <td>False</td>\n",
       "      <td>False</td>\n",
       "      <td>False</td>\n",
       "      <td>962.20</td>\n",
       "      <td>...</td>\n",
       "      <td>1653683700||1653701340</td>\n",
       "      <td>2022-05-27T16:35:00.000-04:00||2022-05-27T21:2...</td>\n",
       "      <td>EWR||PHL</td>\n",
       "      <td>SFO||EWR</td>\n",
       "      <td>Alaska Airlines||United</td>\n",
       "      <td>AS||UA</td>\n",
       "      <td>Boeing 737-900||Embraer 175 (Enhanced Winglets)</td>\n",
       "      <td>20520||2880</td>\n",
       "      <td>2566||97</td>\n",
       "      <td>coach||coach</td>\n",
       "    </tr>\n",
       "    <tr>\n",
       "      <th>13519995</th>\n",
       "      <td>215bee5a2bd73e9161b2c827478d8baf</td>\n",
       "      <td>2022-05-13</td>\n",
       "      <td>2022-05-27</td>\n",
       "      <td>SFO</td>\n",
       "      <td>PHL</td>\n",
       "      <td>PT9H40M</td>\n",
       "      <td>False</td>\n",
       "      <td>False</td>\n",
       "      <td>False</td>\n",
       "      <td>1007.86</td>\n",
       "      <td>...</td>\n",
       "      <td>1653740460||1653754500</td>\n",
       "      <td>2022-05-28T08:21:00.000-04:00||2022-05-28T12:1...</td>\n",
       "      <td>BOS||PHL</td>\n",
       "      <td>SFO||BOS</td>\n",
       "      <td>JetBlue Airways||JetBlue Airways</td>\n",
       "      <td>B6||B6</td>\n",
       "      <td>Airbus A319-321||Embraer 190</td>\n",
       "      <td>20760||5700</td>\n",
       "      <td>2698||280</td>\n",
       "      <td>coach||coach</td>\n",
       "    </tr>\n",
       "    <tr>\n",
       "      <th>13519996</th>\n",
       "      <td>89a8e9b241a85502744c6db56f85a310</td>\n",
       "      <td>2022-05-13</td>\n",
       "      <td>2022-05-27</td>\n",
       "      <td>SFO</td>\n",
       "      <td>PHL</td>\n",
       "      <td>PT11H45M</td>\n",
       "      <td>False</td>\n",
       "      <td>False</td>\n",
       "      <td>False</td>\n",
       "      <td>1013.46</td>\n",
       "      <td>...</td>\n",
       "      <td>1653732780||1653754500</td>\n",
       "      <td>2022-05-28T06:13:00.000-04:00||2022-05-28T12:1...</td>\n",
       "      <td>BOS||PHL</td>\n",
       "      <td>SFO||BOS</td>\n",
       "      <td>JetBlue Airways||JetBlue Airways</td>\n",
       "      <td>B6||B6</td>\n",
       "      <td>Airbus A319-321||Embraer 190</td>\n",
       "      <td>20580||5700</td>\n",
       "      <td>2698||280</td>\n",
       "      <td>coach||coach</td>\n",
       "    </tr>\n",
       "    <tr>\n",
       "      <th>13519997</th>\n",
       "      <td>3ed6e422ed3c561e7ab3c073a0a7cbfb</td>\n",
       "      <td>2022-05-13</td>\n",
       "      <td>2022-05-27</td>\n",
       "      <td>SFO</td>\n",
       "      <td>PHL</td>\n",
       "      <td>PT6H48M</td>\n",
       "      <td>False</td>\n",
       "      <td>False</td>\n",
       "      <td>False</td>\n",
       "      <td>1133.10</td>\n",
       "      <td>...</td>\n",
       "      <td>1653667800||1653682920</td>\n",
       "      <td>2022-05-27T10:10:00.000-06:00||2022-05-27T16:2...</td>\n",
       "      <td>DEN||PHL</td>\n",
       "      <td>SFO||DEN</td>\n",
       "      <td>United||United</td>\n",
       "      <td>UA||UA</td>\n",
       "      <td>Boeing 737-800||Boeing 737-800</td>\n",
       "      <td>9360||12540</td>\n",
       "      <td>954||1567</td>\n",
       "      <td>premium coach||premium coach</td>\n",
       "    </tr>\n",
       "    <tr>\n",
       "      <th>13519998</th>\n",
       "      <td>d79d94757127799c42018b584233155a</td>\n",
       "      <td>2022-05-13</td>\n",
       "      <td>2022-05-27</td>\n",
       "      <td>SFO</td>\n",
       "      <td>PHL</td>\n",
       "      <td>PT8H30M</td>\n",
       "      <td>False</td>\n",
       "      <td>False</td>\n",
       "      <td>False</td>\n",
       "      <td>1202.00</td>\n",
       "      <td>...</td>\n",
       "      <td>1653709380||1653732000</td>\n",
       "      <td>2022-05-27T20:43:00.000-07:00||2022-05-28T06:0...</td>\n",
       "      <td>SEA||PHL</td>\n",
       "      <td>SFO||SEA</td>\n",
       "      <td>Alaska Airlines||Alaska Airlines</td>\n",
       "      <td>AS||AS</td>\n",
       "      <td>AIRBUS INDUSTRIE A321 SHARKLETS||Boeing 737-900</td>\n",
       "      <td>7980||18600</td>\n",
       "      <td>679||2372</td>\n",
       "      <td>coach||coach</td>\n",
       "    </tr>\n",
       "  </tbody>\n",
       "</table>\n",
       "<p>13519999 rows × 23 columns</p>\n",
       "</div>"
      ],
      "text/plain": [
       "                                     legId  searchDate  flightDate   \n",
       "0         f53eb83f7a496ad0cab7e1e24170cd67  2022-04-23  2022-06-17  \\\n",
       "1         11bb0698de5fac38e0e6e6fa021e464c  2022-04-23  2022-06-17   \n",
       "2         88abbf9668299dd02cf088478c0d96e4  2022-04-23  2022-06-17   \n",
       "3         349da8c04a975a46350cce6c7012a05a  2022-04-23  2022-06-17   \n",
       "4         377d4ac77ef045e4da5e5bf8ac232d3b  2022-04-23  2022-06-17   \n",
       "...                                    ...         ...         ...   \n",
       "13519994  fe5551b966d58579b7a829b5870603b1  2022-05-13  2022-05-27   \n",
       "13519995  215bee5a2bd73e9161b2c827478d8baf  2022-05-13  2022-05-27   \n",
       "13519996  89a8e9b241a85502744c6db56f85a310  2022-05-13  2022-05-27   \n",
       "13519997  3ed6e422ed3c561e7ab3c073a0a7cbfb  2022-05-13  2022-05-27   \n",
       "13519998  d79d94757127799c42018b584233155a  2022-05-13  2022-05-27   \n",
       "\n",
       "         startingAirport destinationAirport travelDuration  isBasicEconomy   \n",
       "0                    ATL                BOS       PT10H16M           False  \\\n",
       "1                    ATL                BOS        PT2H43M            True   \n",
       "2                    ATL                BOS         PT9H6M           False   \n",
       "3                    ATL                BOS         PT5H8M           False   \n",
       "4                    ATL                BOS        PT2H38M           False   \n",
       "...                  ...                ...            ...             ...   \n",
       "13519994             SFO                PHL       PT10H36M           False   \n",
       "13519995             SFO                PHL        PT9H40M           False   \n",
       "13519996             SFO                PHL       PT11H45M           False   \n",
       "13519997             SFO                PHL        PT6H48M           False   \n",
       "13519998             SFO                PHL        PT8H30M           False   \n",
       "\n",
       "          isRefundable  isNonStop  totalFare  ...   \n",
       "0                False      False     159.59  ...  \\\n",
       "1                False       True     173.60  ...   \n",
       "2                False      False     181.58  ...   \n",
       "3                False      False     216.61  ...   \n",
       "4                False       True     218.60  ...   \n",
       "...                ...        ...        ...  ...   \n",
       "13519994         False      False     962.20  ...   \n",
       "13519995         False      False    1007.86  ...   \n",
       "13519996         False      False    1013.46  ...   \n",
       "13519997         False      False    1133.10  ...   \n",
       "13519998         False      False    1202.00  ...   \n",
       "\n",
       "          segmentsArrivalTimeEpochSeconds   \n",
       "0                  1655522400||1655551560  \\\n",
       "1                              1655519880   \n",
       "2                  1655499840||1655525460   \n",
       "3                  1655472540||1655482920   \n",
       "4                              1655524380   \n",
       "...                                   ...   \n",
       "13519994           1653683700||1653701340   \n",
       "13519995           1653740460||1653754500   \n",
       "13519996           1653732780||1653754500   \n",
       "13519997           1653667800||1653682920   \n",
       "13519998           1653709380||1653732000   \n",
       "\n",
       "                                     segmentsArrivalTimeRaw   \n",
       "0         2022-06-17T23:20:00.000-04:00||2022-06-18T07:2...  \\\n",
       "1                             2022-06-17T22:38:00.000-04:00   \n",
       "2         2022-06-17T17:04:00.000-04:00||2022-06-18T00:1...   \n",
       "3         2022-06-17T09:29:00.000-04:00||2022-06-17T12:2...   \n",
       "4                             2022-06-17T23:53:00.000-04:00   \n",
       "...                                                     ...   \n",
       "13519994  2022-05-27T16:35:00.000-04:00||2022-05-27T21:2...   \n",
       "13519995  2022-05-28T08:21:00.000-04:00||2022-05-28T12:1...   \n",
       "13519996  2022-05-28T06:13:00.000-04:00||2022-05-28T12:1...   \n",
       "13519997  2022-05-27T10:10:00.000-06:00||2022-05-27T16:2...   \n",
       "13519998  2022-05-27T20:43:00.000-07:00||2022-05-28T06:0...   \n",
       "\n",
       "         segmentsArrivalAirportCode segmentsDepartureAirportCode   \n",
       "0                          PHL||BOS                     ATL||PHL  \\\n",
       "1                               BOS                          ATL   \n",
       "2                          FLL||BOS                     ATL||FLL   \n",
       "3                          JFK||BOS                     ATL||JFK   \n",
       "4                               BOS                          ATL   \n",
       "...                             ...                          ...   \n",
       "13519994                   EWR||PHL                     SFO||EWR   \n",
       "13519995                   BOS||PHL                     SFO||BOS   \n",
       "13519996                   BOS||PHL                     SFO||BOS   \n",
       "13519997                   DEN||PHL                     SFO||DEN   \n",
       "13519998                   SEA||PHL                     SFO||SEA   \n",
       "\n",
       "                           segmentsAirlineName segmentsAirlineCode   \n",
       "0         Frontier Airlines||Frontier Airlines              F9||F9  \\\n",
       "1                                        Delta                  DL   \n",
       "2             Spirit Airlines||Spirit Airlines              NK||NK   \n",
       "3             JetBlue Airways||JetBlue Airways              B6||B6   \n",
       "4                                        Delta                  DL   \n",
       "...                                        ...                 ...   \n",
       "13519994               Alaska Airlines||United              AS||UA   \n",
       "13519995      JetBlue Airways||JetBlue Airways              B6||B6   \n",
       "13519996      JetBlue Airways||JetBlue Airways              B6||B6   \n",
       "13519997                        United||United              UA||UA   \n",
       "13519998      Alaska Airlines||Alaska Airlines              AS||AS   \n",
       "\n",
       "                             segmentsEquipmentDescription   \n",
       "0                                                      ||  \\\n",
       "1                                             Airbus A321   \n",
       "2                                                      ||   \n",
       "3                                Airbus A320||Embraer 190   \n",
       "4                                          Boeing 737-800   \n",
       "...                                                   ...   \n",
       "13519994  Boeing 737-900||Embraer 175 (Enhanced Winglets)   \n",
       "13519995                     Airbus A319-321||Embraer 190   \n",
       "13519996                     Airbus A319-321||Embraer 190   \n",
       "13519997                   Boeing 737-800||Boeing 737-800   \n",
       "13519998  AIRBUS INDUSTRIE A321 SHARKLETS||Boeing 737-900   \n",
       "\n",
       "         segmentsDurationInSeconds segmentsDistance   \n",
       "0                       7800||5160         667||280  \\\n",
       "1                             9780              947   \n",
       "2                      7140||11760       None||None   \n",
       "3                       8100||4380         762||185   \n",
       "4                             9480              947   \n",
       "...                            ...              ...   \n",
       "13519994               20520||2880         2566||97   \n",
       "13519995               20760||5700        2698||280   \n",
       "13519996               20580||5700        2698||280   \n",
       "13519997               9360||12540        954||1567   \n",
       "13519998               7980||18600        679||2372   \n",
       "\n",
       "                     segmentsCabinCode  \n",
       "0                         coach||coach  \n",
       "1                                coach  \n",
       "2                         coach||coach  \n",
       "3                         coach||coach  \n",
       "4                                coach  \n",
       "...                                ...  \n",
       "13519994                  coach||coach  \n",
       "13519995                  coach||coach  \n",
       "13519996                  coach||coach  \n",
       "13519997  premium coach||premium coach  \n",
       "13519998                  coach||coach  \n",
       "\n",
       "[13519999 rows x 23 columns]"
      ]
     },
     "execution_count": 99,
     "metadata": {},
     "output_type": "execute_result"
    }
   ],
   "source": [
    "new_combined_df"
   ]
  },
  {
   "cell_type": "markdown",
   "metadata": {},
   "source": [
    "**2.4 Saving dataframe to a csv file**"
   ]
  },
  {
   "cell_type": "code",
   "execution_count": 103,
   "metadata": {},
   "outputs": [],
   "source": [
    "new_combined_df.to_csv('combined_data.csv', index=False)"
   ]
  },
  {
   "cell_type": "markdown",
   "metadata": {},
   "source": [
    "#### **3. Reading all files and merging them in one go (takes longer)** "
   ]
  },
  {
   "cell_type": "code",
   "execution_count": 42,
   "metadata": {},
   "outputs": [],
   "source": [
    "folder_path = 'itineraries_csv'\n",
    "\n",
    "folder_name = list(set(os.listdir(f\"{folder_path}\")))\n",
    "folder_name.remove('.DS_Store')\n",
    "\n",
    "itineraries_path = list([folder_path + '/' + a for a in folder_name])"
   ]
  },
  {
   "cell_type": "code",
   "execution_count": null,
   "metadata": {},
   "outputs": [],
   "source": [
    "all_df = pd.DataFrame()\n",
    "\n",
    "for itinerary in itineraries_path:\n",
    "    path = itinerary\n",
    "\n",
    "    files_name = list(set(os.listdir(f\"{path}\")))\n",
    "    files_name = [file for file in files_name if file.endswith('zip')]\n",
    "\n",
    "    for i, file_name in enumerate(files_name):\n",
    "\n",
    "        csv_file_name = re.sub('.zip', '.csv', file_name)\n",
    "        all_df = combine_file(\n",
    "            original_df = all_df,\n",
    "            data_path = path,\n",
    "            file_name = file_name,\n",
    "            csv_file = csv_file_name\n",
    "        )"
   ]
  }
 ],
 "metadata": {
  "kernelspec": {
   "display_name": "Python 3 (ipykernel)",
   "language": "python",
   "name": "python3"
  },
  "language_info": {
   "codemirror_mode": {
    "name": "ipython",
    "version": 3
   },
   "file_extension": ".py",
   "mimetype": "text/x-python",
   "name": "python",
   "nbconvert_exporter": "python",
   "pygments_lexer": "ipython3",
   "version": "3.9.13"
  }
 },
 "nbformat": 4,
 "nbformat_minor": 2
}
